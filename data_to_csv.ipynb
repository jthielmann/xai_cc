{
 "cells": [
  {
   "cell_type": "code",
   "id": "f8e1553d-920f-48ab-ae19-5bb04d38f9ea",
   "metadata": {
    "ExecuteTime": {
     "end_time": "2024-06-27T09:17:06.259498Z",
     "start_time": "2024-06-27T09:17:05.324243Z"
    }
   },
   "source": [
    "import pandas as pd\n",
    "import anndata as ad\n",
    "import os\n",
    "import ntpath"
   ],
   "outputs": [],
   "execution_count": 1
  },
  {
   "cell_type": "code",
   "id": "494092a8-fa7f-4b3b-8566-6e746ad3e1b8",
   "metadata": {
    "ExecuteTime": {
     "end_time": "2024-06-27T09:17:06.344637Z",
     "start_time": "2024-06-27T09:17:06.261033Z"
    }
   },
   "source": [
    "data_dir = \"../Test_Data\"\n",
    "patients = [os.path.basename(f) for f in os.scandir(data_dir) if f.is_dir()]\n",
    "print(patients)\n",
    "gene = \"RUBCNL\"\n",
    "columns_of_interest = [\"tile\", gene]"
   ],
   "outputs": [
    {
     "ename": "FileNotFoundError",
     "evalue": "[Errno 2] No such file or directory: '../Test_Data'",
     "output_type": "error",
     "traceback": [
      "\u001B[0;31m---------------------------------------------------------------------------\u001B[0m",
      "\u001B[0;31mFileNotFoundError\u001B[0m                         Traceback (most recent call last)",
      "Cell \u001B[0;32mIn [2], line 2\u001B[0m\n\u001B[1;32m      1\u001B[0m data_dir \u001B[38;5;241m=\u001B[39m \u001B[38;5;124m\"\u001B[39m\u001B[38;5;124m../Test_Data\u001B[39m\u001B[38;5;124m\"\u001B[39m\n\u001B[0;32m----> 2\u001B[0m patients \u001B[38;5;241m=\u001B[39m [os\u001B[38;5;241m.\u001B[39mpath\u001B[38;5;241m.\u001B[39mbasename(f) \u001B[38;5;28;01mfor\u001B[39;00m f \u001B[38;5;129;01min\u001B[39;00m \u001B[43mos\u001B[49m\u001B[38;5;241;43m.\u001B[39;49m\u001B[43mscandir\u001B[49m\u001B[43m(\u001B[49m\u001B[43mdata_dir\u001B[49m\u001B[43m)\u001B[49m \u001B[38;5;28;01mif\u001B[39;00m f\u001B[38;5;241m.\u001B[39mis_dir()]\n\u001B[1;32m      3\u001B[0m \u001B[38;5;28mprint\u001B[39m(patients)\n\u001B[1;32m      4\u001B[0m gene \u001B[38;5;241m=\u001B[39m \u001B[38;5;124m\"\u001B[39m\u001B[38;5;124mRUBCNL\u001B[39m\u001B[38;5;124m\"\u001B[39m\n",
      "\u001B[0;31mFileNotFoundError\u001B[0m: [Errno 2] No such file or directory: '../Test_Data'"
     ]
    }
   ],
   "execution_count": 2
  },
  {
   "cell_type": "code",
   "id": "6c3d5755-7865-430a-a1f6-e27f29fbe547",
   "metadata": {},
   "source": [
    "# generate training dataframe with all training samples\n",
    "for i in patients:\n",
    "    print(i)\n",
    "    adata = ad.read_h5ad(data_dir + \"/\" + i + \"/Preprocessed_STDataset/tmm_combat_scaled_\" + i + \".h5ad\")\n",
    "    st_dataset = adata.to_df()\n",
    "    st_dataset[\"tile\"] = st_dataset.index\n",
    "    file_names = st_dataset.tile.iloc[0][0:-2]\n",
    "    base_name = ntpath.basename(file_names)\n",
    "    st_dataset['tile'] = st_dataset['tile'].apply(\n",
    "        lambda x: ntpath.basename(x[0:-2]))\n",
    "    print(base_name)\n",
    "    st_dataset.set_index('tile')\n",
    "    filename = data_dir + \"/\" + i + \"/Preprocessed_STDataset/gene_data.csv\"\n",
    "    print(filename)\n",
    "    st_dataset.to_csv(filename, index=False)"
   ],
   "outputs": [],
   "execution_count": null
  },
  {
   "cell_type": "code",
   "execution_count": null,
   "id": "657c610d-c94f-4466-bf4f-ff554caab4a9",
   "metadata": {},
   "source": [],
   "outputs": []
  }
 ],
 "metadata": {
  "kernelspec": {
   "display_name": "Python 3 (ipykernel)",
   "language": "python",
   "name": "python3"
  },
  "language_info": {
   "codemirror_mode": {
    "name": "ipython",
    "version": 3
   },
   "file_extension": ".py",
   "mimetype": "text/x-python",
   "name": "python",
   "nbconvert_exporter": "python",
   "pygments_lexer": "ipython3",
   "version": "3.12.3"
  }
 },
 "nbformat": 4,
 "nbformat_minor": 5
}
