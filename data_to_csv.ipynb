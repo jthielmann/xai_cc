{
 "cells": [
  {
   "cell_type": "code",
   "execution_count": 1,
   "id": "f8e1553d-920f-48ab-ae19-5bb04d38f9ea",
   "metadata": {},
   "outputs": [],
   "source": [
    "import pandas as pd\n",
    "import anndata as ad\n",
    "import os\n",
    "import ntpath"
   ]
  },
  {
   "cell_type": "code",
   "execution_count": 6,
   "id": "494092a8-fa7f-4b3b-8566-6e746ad3e1b8",
   "metadata": {},
   "outputs": [
    {
     "name": "stdout",
     "output_type": "stream",
     "text": [
      "['p008', 'p021', 'p026']\n"
     ]
    }
   ],
   "source": [
    "data_dir = \"../Test_Data\"\n",
    "patients = [os.path.basename(f) for f in os.scandir(data_dir) if f.is_dir()]\n",
    "print(patients)\n",
    "gene = \"RUBCNL\"\n",
    "columns_of_interest = [\"tile\", gene]"
   ]
  },
  {
   "cell_type": "code",
   "execution_count": 7,
   "id": "6c3d5755-7865-430a-a1f6-e27f29fbe547",
   "metadata": {},
   "outputs": [
    {
     "name": "stdout",
     "output_type": "stream",
     "text": [
      "p008\n",
      "p008_0_0.tiff\n",
      "../Test_Data/p008/Preprocessed_STDataset/gene_data.csv\n",
      "p021\n",
      "p021_14_0.tiff\n",
      "../Test_Data/p021/Preprocessed_STDataset/gene_data.csv\n",
      "p026\n",
      "p026_0_0.tiff\n",
      "../Test_Data/p026/Preprocessed_STDataset/gene_data.csv\n"
     ]
    }
   ],
   "source": [
    "# generate training dataframe with all training samples\n",
    "for i in patients:\n",
    "    print(i)\n",
    "    adata = ad.read_h5ad(data_dir + \"/\" + i + \"/Preprocessed_STDataset/tmm_combat_scaled_\" + i + \".h5ad\")\n",
    "    st_dataset = adata.to_df()\n",
    "    st_dataset[\"tile\"] = st_dataset.index\n",
    "    file_names = st_dataset.tile.iloc[0][0:-2]\n",
    "    base_name = ntpath.basename(file_names)\n",
    "    st_dataset['tile'] = st_dataset['tile'].apply(\n",
    "        lambda x: ntpath.basename(x[0:-2]))\n",
    "    print(base_name)\n",
    "    st_dataset.set_index('tile')\n",
    "    filename = data_dir + \"/\" + i + \"/Preprocessed_STDataset/gene_data.csv\"\n",
    "    print(filename)\n",
    "    st_dataset.to_csv(filename, index=False)"
   ]
  },
  {
   "cell_type": "code",
   "execution_count": null,
   "id": "657c610d-c94f-4466-bf4f-ff554caab4a9",
   "metadata": {},
   "outputs": [],
   "source": []
  }
 ],
 "metadata": {
  "kernelspec": {
   "display_name": "Python 3 (ipykernel)",
   "language": "python",
   "name": "python3"
  },
  "language_info": {
   "codemirror_mode": {
    "name": "ipython",
    "version": 3
   },
   "file_extension": ".py",
   "mimetype": "text/x-python",
   "name": "python",
   "nbconvert_exporter": "python",
   "pygments_lexer": "ipython3",
   "version": "3.12.3"
  }
 },
 "nbformat": 4,
 "nbformat_minor": 5
}
