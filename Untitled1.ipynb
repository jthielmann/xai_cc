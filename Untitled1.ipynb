{
 "cells": [
  {
   "cell_type": "code",
   "execution_count": 3,
   "id": "046e828b-39b5-43ec-88bc-acbdc835d797",
   "metadata": {},
   "outputs": [],
   "source": [
    "import pandas as pd\n",
    "import anndata as ad\n",
    "import os\n",
    "import ntpath"
   ]
  },
  {
   "cell_type": "code",
   "execution_count": 4,
   "id": "785b9afb-7b70-4fc6-9e14-9a840d8210ba",
   "metadata": {},
   "outputs": [
    {
     "name": "stdout",
     "output_type": "stream",
     "text": [
      "['p020', 'p016', 'p014', 'p013', 'p025', 'p007', 'p009']\n"
     ]
    }
   ],
   "source": [
    "data_dir = \"./data\"\n",
    "patients = [os.path.basename(f) for f in os.scandir(data_dir) if f.is_dir()]\n",
    "print(patients)\n",
    "gene = \"RUBCNL\"\n",
    "columns_of_interest = [\"tile\", gene]\n"
   ]
  },
  {
   "cell_type": "code",
   "execution_count": 8,
   "id": "8b1889d9-f452-49d5-9d7d-ca83826b4aa1",
   "metadata": {},
   "outputs": [
    {
     "name": "stdout",
     "output_type": "stream",
     "text": [
      "p020\n",
      "p020_0_0.tiff\n",
      "./data/p020/Preprocessed_STDataset/gene_data.csv\n",
      "p016\n",
      "p016_1_0.tiff\n",
      "./data/p016/Preprocessed_STDataset/gene_data.csv\n",
      "p014\n",
      "p014_21_0.tiff\n",
      "./data/p014/Preprocessed_STDataset/gene_data.csv\n",
      "p013\n",
      "p013_1_0.tiff\n",
      "./data/p013/Preprocessed_STDataset/gene_data.csv\n",
      "p025\n",
      "p025_5_0.tiff\n",
      "./data/p025/Preprocessed_STDataset/gene_data.csv\n",
      "p007\n",
      "p007_0_0.tiff\n",
      "./data/p007/Preprocessed_STDataset/gene_data.csv\n",
      "p009\n",
      "p009_72_0.tiff\n",
      "./data/p009/Preprocessed_STDataset/gene_data.csv\n"
     ]
    }
   ],
   "source": [
    "# generate training dataframe with all training samples\n",
    "for i in patients:\n",
    "    print(i)\n",
    "    adata = ad.read_h5ad(data_dir + \"/\" + i + \"/Preprocessed_STDataset/tmm_combat_scaled_\" + i + \".h5ad\")\n",
    "    st_dataset = adata.to_df()\n",
    "    st_dataset[\"tile\"] = st_dataset.index\n",
    "    file_names = st_dataset.tile.iloc[0][0:-2]\n",
    "    base_name = ntpath.basename(file_names)\n",
    "    st_dataset['tile'] = st_dataset['tile'].apply(\n",
    "        lambda x: ntpath.basename(x[0:-2]))\n",
    "    print(base_name)\n",
    "    st_dataset.set_index('tile')\n",
    "    filename = data_dir + \"/\" + i + \"/Preprocessed_STDataset/gene_data.csv\"\n",
    "    print(filename)\n",
    "    st_dataset.to_csv(filename, index=False)"
   ]
  },
  {
   "cell_type": "code",
   "execution_count": null,
   "id": "b4588e86-7752-409d-a5ad-ddf35e80212a",
   "metadata": {},
   "outputs": [],
   "source": []
  }
 ],
 "metadata": {
  "kernelspec": {
   "display_name": "Python 3 (ipykernel)",
   "language": "python",
   "name": "python3"
  },
  "language_info": {
   "codemirror_mode": {
    "name": "ipython",
    "version": 3
   },
   "file_extension": ".py",
   "mimetype": "text/x-python",
   "name": "python",
   "nbconvert_exporter": "python",
   "pygments_lexer": "ipython3",
   "version": "3.10.7"
  }
 },
 "nbformat": 4,
 "nbformat_minor": 5
}
