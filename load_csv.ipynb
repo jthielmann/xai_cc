{
 "cells": [
  {
   "metadata": {
    "ExecuteTime": {
     "end_time": "2024-06-25T09:50:56.863720Z",
     "start_time": "2024-06-25T09:50:56.860626Z"
    }
   },
   "cell_type": "code",
   "source": "import pandas as pd",
   "id": "ec891db5f6184221",
   "execution_count": 43,
   "outputs": []
  },
  {
   "metadata": {},
   "cell_type": "markdown",
   "source": "",
   "id": "33ff43a40c17c57f"
  },
  {
   "metadata": {
    "ExecuteTime": {
     "end_time": "2024-06-25T09:50:58.037226Z",
     "start_time": "2024-06-25T09:50:57.938447Z"
    }
   },
   "cell_type": "code",
   "source": [
    "df = pd.read_csv('data/p007/Preprocessed_STDataset/gene_data.csv')\n",
    "df.head()"
   ],
   "id": "59feab2865663450",
   "execution_count": 44,
   "outputs": []
  },
  {
   "metadata": {
    "ExecuteTime": {
     "end_time": "2024-06-25T09:50:59.177458Z",
     "start_time": "2024-06-25T09:50:59.174543Z"
    }
   },
   "cell_type": "code",
   "source": [
    "gene=\"RUBCNL\"\n",
    "columns_of_interest = [\"tile\", gene]\n"
   ],
   "id": "f529276baf7c01e7",
   "execution_count": 45,
   "outputs": []
  },
  {
   "metadata": {
    "ExecuteTime": {
     "end_time": "2024-06-25T09:51:01.235474Z",
     "start_time": "2024-06-25T09:51:01.232497Z"
    }
   },
   "cell_type": "code",
   "source": [
    "print(df.index)\n",
    "#df.set_index('tile', inplace=True)\n",
    "print(df.index.name)\n"
   ],
   "id": "468ad77bc35d3439",
   "execution_count": 46,
   "outputs": []
  },
  {
   "metadata": {
    "ExecuteTime": {
     "end_time": "2024-06-25T09:51:02.802319Z",
     "start_time": "2024-06-25T09:51:02.798376Z"
    }
   },
   "cell_type": "code",
   "source": [
    "print(len(df.columns))\n",
    "print(df.shape)\n",
    "#df[[\"tile\"]]\n",
    "print(df.iloc[0][-1:])"
   ],
   "id": "459d502ce89d09fa",
   "execution_count": 47,
   "outputs": []
  },
  {
   "metadata": {
    "ExecuteTime": {
     "end_time": "2024-06-25T09:51:18.279616Z",
     "start_time": "2024-06-25T09:51:18.275146Z"
    }
   },
   "cell_type": "code",
   "source": "df[[\"tile\"]]",
   "id": "51a04253a3c665d4",
   "execution_count": 48,
   "outputs": []
  },
  {
   "metadata": {
    "ExecuteTime": {
     "end_time": "2024-06-18T10:02:57.183801Z",
     "start_time": "2024-06-18T10:02:57.179958Z"
    }
   },
   "cell_type": "code",
   "source": [
    "import pandas as pd\n",
    "\n",
    "# Create a sample DataFrame\n",
    "data = {\n",
    "    'A': [1, 2, 3],\n",
    "    'B': [4, 5, 6]\n",
    "}\n",
    "df = pd.DataFrame(data)\n",
    "\n",
    "# Print the entire index\n",
    "print(df.index)\n",
    "df.set_index('A', inplace=True)\n",
    "print(df.index)\n"
   ],
   "id": "5b711a5e4e099b85",
   "execution_count": 11,
   "outputs": []
  },
  {
   "metadata": {},
   "cell_type": "code",
   "execution_count": null,
   "source": "",
   "id": "19ce106268d0ba1d",
   "outputs": []
  }
 ],
 "metadata": {
  "kernelspec": {
   "display_name": "Python 3",
   "language": "python",
   "name": "python3"
  },
  "language_info": {
   "codemirror_mode": {
    "name": "ipython",
    "version": 2
   },
   "file_extension": ".py",
   "mimetype": "text/x-python",
   "name": "python",
   "nbconvert_exporter": "python",
   "pygments_lexer": "ipython2",
   "version": "2.7.6"
  }
 },
 "nbformat": 4,
 "nbformat_minor": 5
}
