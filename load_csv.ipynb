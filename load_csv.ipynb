{
 "cells": [
  {
   "metadata": {
    "ExecuteTime": {
     "end_time": "2024-06-25T09:50:56.863720Z",
     "start_time": "2024-06-25T09:50:56.860626Z"
    }
   },
   "cell_type": "code",
   "source": "import pandas as pd",
   "id": "ec891db5f6184221",
   "outputs": [],
   "execution_count": 43
  },
  {
   "metadata": {},
   "cell_type": "markdown",
   "source": "",
   "id": "33ff43a40c17c57f"
  },
  {
   "metadata": {
    "ExecuteTime": {
     "end_time": "2024-06-25T09:50:58.037226Z",
     "start_time": "2024-06-25T09:50:57.938447Z"
    }
   },
   "cell_type": "code",
   "source": [
    "df = pd.read_csv('data/p007/Preprocessed_STDataset/gene_data.csv')\n",
    "df.head()"
   ],
   "id": "59feab2865663450",
   "outputs": [
    {
     "data": {
      "text/plain": [
       "        LYZ    SLC51B     DEFA5      CD27    RUBCNL      FLT1      AREG  \\\n",
       "0  0.582729  2.230000  3.644298  0.168045  0.190426  2.962099  1.339730   \n",
       "1 -0.522481 -0.455376 -0.362371 -0.758433 -0.871550 -0.279504 -0.427921   \n",
       "2 -0.522481 -0.455376 -0.362371 -0.758433 -0.871550 -0.279504 -0.427921   \n",
       "3 -0.522481 -0.455376 -0.362371 -0.758433 -0.871550 -0.279504 -0.427921   \n",
       "4 -0.522481 -0.455376 -0.362371  0.168045 -0.871550 -0.279504 -0.427921   \n",
       "\n",
       "       IL1A    COL4A1    PHLDA2  ...     CXCR2      NKG7      MCM3   SLC26A2  \\\n",
       "0  1.747697  0.608136  0.779407  ... -0.327703 -0.222839 -0.373403 -0.316236   \n",
       "1 -0.411114 -0.689205 -0.579972  ... -0.327703 -0.222839 -0.373403 -0.316236   \n",
       "2 -0.411114  0.608136 -0.579972  ... -0.327703 -0.222839 -0.373403 -0.316236   \n",
       "3 -0.411114 -0.689205  0.779407  ... -0.327703 -0.222839 -0.373403 -0.316236   \n",
       "4 -0.411114 -0.689205 -0.579972  ... -0.327703 -0.222839 -0.373403 -0.316236   \n",
       "\n",
       "      TIGIT     OLFM4      KLK1     AXIN2      MUC2           tile  \n",
       "0 -0.300991 -0.211896 -0.290006 -0.237523 -0.276721  p007_0_0.tiff  \n",
       "1 -0.300991 -0.211896 -0.290006 -0.237523 -0.276721  p007_2_0.tiff  \n",
       "2 -0.300991 -0.211896 -0.290006 -0.237523 -0.276721  p007_3_0.tiff  \n",
       "3 -0.300991 -0.211896 -0.290006 -0.237523 -0.276721  p007_4_0.tiff  \n",
       "4 -0.300991 -0.211896 -0.290006 -0.237523 -0.276721  p007_5_0.tiff  \n",
       "\n",
       "[5 rows x 192 columns]"
      ],
      "text/html": [
       "<div>\n",
       "<style scoped>\n",
       "    .dataframe tbody tr th:only-of-type {\n",
       "        vertical-align: middle;\n",
       "    }\n",
       "\n",
       "    .dataframe tbody tr th {\n",
       "        vertical-align: top;\n",
       "    }\n",
       "\n",
       "    .dataframe thead th {\n",
       "        text-align: right;\n",
       "    }\n",
       "</style>\n",
       "<table border=\"1\" class=\"dataframe\">\n",
       "  <thead>\n",
       "    <tr style=\"text-align: right;\">\n",
       "      <th></th>\n",
       "      <th>LYZ</th>\n",
       "      <th>SLC51B</th>\n",
       "      <th>DEFA5</th>\n",
       "      <th>CD27</th>\n",
       "      <th>RUBCNL</th>\n",
       "      <th>FLT1</th>\n",
       "      <th>AREG</th>\n",
       "      <th>IL1A</th>\n",
       "      <th>COL4A1</th>\n",
       "      <th>PHLDA2</th>\n",
       "      <th>...</th>\n",
       "      <th>CXCR2</th>\n",
       "      <th>NKG7</th>\n",
       "      <th>MCM3</th>\n",
       "      <th>SLC26A2</th>\n",
       "      <th>TIGIT</th>\n",
       "      <th>OLFM4</th>\n",
       "      <th>KLK1</th>\n",
       "      <th>AXIN2</th>\n",
       "      <th>MUC2</th>\n",
       "      <th>tile</th>\n",
       "    </tr>\n",
       "  </thead>\n",
       "  <tbody>\n",
       "    <tr>\n",
       "      <th>0</th>\n",
       "      <td>0.582729</td>\n",
       "      <td>2.230000</td>\n",
       "      <td>3.644298</td>\n",
       "      <td>0.168045</td>\n",
       "      <td>0.190426</td>\n",
       "      <td>2.962099</td>\n",
       "      <td>1.339730</td>\n",
       "      <td>1.747697</td>\n",
       "      <td>0.608136</td>\n",
       "      <td>0.779407</td>\n",
       "      <td>...</td>\n",
       "      <td>-0.327703</td>\n",
       "      <td>-0.222839</td>\n",
       "      <td>-0.373403</td>\n",
       "      <td>-0.316236</td>\n",
       "      <td>-0.300991</td>\n",
       "      <td>-0.211896</td>\n",
       "      <td>-0.290006</td>\n",
       "      <td>-0.237523</td>\n",
       "      <td>-0.276721</td>\n",
       "      <td>p007_0_0.tiff</td>\n",
       "    </tr>\n",
       "    <tr>\n",
       "      <th>1</th>\n",
       "      <td>-0.522481</td>\n",
       "      <td>-0.455376</td>\n",
       "      <td>-0.362371</td>\n",
       "      <td>-0.758433</td>\n",
       "      <td>-0.871550</td>\n",
       "      <td>-0.279504</td>\n",
       "      <td>-0.427921</td>\n",
       "      <td>-0.411114</td>\n",
       "      <td>-0.689205</td>\n",
       "      <td>-0.579972</td>\n",
       "      <td>...</td>\n",
       "      <td>-0.327703</td>\n",
       "      <td>-0.222839</td>\n",
       "      <td>-0.373403</td>\n",
       "      <td>-0.316236</td>\n",
       "      <td>-0.300991</td>\n",
       "      <td>-0.211896</td>\n",
       "      <td>-0.290006</td>\n",
       "      <td>-0.237523</td>\n",
       "      <td>-0.276721</td>\n",
       "      <td>p007_2_0.tiff</td>\n",
       "    </tr>\n",
       "    <tr>\n",
       "      <th>2</th>\n",
       "      <td>-0.522481</td>\n",
       "      <td>-0.455376</td>\n",
       "      <td>-0.362371</td>\n",
       "      <td>-0.758433</td>\n",
       "      <td>-0.871550</td>\n",
       "      <td>-0.279504</td>\n",
       "      <td>-0.427921</td>\n",
       "      <td>-0.411114</td>\n",
       "      <td>0.608136</td>\n",
       "      <td>-0.579972</td>\n",
       "      <td>...</td>\n",
       "      <td>-0.327703</td>\n",
       "      <td>-0.222839</td>\n",
       "      <td>-0.373403</td>\n",
       "      <td>-0.316236</td>\n",
       "      <td>-0.300991</td>\n",
       "      <td>-0.211896</td>\n",
       "      <td>-0.290006</td>\n",
       "      <td>-0.237523</td>\n",
       "      <td>-0.276721</td>\n",
       "      <td>p007_3_0.tiff</td>\n",
       "    </tr>\n",
       "    <tr>\n",
       "      <th>3</th>\n",
       "      <td>-0.522481</td>\n",
       "      <td>-0.455376</td>\n",
       "      <td>-0.362371</td>\n",
       "      <td>-0.758433</td>\n",
       "      <td>-0.871550</td>\n",
       "      <td>-0.279504</td>\n",
       "      <td>-0.427921</td>\n",
       "      <td>-0.411114</td>\n",
       "      <td>-0.689205</td>\n",
       "      <td>0.779407</td>\n",
       "      <td>...</td>\n",
       "      <td>-0.327703</td>\n",
       "      <td>-0.222839</td>\n",
       "      <td>-0.373403</td>\n",
       "      <td>-0.316236</td>\n",
       "      <td>-0.300991</td>\n",
       "      <td>-0.211896</td>\n",
       "      <td>-0.290006</td>\n",
       "      <td>-0.237523</td>\n",
       "      <td>-0.276721</td>\n",
       "      <td>p007_4_0.tiff</td>\n",
       "    </tr>\n",
       "    <tr>\n",
       "      <th>4</th>\n",
       "      <td>-0.522481</td>\n",
       "      <td>-0.455376</td>\n",
       "      <td>-0.362371</td>\n",
       "      <td>0.168045</td>\n",
       "      <td>-0.871550</td>\n",
       "      <td>-0.279504</td>\n",
       "      <td>-0.427921</td>\n",
       "      <td>-0.411114</td>\n",
       "      <td>-0.689205</td>\n",
       "      <td>-0.579972</td>\n",
       "      <td>...</td>\n",
       "      <td>-0.327703</td>\n",
       "      <td>-0.222839</td>\n",
       "      <td>-0.373403</td>\n",
       "      <td>-0.316236</td>\n",
       "      <td>-0.300991</td>\n",
       "      <td>-0.211896</td>\n",
       "      <td>-0.290006</td>\n",
       "      <td>-0.237523</td>\n",
       "      <td>-0.276721</td>\n",
       "      <td>p007_5_0.tiff</td>\n",
       "    </tr>\n",
       "  </tbody>\n",
       "</table>\n",
       "<p>5 rows × 192 columns</p>\n",
       "</div>"
      ]
     },
     "execution_count": 44,
     "metadata": {},
     "output_type": "execute_result"
    }
   ],
   "execution_count": 44
  },
  {
   "metadata": {
    "ExecuteTime": {
     "end_time": "2024-06-25T09:50:59.177458Z",
     "start_time": "2024-06-25T09:50:59.174543Z"
    }
   },
   "cell_type": "code",
   "source": [
    "gene=\"RUBCNL\"\n",
    "columns_of_interest = [\"tile\", gene]\n"
   ],
   "id": "f529276baf7c01e7",
   "outputs": [],
   "execution_count": 45
  },
  {
   "metadata": {
    "ExecuteTime": {
     "end_time": "2024-06-25T09:51:01.235474Z",
     "start_time": "2024-06-25T09:51:01.232497Z"
    }
   },
   "cell_type": "code",
   "source": [
    "print(df.index)\n",
    "#df.set_index('tile', inplace=True)\n",
    "print(df.index.name)\n"
   ],
   "id": "468ad77bc35d3439",
   "outputs": [
    {
     "name": "stdout",
     "output_type": "stream",
     "text": [
      "RangeIndex(start=0, stop=4047, step=1)\n",
      "None\n"
     ]
    }
   ],
   "execution_count": 46
  },
  {
   "metadata": {
    "ExecuteTime": {
     "end_time": "2024-06-25T09:51:02.802319Z",
     "start_time": "2024-06-25T09:51:02.798376Z"
    }
   },
   "cell_type": "code",
   "source": [
    "print(len(df.columns))\n",
    "print(df.shape)\n",
    "#df[[\"tile\"]]\n",
    "print(df.iloc[0][-1:])"
   ],
   "id": "459d502ce89d09fa",
   "outputs": [
    {
     "name": "stdout",
     "output_type": "stream",
     "text": [
      "192\n",
      "(4047, 192)\n",
      "tile    p007_0_0.tiff\n",
      "Name: 0, dtype: object\n"
     ]
    }
   ],
   "execution_count": 47
  },
  {
   "metadata": {
    "ExecuteTime": {
     "end_time": "2024-06-25T09:51:18.279616Z",
     "start_time": "2024-06-25T09:51:18.275146Z"
    }
   },
   "cell_type": "code",
   "source": "df[[\"tile\"]]",
   "id": "51a04253a3c665d4",
   "outputs": [
    {
     "data": {
      "text/plain": [
       "                 tile\n",
       "0       p007_0_0.tiff\n",
       "1       p007_2_0.tiff\n",
       "2       p007_3_0.tiff\n",
       "3       p007_4_0.tiff\n",
       "4       p007_5_0.tiff\n",
       "...               ...\n",
       "4042  p007_53_95.tiff\n",
       "4043  p007_54_95.tiff\n",
       "4044  p007_55_95.tiff\n",
       "4045  p007_56_95.tiff\n",
       "4046  p007_57_95.tiff\n",
       "\n",
       "[4047 rows x 1 columns]"
      ],
      "text/html": [
       "<div>\n",
       "<style scoped>\n",
       "    .dataframe tbody tr th:only-of-type {\n",
       "        vertical-align: middle;\n",
       "    }\n",
       "\n",
       "    .dataframe tbody tr th {\n",
       "        vertical-align: top;\n",
       "    }\n",
       "\n",
       "    .dataframe thead th {\n",
       "        text-align: right;\n",
       "    }\n",
       "</style>\n",
       "<table border=\"1\" class=\"dataframe\">\n",
       "  <thead>\n",
       "    <tr style=\"text-align: right;\">\n",
       "      <th></th>\n",
       "      <th>tile</th>\n",
       "    </tr>\n",
       "  </thead>\n",
       "  <tbody>\n",
       "    <tr>\n",
       "      <th>0</th>\n",
       "      <td>p007_0_0.tiff</td>\n",
       "    </tr>\n",
       "    <tr>\n",
       "      <th>1</th>\n",
       "      <td>p007_2_0.tiff</td>\n",
       "    </tr>\n",
       "    <tr>\n",
       "      <th>2</th>\n",
       "      <td>p007_3_0.tiff</td>\n",
       "    </tr>\n",
       "    <tr>\n",
       "      <th>3</th>\n",
       "      <td>p007_4_0.tiff</td>\n",
       "    </tr>\n",
       "    <tr>\n",
       "      <th>4</th>\n",
       "      <td>p007_5_0.tiff</td>\n",
       "    </tr>\n",
       "    <tr>\n",
       "      <th>...</th>\n",
       "      <td>...</td>\n",
       "    </tr>\n",
       "    <tr>\n",
       "      <th>4042</th>\n",
       "      <td>p007_53_95.tiff</td>\n",
       "    </tr>\n",
       "    <tr>\n",
       "      <th>4043</th>\n",
       "      <td>p007_54_95.tiff</td>\n",
       "    </tr>\n",
       "    <tr>\n",
       "      <th>4044</th>\n",
       "      <td>p007_55_95.tiff</td>\n",
       "    </tr>\n",
       "    <tr>\n",
       "      <th>4045</th>\n",
       "      <td>p007_56_95.tiff</td>\n",
       "    </tr>\n",
       "    <tr>\n",
       "      <th>4046</th>\n",
       "      <td>p007_57_95.tiff</td>\n",
       "    </tr>\n",
       "  </tbody>\n",
       "</table>\n",
       "<p>4047 rows × 1 columns</p>\n",
       "</div>"
      ]
     },
     "execution_count": 48,
     "metadata": {},
     "output_type": "execute_result"
    }
   ],
   "execution_count": 48
  },
  {
   "metadata": {
    "ExecuteTime": {
     "end_time": "2024-06-18T10:02:57.183801Z",
     "start_time": "2024-06-18T10:02:57.179958Z"
    }
   },
   "cell_type": "code",
   "source": [
    "import pandas as pd\n",
    "\n",
    "# Create a sample DataFrame\n",
    "data = {\n",
    "    'A': [1, 2, 3],\n",
    "    'B': [4, 5, 6]\n",
    "}\n",
    "df = pd.DataFrame(data)\n",
    "\n",
    "# Print the entire index\n",
    "print(df.index)\n",
    "df.set_index('A', inplace=True)\n",
    "print(df.index)\n"
   ],
   "id": "5b711a5e4e099b85",
   "outputs": [
    {
     "name": "stdout",
     "output_type": "stream",
     "text": [
      "RangeIndex(start=0, stop=3, step=1)\n",
      "Index([1, 2, 3], dtype='int64', name='A')\n"
     ]
    }
   ],
   "execution_count": 11
  },
  {
   "metadata": {},
   "cell_type": "code",
   "outputs": [],
   "execution_count": null,
   "source": "",
   "id": "19ce106268d0ba1d"
  }
 ],
 "metadata": {
  "kernelspec": {
   "display_name": "Python 3",
   "language": "python",
   "name": "python3"
  },
  "language_info": {
   "codemirror_mode": {
    "name": "ipython",
    "version": 2
   },
   "file_extension": ".py",
   "mimetype": "text/x-python",
   "name": "python",
   "nbconvert_exporter": "python",
   "pygments_lexer": "ipython2",
   "version": "2.7.6"
  }
 },
 "nbformat": 4,
 "nbformat_minor": 5
}
