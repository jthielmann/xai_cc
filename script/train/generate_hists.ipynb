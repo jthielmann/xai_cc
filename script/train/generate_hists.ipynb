{
 "cells": [
  {
   "cell_type": "code",
   "id": "initial_id",
   "metadata": {
    "tags": [],
    "ExecuteTime": {
     "end_time": "2024-09-28T11:53:12.033578Z",
     "start_time": "2024-09-28T11:53:08.351092Z"
    }
   },
   "source": [
    "import torch\n",
    "import os\n",
    "\n",
    "from script.xai.plot_and_print import plot_data_scatter\n",
    "from script.data_processing.process_csv import merge_data, process_spatial_data, ann_data_to_csv\n",
    "import pandas as pd\n",
    "from model import load_model"
   ],
   "execution_count": 1,
   "outputs": []
  },
  {
   "metadata": {
    "ExecuteTime": {
     "end_time": "2024-09-28T11:53:12.195402Z",
     "start_time": "2024-09-28T11:53:12.034889Z"
    }
   },
   "cell_type": "code",
   "source": [
    "device = \"cuda\" if torch.cuda.is_available() else \"mps\" if torch.backends.mps.is_available() else \"cpu\"\n",
    "data_dir_train = \"../Training_Data/\"\n",
    "data_dir_test = \"../Test_Data/\"\n",
    "patients_train = [os.path.basename(f) for f in os.scandir(data_dir_train) if f.is_dir()]\n",
    "patients_test = [os.path.basename(f) for f in os.scandir(data_dir_test) if f.is_dir()][1:]\n",
    "print(patients_train)\n",
    "print(patients_test)\n",
    "\n",
    "model_dir = \"../remote_models/\"\n",
    "skip = 0\n",
    "model_dir_path = []\n",
    "\n",
    "for model_type_dir in os.listdir(model_dir):\n",
    "    sub_path = model_dir + model_type_dir\n",
    "    if model_type_dir == \".DS_Store\" or os.path.isfile(sub_path):\n",
    "        continue\n",
    "    for model_leaf_dir in os.listdir(sub_path):\n",
    "        sub_path = model_dir + model_type_dir + \"/\" + model_leaf_dir\n",
    "        if model_type_dir == \".DS_Store\" or os.path.isfile(sub_path):\n",
    "            continue\n",
    "        files = os.listdir(sub_path)\n",
    "        for f in files:\n",
    "            if f[-3:] == \".pt\" and f.find(\"ep_\") != -1:\n",
    "                src = sub_path + \"/\" + f\n",
    "                dst = sub_path + \"/\" + f[f.find(\"ep_\"):]\n",
    "                os.rename(src, dst)\n",
    "                if f[f.find(\"ep_\"):] == \"ep_29.pt\":\n",
    "                    model_dir_path.append((sub_path + \"/\", dst))\n",
    "print(model_dir_path)\n",
    "models = [load_model(x, y, log_json=True) for x, y in model_dir_path]"
   ],
   "id": "b30094854a8cff00",
   "execution_count": 2,
   "outputs": []
  },
  {
   "metadata": {
    "ExecuteTime": {
     "end_time": "2024-08-26T06:40:10.160495Z",
     "start_time": "2024-08-26T06:39:42.307112Z"
    }
   },
   "cell_type": "code",
   "source": [
    "for patient in patients:\n",
    "    ann_data_to_csv(data_dir)\n",
    "    process_spatial_data(patients, data_dir)\n",
    "    merge_data(data_dir, patient)"
   ],
   "id": "f5f8345ef735bf29",
   "execution_count": 3,
   "outputs": []
  },
  {
   "metadata": {
    "ExecuteTime": {
     "end_time": "2024-08-26T06:51:15.108498Z",
     "start_time": "2024-08-26T06:51:15.102135Z"
    }
   },
   "cell_type": "code",
   "source": [
    "def process_and_plot_patient(model, device, data_dir, patient, gene = \"RUBCNL\", results_filename = \"results.csv\"):\n",
    "    generate_results(model, device, data_dir, patient, gene, results_filename)\n",
    "    merge_data(data_dir, patient, results_filename)\n",
    "    plot_data_scatter(data_dir, patient, gene)"
   ],
   "id": "d20aef39f0d2acec",
   "execution_count": 16,
   "outputs": []
  },
  {
   "metadata": {
    "ExecuteTime": {
     "end_time": "2024-08-26T06:50:32.691518Z",
     "start_time": "2024-08-26T06:50:32.687508Z"
    }
   },
   "cell_type": "code",
   "source": [
    "columns = [\"model_name\", \"model_type\", \"gene\"]\n",
    "to_append = [[s + \"_mean_out\", s + \"_std_out\", s + \"_mean_labels\", s + \"_std_labels\", s + \"_pearson\", s] for s in patients_test]\n",
    "for s in to_append:\n",
    "    for t in s:\n",
    "        columns.append(t)\n",
    "print(len(columns))\n",
    "# mean_out, std_out, mean_labels, std_labels, pearson, patient\n",
    "print(patients_test)"
   ],
   "id": "758ad181d4885bab",
   "execution_count": 10,
   "outputs": []
  },
  {
   "metadata": {
    "ExecuteTime": {
     "end_time": "2024-08-26T06:50:33.639591Z",
     "start_time": "2024-08-26T06:50:33.624996Z"
    }
   },
   "cell_type": "code",
   "source": [
    "print(len(lines[0]))\n",
    "df = pd.DataFrame(lines, columns=columns)\n",
    "df.drop(patients_test, axis=1, inplace=True)\n",
    "df.head()\n"
   ],
   "id": "ccc8ec1f51cedfd1",
   "execution_count": 11,
   "outputs": []
  },
  {
   "metadata": {
    "ExecuteTime": {
     "end_time": "2024-08-26T06:50:41.032789Z",
     "start_time": "2024-08-26T06:50:41.027671Z"
    }
   },
   "cell_type": "code",
   "source": "df.to_csv(\"results_all_models_test.csv\")",
   "id": "8b4463e88e3510c4",
   "execution_count": 12,
   "outputs": []
  },
  {
   "metadata": {},
   "cell_type": "markdown",
   "source": "",
   "id": "47aeb759ca686a81"
  },
  {
   "metadata": {
    "ExecuteTime": {
     "end_time": "2024-08-26T06:59:50.761562Z",
     "start_time": "2024-08-26T06:54:58.783255Z"
    }
   },
   "cell_type": "code",
   "source": [
    "data_dir = \"../Training_Data/\"\n",
    "\n",
    "patients = [os.path.basename(f) for f in os.scandir(data_dir) if f.is_dir()]\n",
    "patient = \"p026\"\n",
    "for model in models:\n",
    "    print(model[1])\n",
    "    process_and_plot_patient(model[0].to(device), device, data_dir_test, patient, \"RUBCNL\", results_filename = \"slim_model_results.csv\")\n",
    "    "
   ],
   "id": "2edc2978682f53e0",
   "execution_count": 19,
   "outputs": []
  },
  {
   "metadata": {
    "ExecuteTime": {
     "end_time": "2024-12-16T11:55:46.186486Z",
     "start_time": "2024-12-16T11:55:26.901032Z"
    }
   },
   "cell_type": "code",
   "source": [
    "from process_csv import generate_results\n",
    "from model import load_model, generate_model_list\n",
    "import pandas as pd\n",
    "\n",
    "import torchmetrics\n",
    "MSE = torchmetrics.MeanSquaredError()\n",
    "import scipy\n",
    "\n",
    "pearson = scipy.stats.pearsonr(df[\"labels\"], df[\"output\"])\n",
    "print(pearson)\n",
    "model_list_file_name = \"new_models.csv\"\n",
    "update_model_list = True\n",
    "\n",
    "must_contain = None\n",
    "skip_names = [\"AE\", \"dropout\"]\n",
    "if not os.path.exists(model_dir + model_list_file_name) or update_model_list:\n",
    "    print(\"found these models:\")\n",
    "    frame = generate_model_list(model_dir, must_contain=must_contain, skip_names=skip_names)\n",
    "else:\n",
    "    frame = pd.read_csv(model_dir + model_list_file_name)\n",
    "\n",
    "data_dir = \"../data/jonas/Training_Data/\"\n",
    "device=\"cuda\" if torch.cuda.is_available() else \"mps\" if torch.backends.mps.is_available() else \"cpu\"\n",
    "out_file = \"../results/val_results.csv\"\n",
    "patients = [\"p009\", \"p013\"]\n",
    "\n",
    "\n",
    "for idx, row in frame.iterrows():\n",
    "    for patient in patients:\n",
    "\n",
    "        model = load_model(row[\"model_dir\"], row[\"mode_path\"], log_json=True).to(device)\n",
    "        results_filename=\"val_results.csv\"\n",
    "        \n",
    "        file_path = generate_results(model, device=device, data_dir=data_dir, patient=patient, genes=[\"RUBCNL\"], results_filename=results_filename)\n",
    "        df = pd.read_csv(file_path)\n",
    "        df.head()\n",
    "        pearson = scipy.stats.pearsonr(df[\"labels\"], df[\"output\"])\n",
    "        mse = MSE(df[\"output\"], df[\"labels\"])\n",
    "        #print(pearson)\n",
    "        if os.path.exists(out_file):\n",
    "            results_df = pd.read_csv(out_file)\n",
    "        else:\n",
    "            results_df = pd.DataFrame(columns=[\"model_path\", \"pearson_p009\", \"mse_p009\", \"pearson_p013\", \"mse_p013\"])\n",
    "        \n",
    "        results_df.at[row[\"model_path\"], \"pearson_\" + patient] = pearson\n",
    "        results_df.at[row[\"model_path\"], \"mse_\" + patient] = mse\n",
    "        results_df.to_csv(out_file)\n",
    "    "
   ],
   "id": "2d0a58cc9c01725c",
   "outputs": [
    {
     "name": "stdout",
     "output_type": "stream",
     "text": [
      "{'model_type': 'resnet18', 'random_weights': False, 'dropout': False, 'pretrained_out_dim': '1000', 'loss_fn': 'MSELoss()', 'learning_rate': 0.0005, 'batch_size': 128, 'genes': ['RUBCNL'], 'epochs': 40, 'optimizer': 'AdamW (\\nParameter Group 0\\n    amsgrad: False\\n    betas: (0.9, 0.999)\\n    capturable: False\\n    differentiable: False\\n    eps: 1e-08\\n    foreach: None\\n    fused: None\\n    initial_lr: 0.0005\\n    lr: 0.0005\\n    maximize: False\\n    weight_decay: 0.005\\n\\nParameter Group 1\\n    amsgrad: False\\n    betas: (0.9, 0.999)\\n    capturable: False\\n    differentiable: False\\n    eps: 1e-08\\n    foreach: None\\n    fused: None\\n    initial_lr: 0.0005\\n    lr: 0.0005\\n    maximize: False\\n    weight_decay: 0.005\\n)', 'scheduler': '<torch.optim.lr_scheduler.ExponentialLR object at 0x148c60e809e0>', 'device': 'cuda', 'freeze_pretrained': False}\n",
      "<All keys matched successfully>\n",
      "generating results...\n"
     ]
    },
    {
     "data": {
      "text/plain": [
       "     labels    output                                               path  \\\n",
       "0  0.297868  0.583432  ../data/jonas/Training_Data//p013/tiles/p013_1...   \n",
       "1  1.550453  0.204171  ../data/jonas/Training_Data//p013/tiles/p013_2...   \n",
       "2  0.974872 -0.103596  ../data/jonas/Training_Data//p013/tiles/p013_3...   \n",
       "3  0.813911  0.755017  ../data/jonas/Training_Data//p013/tiles/p013_4...   \n",
       "4  0.165409  0.469784  ../data/jonas/Training_Data//p013/tiles/p013_5...   \n",
       "\n",
       "            tile  \n",
       "0  p013_1_0.tiff  \n",
       "1  p013_2_0.tiff  \n",
       "2  p013_3_0.tiff  \n",
       "3  p013_4_0.tiff  \n",
       "4  p013_5_0.tiff  "
      ],
      "text/html": [
       "<div>\n",
       "<style scoped>\n",
       "    .dataframe tbody tr th:only-of-type {\n",
       "        vertical-align: middle;\n",
       "    }\n",
       "\n",
       "    .dataframe tbody tr th {\n",
       "        vertical-align: top;\n",
       "    }\n",
       "\n",
       "    .dataframe thead th {\n",
       "        text-align: right;\n",
       "    }\n",
       "</style>\n",
       "<table border=\"1\" class=\"dataframe\">\n",
       "  <thead>\n",
       "    <tr style=\"text-align: right;\">\n",
       "      <th></th>\n",
       "      <th>labels</th>\n",
       "      <th>output</th>\n",
       "      <th>path</th>\n",
       "      <th>tile</th>\n",
       "    </tr>\n",
       "  </thead>\n",
       "  <tbody>\n",
       "    <tr>\n",
       "      <th>0</th>\n",
       "      <td>0.297868</td>\n",
       "      <td>0.583432</td>\n",
       "      <td>../data/jonas/Training_Data//p013/tiles/p013_1...</td>\n",
       "      <td>p013_1_0.tiff</td>\n",
       "    </tr>\n",
       "    <tr>\n",
       "      <th>1</th>\n",
       "      <td>1.550453</td>\n",
       "      <td>0.204171</td>\n",
       "      <td>../data/jonas/Training_Data//p013/tiles/p013_2...</td>\n",
       "      <td>p013_2_0.tiff</td>\n",
       "    </tr>\n",
       "    <tr>\n",
       "      <th>2</th>\n",
       "      <td>0.974872</td>\n",
       "      <td>-0.103596</td>\n",
       "      <td>../data/jonas/Training_Data//p013/tiles/p013_3...</td>\n",
       "      <td>p013_3_0.tiff</td>\n",
       "    </tr>\n",
       "    <tr>\n",
       "      <th>3</th>\n",
       "      <td>0.813911</td>\n",
       "      <td>0.755017</td>\n",
       "      <td>../data/jonas/Training_Data//p013/tiles/p013_4...</td>\n",
       "      <td>p013_4_0.tiff</td>\n",
       "    </tr>\n",
       "    <tr>\n",
       "      <th>4</th>\n",
       "      <td>0.165409</td>\n",
       "      <td>0.469784</td>\n",
       "      <td>../data/jonas/Training_Data//p013/tiles/p013_5...</td>\n",
       "      <td>p013_5_0.tiff</td>\n",
       "    </tr>\n",
       "  </tbody>\n",
       "</table>\n",
       "</div>"
      ]
     },
     "execution_count": 20,
     "metadata": {},
     "output_type": "execute_result"
    }
   ],
   "execution_count": 20
  },
  {
   "metadata": {
    "ExecuteTime": {
     "end_time": "2024-12-16T11:55:46.261842Z",
     "start_time": "2024-12-16T11:55:46.250807Z"
    }
   },
   "cell_type": "code",
   "source": [
    "\n",
    "\n"
   ],
   "id": "536318067cb87e96",
   "outputs": [
    {
     "name": "stdout",
     "output_type": "stream",
     "text": [
      "PearsonRResult(statistic=0.6282925947048605, pvalue=3.3811790146560316e-102)\n"
     ]
    }
   ],
   "execution_count": 21
  },
  {
   "metadata": {},
   "cell_type": "code",
   "outputs": [],
   "execution_count": null,
   "source": "",
   "id": "374d41962c002f31"
  },
  {
   "metadata": {},
   "cell_type": "code",
   "outputs": [],
   "execution_count": null,
   "source": "",
   "id": "de8d981b8295fed5"
  }
 ],
 "metadata": {
  "kernelspec": {
   "display_name": "Python 3 (ipykernel)",
   "language": "python",
   "name": "python3"
  },
  "language_info": {
   "codemirror_mode": {
    "name": "ipython",
    "version": 3
   },
   "file_extension": ".py",
   "mimetype": "text/x-python",
   "name": "python",
   "nbconvert_exporter": "python",
   "pygments_lexer": "ipython3",
   "version": "3.10.7"
  }
 },
 "nbformat": 4,
 "nbformat_minor": 5
}
