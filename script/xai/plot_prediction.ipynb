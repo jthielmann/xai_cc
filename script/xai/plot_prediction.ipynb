{
 "cells": [
  {
   "cell_type": "code",
   "id": "initial_id",
   "metadata": {
    "tags": [],
    "ExecuteTime": {
     "end_time": "2024-10-01T20:10:36.560433Z",
     "start_time": "2024-10-01T20:10:36.556044Z"
    }
   },
   "source": [
    "import torch\n",
    "import os\n",
    "\n",
    "import torch\n",
    "from script.plot_and_print import plot_data_mapped, print_metrics, plot_data_scatter\n",
    "from script.process_csv import generate_results, merge_data, process_spatial_data, ann_data_to_csv\n",
    "from model import get_res18_ciga, load_model, get_res50_dropout\n",
    "import pandas as pd\n",
    "import scipy\n",
    "#from model import get_vggs_and_path9"
   ],
   "execution_count": 3,
   "outputs": []
  },
  {
   "metadata": {
    "ExecuteTime": {
     "end_time": "2024-10-01T20:10:36.987348Z",
     "start_time": "2024-10-01T20:10:36.980986Z"
    }
   },
   "cell_type": "code",
   "source": [
    "device = \"cuda\" if torch.cuda.is_available() else \"mps\" if torch.backends.mps.is_available() else \"cpu\"\n",
    "batch_size = 64\n",
    "data_dir = \"../Training_Data/\"\n",
    "data_dir_test = \"../Test_Data/\"\n",
    "\n",
    "criterion = torch.nn.CrossEntropyLoss()\n",
    "patients = [os.path.basename(f) for f in os.scandir(data_dir) if f.is_dir()]\n",
    "patients_test = [os.path.basename(f) for f in os.scandir(data_dir_test) if f.is_dir()][1:]\n",
    "print(patients_test)\n",
    "gene = \"RUBCNL\""
   ],
   "id": "b30094854a8cff00",
   "execution_count": 4,
   "outputs": []
  },
  {
   "metadata": {
    "ExecuteTime": {
     "end_time": "2024-10-01T20:04:45.676509Z",
     "start_time": "2024-10-01T20:04:17.848542Z"
    }
   },
   "cell_type": "code",
   "source": [
    "for patient in patients:\n",
    "    ann_data_to_csv(data_dir)\n",
    "    process_spatial_data(patients, data_dir)\n",
    "    merge_data(data_dir, patient)"
   ],
   "id": "f5f8345ef735bf29",
   "execution_count": 3,
   "outputs": []
  },
  {
   "metadata": {
    "ExecuteTime": {
     "end_time": "2024-10-01T20:10:40.451420Z",
     "start_time": "2024-10-01T20:10:40.441407Z"
    }
   },
   "cell_type": "code",
   "source": [
    "def process_and_plot_patient(model, device, data_dir, patient, genes, results_filename = \"results.csv\"):\n",
    "    # def generate_results(model, device, data_dir, patient=None, gene=\"RUBCNL\", results_filename=\"results.csv\"):\n",
    "    generate_results(model, device, data_dir, patient, genes, results_filename)\n",
    "    merge_data(data_dir, patient, results_filename)\n",
    "    plot_data_mapped(data_dir, patient, \"labels\")\n",
    "    plot_data_mapped(data_dir, patient, \"output\")\n",
    "    plot_data_mapped(data_dir, patient, \"diff\")\n",
    "    plot_data_scatter(data_dir, patient, genes)\n",
    "    print_metrics(data_dir, patient, \"mean\")\n",
    "    print_metrics(data_dir, patient, \"std\")\n",
    "    print_metrics(data_dir, patient, \"pearson\")\n",
    "    \n",
    "    print(\"----------------------------------------\")\n",
    "    \n",
    "def process_patients(model, device, criterion, data_dir, patients, gene = \"RUBCNL\", results_filename = \"results.csv\"):\n",
    "    results = []\n",
    "    for patient in patients:\n",
    "        generate_results(model, device, data_dir, patient, gene, results_filename)\n",
    "        merge_data(data_dir, patient, results_filename)\n",
    "        base_path = data_dir + patient + \"/meta_data/\"\n",
    "        merge = pd.read_csv(base_path + \"merge.csv\")\n",
    "        out = merge['output']\n",
    "        labels = merge['labels']\n",
    "        mean_out = out.mean()\n",
    "        std_out = out.std()\n",
    "        mean_labels = labels.mean()\n",
    "        std_labels = labels.std()\n",
    "        pearson = round(scipy.stats.pearsonr(out, labels)[0], 2)\n",
    "        results.append((mean_out, std_out, mean_labels, std_labels, pearson, patient))\n",
    "    return results"
   ],
   "id": "d20aef39f0d2acec",
   "execution_count": 5,
   "outputs": []
  },
  {
   "metadata": {
    "ExecuteTime": {
     "end_time": "2024-10-01T20:10:50.851811Z",
     "start_time": "2024-10-01T20:10:50.359637Z"
    }
   },
   "cell_type": "code",
   "source": [
    "path = \"../models/resnet18/RUBCNL/ep_29.pt\"\n",
    "model = load_model(\"../models/resnet18/RUBCNL/\", path)\n",
    "path = \"../models/res18/res18_not_iced_e29.pt\"\n",
    "res18_no_ice = get_res18_ciga(path).to(device)\n",
    "path = \"../models/res18/res18_iced_e29.pt\"\n",
    "res18_ice    = get_res18_ciga(path).to(device)\n",
    "path = \"../models/res50/RUBCNL_HLR_Res50_Drop/24072024_ep_29_lr_0.0005resnet.pt\"\n",
    "res50_drop    = get_res50_dropout(path).to(device)\n"
   ],
   "id": "dd643255f2efe08b",
   "execution_count": 7,
   "outputs": []
  },
  {
   "metadata": {
    "ExecuteTime": {
     "end_time": "2024-08-26T06:50:11.377600Z",
     "start_time": "2024-08-26T06:41:34.837599Z"
    }
   },
   "cell_type": "code",
   "source": [
    "\"\"\"raw = []\n",
    "raw.append((\"../models/res50/RUBCNL_HLR_Res50slim/15072024_ep_39_lr_0.0005resnet.pt\", get_res50))\n",
    "raw.append((\"../models/res50/RUBCNL_HLR_Res50slim_ice/15072024_ep_39_lr_0.0005resnet.pt\", get_res50))\n",
    "raw.append((\"../models/res50/RUBCNL_HLR_Res50slim_optim_ice/RUBCNL_HLR_Res50slim_optim_ice15072024_ep_26_lr_0.0005resnet.pt\", get_res50))\n",
    "raw.append((\"../models/res50/RUBCNL_HLR_Res50_Drop/24072024_ep_29_lr_0.0005resnet.pt\", get_res50_dropout))\n",
    "raw.append((\"../models/res18/res18_iced_e29.pt\",get_res18_ciga))\n",
    "raw.append((\"../models/res18/res18_not_iced_e29.pt\", get_res18_ciga))\n",
    "\n",
    "models = []\n",
    "for r in raw:\n",
    "    models.append((r[1](r[0]).to(device).eval(), r[0]))\"\"\"\n",
    "    \n",
    "models = get_vggs_and_path()\n",
    "for model in models:\n",
    "    print(type(model))\n",
    "lines = []\n",
    "for model,path in models:\n",
    "    results = process_patients(model.to(device), device, criterion, data_dir_test, patients_test, gene, results_filename = \"slim_model_results.csv\")\n",
    "    line = [path, str(type(model)), gene, ]\n",
    "\n",
    "    for i in results:\n",
    "        for j in i:\n",
    "            line.append(str(j))\n",
    "    lines.append(line)\n",
    "    # mean_out, std_out, mean_labels, std_labels, pearson, patient"
   ],
   "id": "e78af2bb9d248823",
   "execution_count": 9,
   "outputs": []
  },
  {
   "metadata": {
    "ExecuteTime": {
     "end_time": "2024-08-26T06:50:32.691518Z",
     "start_time": "2024-08-26T06:50:32.687508Z"
    }
   },
   "cell_type": "code",
   "source": [
    "columns = [\"model_name\", \"model_type\", \"gene\"]\n",
    "to_append = [[s + \"_mean_out\", s + \"_std_out\", s + \"_mean_labels\", s + \"_std_labels\", s + \"_pearson\", s] for s in patients_test]\n",
    "for s in to_append:\n",
    "    for t in s:\n",
    "        columns.append(t)\n",
    "print(len(columns))\n",
    "# mean_out, std_out, mean_labels, std_labels, pearson, patient\n",
    "print(patients_test)"
   ],
   "id": "758ad181d4885bab",
   "execution_count": 10,
   "outputs": []
  },
  {
   "metadata": {
    "ExecuteTime": {
     "end_time": "2024-08-26T06:50:33.639591Z",
     "start_time": "2024-08-26T06:50:33.624996Z"
    }
   },
   "cell_type": "code",
   "source": [
    "print(len(lines[0]))\n",
    "df = pd.DataFrame(lines, columns=columns)\n",
    "df.drop(patients_test, axis=1, inplace=True)\n",
    "df.head()\n"
   ],
   "id": "ccc8ec1f51cedfd1",
   "execution_count": 11,
   "outputs": []
  },
  {
   "metadata": {
    "ExecuteTime": {
     "end_time": "2024-08-26T06:50:41.032789Z",
     "start_time": "2024-08-26T06:50:41.027671Z"
    }
   },
   "cell_type": "code",
   "source": "df.to_csv(\"results_all_models_test.csv\")",
   "id": "8b4463e88e3510c4",
   "execution_count": 12,
   "outputs": []
  },
  {
   "metadata": {},
   "cell_type": "markdown",
   "source": "",
   "id": "47aeb759ca686a81"
  },
  {
   "metadata": {
    "ExecuteTime": {
     "end_time": "2024-10-01T20:13:14.918652Z",
     "start_time": "2024-10-01T20:11:12.727059Z"
    }
   },
   "cell_type": "code",
   "source": [
    "data_dir = \"../Training_Data/\"\n",
    "\n",
    "patients = [os.path.basename(f) for f in os.scandir(data_dir) if f.is_dir()]\n",
    "patient = \"p026\"\n",
    "\n",
    "models = [model]\n",
    "for m in models:\n",
    "    process_and_plot_patient(m.to(device), device, data_dir_test, patient, [\"RUBCNL\"], results_filename = \"slim_model_results.csv\")\n",
    "    "
   ],
   "id": "2edc2978682f53e0",
   "execution_count": 9,
   "outputs": []
  },
  {
   "metadata": {},
   "cell_type": "code",
   "execution_count": null,
   "source": "",
   "id": "2d0a58cc9c01725c",
   "outputs": []
  }
 ],
 "metadata": {
  "kernelspec": {
   "display_name": "Python 3 (ipykernel)",
   "language": "python",
   "name": "python3"
  },
  "language_info": {
   "codemirror_mode": {
    "name": "ipython",
    "version": 3
   },
   "file_extension": ".py",
   "mimetype": "text/x-python",
   "name": "python",
   "nbconvert_exporter": "python",
   "pygments_lexer": "ipython3",
   "version": "3.10.7"
  }
 },
 "nbformat": 4,
 "nbformat_minor": 5
}
