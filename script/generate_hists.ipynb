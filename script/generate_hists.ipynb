{
 "cells": [
  {
   "cell_type": "code",
   "id": "initial_id",
   "metadata": {
    "tags": [],
    "ExecuteTime": {
     "end_time": "2024-09-28T11:53:12.033578Z",
     "start_time": "2024-09-28T11:53:08.351092Z"
    }
   },
   "source": [
    "import torch\n",
    "import os\n",
    "\n",
    "\n",
    "from script.plot_and_print import plot_data_scatter\n",
    "from script.process_csv import generate_results, merge_data, process_spatial_data, ann_data_to_csv\n",
    "import pandas as pd\n",
    "from model import load_model"
   ],
   "outputs": [],
   "execution_count": 1
  },
  {
   "metadata": {
    "ExecuteTime": {
     "end_time": "2024-09-28T11:53:12.195402Z",
     "start_time": "2024-09-28T11:53:12.034889Z"
    }
   },
   "cell_type": "code",
   "source": [
    "device = \"cuda\" if torch.cuda.is_available() else \"mps\" if torch.backends.mps.is_available() else \"cpu\"\n",
    "data_dir_train = \"../Training_Data/\"\n",
    "data_dir_test = \"../Test_Data/\"\n",
    "patients_train = [os.path.basename(f) for f in os.scandir(data_dir_train) if f.is_dir()]\n",
    "patients_test = [os.path.basename(f) for f in os.scandir(data_dir_test) if f.is_dir()][1:]\n",
    "print(patients_train)\n",
    "print(patients_test)\n",
    "\n",
    "model_dir = \"../remote_models/\"\n",
    "skip = 0\n",
    "model_dir_path = []\n",
    "\n",
    "for model_type_dir in os.listdir(model_dir):\n",
    "    sub_path = model_dir + model_type_dir\n",
    "    if model_type_dir == \".DS_Store\" or os.path.isfile(sub_path):\n",
    "        continue\n",
    "    for model_leaf_dir in os.listdir(sub_path):\n",
    "        sub_path = model_dir + model_type_dir + \"/\" + model_leaf_dir\n",
    "        if model_type_dir == \".DS_Store\" or os.path.isfile(sub_path):\n",
    "            continue\n",
    "        files = os.listdir(sub_path)\n",
    "        for f in files:\n",
    "            if f[-3:] == \".pt\" and f.find(\"ep_\") != -1:\n",
    "                src = sub_path + \"/\" + f\n",
    "                dst = sub_path + \"/\" + f[f.find(\"ep_\"):]\n",
    "                os.rename(src, dst)\n",
    "                if f[f.find(\"ep_\"):] == \"ep_29.pt\":\n",
    "                    model_dir_path.append((sub_path + \"/\", dst))\n",
    "print(model_dir_path)\n",
    "models = [load_model(x, y, log_json=True) for x, y in model_dir_path]"
   ],
   "id": "b30094854a8cff00",
   "outputs": [
    {
     "name": "stdout",
     "output_type": "stream",
     "text": [
      "['p020', 'p016', 'p014', 'p013', 'p025', 'p007', 'p009']\n",
      "['p026', 'p008']\n",
      "[('../remote_models/vgg13/base_model/', '../remote_models/vgg13/base_model/ep_29.pt'), ('../remote_models/vgg13/dropout/', '../remote_models/vgg13/dropout/ep_29.pt'), ('../remote_models/res50/RUBCNL_Res50_freeze_tmp/', '../remote_models/res50/RUBCNL_Res50_freeze_tmp/ep_29.pt'), ('../remote_models/res50/RUBCNL_Res50_drop_freeze/', '../remote_models/res50/RUBCNL_Res50_drop_freeze/ep_29.pt'), ('../remote_models/res50/RUBCNL_Res50/', '../remote_models/res50/RUBCNL_Res50/ep_29.pt'), ('../remote_models/res18/RUBCNL_Res18_ciga_freeze_drop/', '../remote_models/res18/RUBCNL_Res18_ciga_freeze_drop/ep_29.pt'), ('../remote_models/res18/RUBCNL_Res18_freeze_drop/', '../remote_models/res18/RUBCNL_Res18_freeze_drop/ep_29.pt'), ('../remote_models/res18/RUBCNL_Res18_ciga_drop/', '../remote_models/res18/RUBCNL_Res18_ciga_drop/ep_29.pt'), ('../remote_models/res18/RUBCNL_Res18_ciga_freeze/', '../remote_models/res18/RUBCNL_Res18_ciga_freeze/ep_29.pt'), ('../remote_models/res18/RUBCNL_Res18/', '../remote_models/res18/RUBCNL_Res18/ep_29.pt'), ('../remote_models/res18/RUBCNL_Res18_ciga/', '../remote_models/res18/RUBCNL_Res18_ciga/ep_29.pt'), ('../remote_models/res18/RUBCNL_Res18_freeze/', '../remote_models/res18/RUBCNL_Res18_freeze/ep_29.pt')]\n"
     ]
    },
    {
     "ename": "KeyError",
     "evalue": "'gene_list'",
     "output_type": "error",
     "traceback": [
      "\u001B[0;31m---------------------------------------------------------------------------\u001B[0m",
      "\u001B[0;31mKeyError\u001B[0m                                  Traceback (most recent call last)",
      "Cell \u001B[0;32mIn [2], line 30\u001B[0m\n\u001B[1;32m     28\u001B[0m                     model_dir_path\u001B[38;5;241m.\u001B[39mappend((sub_path \u001B[38;5;241m+\u001B[39m \u001B[38;5;124m\"\u001B[39m\u001B[38;5;124m/\u001B[39m\u001B[38;5;124m\"\u001B[39m, dst))\n\u001B[1;32m     29\u001B[0m \u001B[38;5;28mprint\u001B[39m(model_dir_path)\n\u001B[0;32m---> 30\u001B[0m models \u001B[38;5;241m=\u001B[39m [load_model(x, y) \u001B[38;5;28;01mfor\u001B[39;00m x, y \u001B[38;5;129;01min\u001B[39;00m model_dir_path]\n",
      "Cell \u001B[0;32mIn [2], line 30\u001B[0m, in \u001B[0;36m<listcomp>\u001B[0;34m(.0)\u001B[0m\n\u001B[1;32m     28\u001B[0m                     model_dir_path\u001B[38;5;241m.\u001B[39mappend((sub_path \u001B[38;5;241m+\u001B[39m \u001B[38;5;124m\"\u001B[39m\u001B[38;5;124m/\u001B[39m\u001B[38;5;124m\"\u001B[39m, dst))\n\u001B[1;32m     29\u001B[0m \u001B[38;5;28mprint\u001B[39m(model_dir_path)\n\u001B[0;32m---> 30\u001B[0m models \u001B[38;5;241m=\u001B[39m [\u001B[43mload_model\u001B[49m\u001B[43m(\u001B[49m\u001B[43mx\u001B[49m\u001B[43m,\u001B[49m\u001B[43m \u001B[49m\u001B[43my\u001B[49m\u001B[43m)\u001B[49m \u001B[38;5;28;01mfor\u001B[39;00m x, y \u001B[38;5;129;01min\u001B[39;00m model_dir_path]\n",
      "File \u001B[0;32m~/Documents/uni/Master/master thesis/sync/xai_cc/script/model.py:341\u001B[0m, in \u001B[0;36mload_model\u001B[0;34m(model_dir, model_name, json_name, log_json)\u001B[0m\n\u001B[1;32m    339\u001B[0m d \u001B[38;5;241m=\u001B[39m json\u001B[38;5;241m.\u001B[39mload(f)\n\u001B[1;32m    340\u001B[0m model_type \u001B[38;5;241m=\u001B[39m d[\u001B[38;5;124m\"\u001B[39m\u001B[38;5;124mmodel_type\u001B[39m\u001B[38;5;124m\"\u001B[39m]\n\u001B[0;32m--> 341\u001B[0m gene_list \u001B[38;5;241m=\u001B[39m \u001B[43md\u001B[49m\u001B[43m[\u001B[49m\u001B[38;5;124;43m\"\u001B[39;49m\u001B[38;5;124;43mgene_list\u001B[39;49m\u001B[38;5;124;43m\"\u001B[39;49m\u001B[43m]\u001B[49m\n\u001B[1;32m    342\u001B[0m random_weights \u001B[38;5;241m=\u001B[39m d[\u001B[38;5;124m\"\u001B[39m\u001B[38;5;124mrandom_weights\u001B[39m\u001B[38;5;124m\"\u001B[39m]\n\u001B[1;32m    343\u001B[0m dropout \u001B[38;5;241m=\u001B[39m d[\u001B[38;5;124m\"\u001B[39m\u001B[38;5;124mdropout\u001B[39m\u001B[38;5;124m\"\u001B[39m]\n",
      "\u001B[0;31mKeyError\u001B[0m: 'gene_list'"
     ]
    }
   ],
   "execution_count": 2
  },
  {
   "metadata": {
    "ExecuteTime": {
     "end_time": "2024-08-26T06:40:10.160495Z",
     "start_time": "2024-08-26T06:39:42.307112Z"
    }
   },
   "cell_type": "code",
   "source": [
    "for patient in patients:\n",
    "    ann_data_to_csv(data_dir)\n",
    "    process_spatial_data(patients, data_dir)\n",
    "    merge_data(data_dir, patient)"
   ],
   "id": "f5f8345ef735bf29",
   "execution_count": 3,
   "outputs": []
  },
  {
   "metadata": {
    "ExecuteTime": {
     "end_time": "2024-08-26T06:51:15.108498Z",
     "start_time": "2024-08-26T06:51:15.102135Z"
    }
   },
   "cell_type": "code",
   "source": [
    "def process_and_plot_patient(model, device, data_dir, patient, gene = \"RUBCNL\", results_filename = \"results.csv\"):\n",
    "    generate_results(model, device, data_dir, patient, gene, results_filename)\n",
    "    merge_data(data_dir, patient, results_filename)\n",
    "    plot_data_scatter(data_dir, patient, gene)"
   ],
   "id": "d20aef39f0d2acec",
   "execution_count": 16,
   "outputs": []
  },
  {
   "metadata": {
    "ExecuteTime": {
     "end_time": "2024-08-26T06:50:32.691518Z",
     "start_time": "2024-08-26T06:50:32.687508Z"
    }
   },
   "cell_type": "code",
   "source": [
    "columns = [\"model_name\", \"model_type\", \"gene\"]\n",
    "to_append = [[s + \"_mean_out\", s + \"_std_out\", s + \"_mean_labels\", s + \"_std_labels\", s + \"_pearson\", s] for s in patients_test]\n",
    "for s in to_append:\n",
    "    for t in s:\n",
    "        columns.append(t)\n",
    "print(len(columns))\n",
    "# mean_out, std_out, mean_labels, std_labels, pearson, patient\n",
    "print(patients_test)"
   ],
   "id": "758ad181d4885bab",
   "execution_count": 10,
   "outputs": []
  },
  {
   "metadata": {
    "ExecuteTime": {
     "end_time": "2024-08-26T06:50:33.639591Z",
     "start_time": "2024-08-26T06:50:33.624996Z"
    }
   },
   "cell_type": "code",
   "source": [
    "print(len(lines[0]))\n",
    "df = pd.DataFrame(lines, columns=columns)\n",
    "df.drop(patients_test, axis=1, inplace=True)\n",
    "df.head()\n"
   ],
   "id": "ccc8ec1f51cedfd1",
   "execution_count": 11,
   "outputs": []
  },
  {
   "metadata": {
    "ExecuteTime": {
     "end_time": "2024-08-26T06:50:41.032789Z",
     "start_time": "2024-08-26T06:50:41.027671Z"
    }
   },
   "cell_type": "code",
   "source": "df.to_csv(\"results_all_models_test.csv\")",
   "id": "8b4463e88e3510c4",
   "execution_count": 12,
   "outputs": []
  },
  {
   "metadata": {},
   "cell_type": "markdown",
   "source": "",
   "id": "47aeb759ca686a81"
  },
  {
   "metadata": {
    "ExecuteTime": {
     "end_time": "2024-08-26T06:59:50.761562Z",
     "start_time": "2024-08-26T06:54:58.783255Z"
    }
   },
   "cell_type": "code",
   "source": [
    "data_dir = \"../Training_Data/\"\n",
    "\n",
    "patients = [os.path.basename(f) for f in os.scandir(data_dir) if f.is_dir()]\n",
    "patient = \"p026\"\n",
    "for model in models:\n",
    "    print(model[1])\n",
    "    process_and_plot_patient(model[0].to(device), device, data_dir_test, patient, \"RUBCNL\", results_filename = \"slim_model_results.csv\")\n",
    "    "
   ],
   "id": "2edc2978682f53e0",
   "execution_count": 19,
   "outputs": []
  },
  {
   "metadata": {},
   "cell_type": "code",
   "execution_count": null,
   "source": "",
   "id": "2d0a58cc9c01725c",
   "outputs": []
  }
 ],
 "metadata": {
  "kernelspec": {
   "display_name": "Python 3 (ipykernel)",
   "language": "python",
   "name": "python3"
  },
  "language_info": {
   "codemirror_mode": {
    "name": "ipython",
    "version": 3
   },
   "file_extension": ".py",
   "mimetype": "text/x-python",
   "name": "python",
   "nbconvert_exporter": "python",
   "pygments_lexer": "ipython3",
   "version": "3.10.7"
  }
 },
 "nbformat": 4,
 "nbformat_minor": 5
}
