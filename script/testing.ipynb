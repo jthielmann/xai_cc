{
 "cells": [
  {
   "cell_type": "code",
   "id": "initial_id",
   "metadata": {
    "collapsed": true,
    "ExecuteTime": {
     "end_time": "2024-08-23T09:53:09.228708Z",
     "start_time": "2024-08-23T09:53:06.143178Z"
    }
   },
   "source": [
    "from model import get_models_and_path\n",
    "models = get_models_and_path()\n"
   ],
   "execution_count": 2,
   "outputs": []
  },
  {
   "metadata": {
    "ExecuteTime": {
     "end_time": "2024-08-23T10:02:29.199069Z",
     "start_time": "2024-08-23T10:02:29.195202Z"
    }
   },
   "cell_type": "code",
   "source": [
    "resFreeze = models[-4]\n",
    "print(resFreeze[0].__class__.__name__)\n",
    "print(resFreeze[1])\n",
    "res = models[-5]\n",
    "print(res[0].__class__.__name__)\n",
    "print(res[1])\n"
   ],
   "id": "a33309b896ecaf42",
   "execution_count": 7,
   "outputs": []
  },
  {
   "metadata": {
    "ExecuteTime": {
     "end_time": "2024-08-23T10:07:01.225529Z",
     "start_time": "2024-08-23T10:07:01.218191Z"
    }
   },
   "cell_type": "code",
   "source": [
    "target = \"gene1.0.bias\"\n",
    "\n",
    "for name, param in resFreeze[0].named_parameters():\n",
    "    if name != target:\n",
    "        continue\n",
    "    \n",
    "    print(name, \": \", param.data)\n",
    "    \n",
    "for name, param in res[0].named_parameters():\n",
    "    if name != target:\n",
    "        continue\n",
    "    #print(name)\n",
    "    print(name, \": \", param.data)\n",
    "    "
   ],
   "id": "4799b3a2084a3b2",
   "execution_count": 14,
   "outputs": []
  },
  {
   "metadata": {
    "ExecuteTime": {
     "end_time": "2024-09-13T09:54:37.070834Z",
     "start_time": "2024-09-13T09:54:36.778635Z"
    }
   },
   "cell_type": "code",
   "source": "import pandas as pd",
   "id": "bbcf3a7efefeaa2c",
   "outputs": [],
   "execution_count": 2
  },
  {
   "metadata": {
    "ExecuteTime": {
     "end_time": "2024-09-13T09:54:37.144054Z",
     "start_time": "2024-09-13T09:54:37.072180Z"
    }
   },
   "cell_type": "code",
   "source": [
    "df = pd.read_csv(\"../Training_Data/p009/Preprocessed_STDataset/gene_data.csv\")\n",
    "print(df.head())"
   ],
   "id": "cffc9a0d52a075c0",
   "outputs": [
    {
     "name": "stdout",
     "output_type": "stream",
     "text": [
      "        LYZ   SLC51B     DEFA5      CD27    RUBCNL      FLT1      AREG  \\\n",
      "0 -0.162695 -0.97812 -1.112690 -0.402535 -0.156612 -0.685642 -0.790518   \n",
      "1 -0.357453 -0.97812  0.469045 -0.625870 -0.333559 -0.685642 -0.790518   \n",
      "2  0.290787 -0.97812  1.531921  0.229230 -0.000078 -0.685642 -0.790518   \n",
      "3  0.290787 -0.97812 -0.134141 -1.242845 -0.776494 -0.685642 -0.790518   \n",
      "4 -0.357453 -0.97812 -0.134141 -0.625870  0.140268 -0.685642 -0.790518   \n",
      "\n",
      "       IL1A    COL4A1    PHLDA2  ...     CXCR2      NKG7     MCM3   SLC26A2  \\\n",
      "0  0.316883 -0.403293 -0.060785  ... -0.626653 -0.526299 -0.86564  0.144542   \n",
      "1  0.316883 -1.249125 -1.084120  ... -0.626653 -0.526299 -0.86564 -1.032822   \n",
      "2  1.964727 -0.403293  0.570007  ... -0.626653 -0.526299 -0.86564 -1.032822   \n",
      "3  0.316883 -0.403293 -1.084120  ... -0.626653 -0.526299 -0.86564 -0.304439   \n",
      "4 -0.848575 -1.249125 -1.084120  ... -0.626653 -0.526299 -0.86564 -1.032822   \n",
      "\n",
      "      TIGIT     OLFM4      KLK1     AXIN2      MUC2            tile  \n",
      "0 -0.410101 -0.213055 -0.229665 -0.502691 -0.263455  p009_72_0.tiff  \n",
      "1 -0.410101 -0.213055 -0.229665 -0.502691 -0.263455  p009_73_0.tiff  \n",
      "2 -0.410101 -0.213055 -0.229665  1.398921 -0.263455  p009_74_0.tiff  \n",
      "3 -0.410101 -0.213055 -0.229665 -0.502691 -0.263455  p009_75_0.tiff  \n",
      "4 -0.410101 -0.213055 -0.229665 -0.502691 -0.263455  p009_76_0.tiff  \n",
      "\n",
      "[5 rows x 192 columns]\n"
     ]
    }
   ],
   "execution_count": 3
  },
  {
   "metadata": {
    "ExecuteTime": {
     "end_time": "2024-09-13T09:54:38.346236Z",
     "start_time": "2024-09-13T09:54:38.342552Z"
    }
   },
   "cell_type": "code",
   "source": "print(df[\"MKI67\"])",
   "id": "feef39cc83bfad9",
   "outputs": [
    {
     "name": "stdout",
     "output_type": "stream",
     "text": [
      "0      -0.482148\n",
      "1      -0.482148\n",
      "2      -0.482148\n",
      "3      -0.482148\n",
      "4      -0.482148\n",
      "          ...   \n",
      "2915   -0.482148\n",
      "2916   -0.482148\n",
      "2917   -0.482148\n",
      "2918    1.414618\n",
      "2919   -0.482148\n",
      "Name: MKI67, Length: 2920, dtype: float64\n"
     ]
    }
   ],
   "execution_count": 4
  },
  {
   "metadata": {
    "ExecuteTime": {
     "end_time": "2024-09-13T09:55:03.450804Z",
     "start_time": "2024-09-13T09:55:03.412486Z"
    }
   },
   "cell_type": "code",
   "source": [
    "df = pd.read_csv(\"../Training_Data/p013/Preprocessed_STDataset/gene_data.csv\")\n",
    "print(df.head())\n",
    "mk = df[\"MKI67\"]\n",
    "rb = df[\"RUBCNL\"]\n",
    "\n",
    "#RUBCNL"
   ],
   "id": "b0b768ded1e822b0",
   "outputs": [
    {
     "name": "stdout",
     "output_type": "stream",
     "text": [
      "        LYZ    SLC51B     DEFA5      CD27    RUBCNL      FLT1      AREG  \\\n",
      "0  0.194354  1.062390 -0.464035  0.395991  0.297868 -1.152690 -1.324021   \n",
      "1  1.622593  1.062390  0.160855  1.045367  1.550454 -0.004348  0.820927   \n",
      "2  1.487137  0.318017  0.609875  0.604993  0.974872 -1.152690 -1.324021   \n",
      "3  1.622593  0.318017 -0.464035  0.539584  0.813911 -0.004348 -1.324021   \n",
      "4  1.487137 -0.263620 -1.499122  0.666778  0.165409 -1.152690 -0.581869   \n",
      "\n",
      "       IL1A    COL4A1    PHLDA2  ...     CXCR2      NKG7      MCM3   SLC26A2  \\\n",
      "0  0.004729 -0.202566 -0.823470  ...  0.418946 -0.731669 -1.087606 -0.942118   \n",
      "1  0.672551 -1.662169  0.524157  ...  1.169946 -0.731669  0.502669 -0.014073   \n",
      "2 -1.101473 -1.129536  0.524157  ... -0.825034 -0.731669  0.502669 -0.014073   \n",
      "3  0.004729 -0.746809  0.524157  ... -0.825034 -0.731669 -0.095982 -0.014073   \n",
      "4 -1.101473 -0.447880  0.716235  ...  1.169946 -0.731669 -0.095982 -0.014073   \n",
      "\n",
      "      TIGIT     OLFM4      KLK1     AXIN2      MUC2           tile  \n",
      "0 -0.799791  1.230697  1.376225  0.550436 -0.491032  p013_1_0.tiff  \n",
      "1  0.652263 -0.665403 -0.745036 -0.044004 -0.491032  p013_2_0.tiff  \n",
      "2 -0.799791 -0.665403 -0.745036  0.550436 -0.491032  p013_3_0.tiff  \n",
      "3  0.652263  0.516919  0.577687 -0.044004 -0.491032  p013_4_0.tiff  \n",
      "4 -0.799791 -0.665403 -0.745036 -0.044004 -0.491032  p013_5_0.tiff  \n",
      "\n",
      "[5 rows x 192 columns]\n"
     ]
    }
   ],
   "execution_count": 9
  },
  {
   "metadata": {
    "ExecuteTime": {
     "end_time": "2024-09-13T09:55:04.162088Z",
     "start_time": "2024-09-13T09:55:04.158565Z"
    }
   },
   "cell_type": "code",
   "source": [
    "print(rb.min())\n",
    "print(mk.min())\n"
   ],
   "id": "7a994bb82e137591",
   "outputs": [
    {
     "name": "stdout",
     "output_type": "stream",
     "text": [
      "-3.623173041692125\n",
      "-0.6384363382434257\n"
     ]
    }
   ],
   "execution_count": 10
  },
  {
   "metadata": {
    "ExecuteTime": {
     "end_time": "2024-09-13T09:55:06.844117Z",
     "start_time": "2024-09-13T09:55:06.837573Z"
    }
   },
   "cell_type": "code",
   "source": "rb.value_counts()",
   "id": "88c2436e24709c10",
   "outputs": [
    {
     "data": {
      "text/plain": [
       "RUBCNL\n",
       "-0.975272    42\n",
       "-0.820521    38\n",
       "-0.681907    36\n",
       " 0.018293    35\n",
       "-1.150418    33\n",
       "             ..\n",
       " 2.121521     1\n",
       " 1.690388     1\n",
       " 1.796714     1\n",
       "-3.623173     1\n",
       " 2.004438     1\n",
       "Name: count, Length: 70, dtype: int64"
      ]
     },
     "execution_count": 11,
     "metadata": {},
     "output_type": "execute_result"
    }
   ],
   "execution_count": 11
  },
  {
   "metadata": {
    "ExecuteTime": {
     "end_time": "2024-09-13T09:55:07.578682Z",
     "start_time": "2024-09-13T09:55:07.575424Z"
    }
   },
   "cell_type": "code",
   "source": "mk.value_counts()\n",
   "id": "59b940839aa7534b",
   "outputs": [
    {
     "data": {
      "text/plain": [
       "MKI67\n",
       "-0.638436    622\n",
       " 0.916830    205\n",
       " 1.855756     60\n",
       " 2.530430     19\n",
       " 3.057383      7\n",
       " 3.489823      3\n",
       " 3.856554      3\n",
       " 4.708216      1\n",
       "Name: count, dtype: int64"
      ]
     },
     "execution_count": 12,
     "metadata": {},
     "output_type": "execute_result"
    }
   ],
   "execution_count": 12
  },
  {
   "metadata": {},
   "cell_type": "code",
   "outputs": [],
   "execution_count": null,
   "source": "",
   "id": "a7c08c78ba0521db"
  }
 ],
 "metadata": {
  "kernelspec": {
   "display_name": "Python 3",
   "language": "python",
   "name": "python3"
  },
  "language_info": {
   "codemirror_mode": {
    "name": "ipython",
    "version": 2
   },
   "file_extension": ".py",
   "mimetype": "text/x-python",
   "name": "python",
   "nbconvert_exporter": "python",
   "pygments_lexer": "ipython2",
   "version": "2.7.6"
  }
 },
 "nbformat": 4,
 "nbformat_minor": 5
}
