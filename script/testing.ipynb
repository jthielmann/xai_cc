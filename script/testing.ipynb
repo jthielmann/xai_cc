{
 "cells": [
  {
   "cell_type": "code",
   "id": "initial_id",
   "metadata": {
    "collapsed": true,
    "ExecuteTime": {
     "end_time": "2024-08-23T09:53:09.228708Z",
     "start_time": "2024-08-23T09:53:06.143178Z"
    }
   },
   "source": [
    "from model import get_models_and_path\n",
    "models = get_models_and_path()\n"
   ],
   "execution_count": 2,
   "outputs": []
  },
  {
   "metadata": {
    "ExecuteTime": {
     "end_time": "2024-08-23T10:02:29.199069Z",
     "start_time": "2024-08-23T10:02:29.195202Z"
    }
   },
   "cell_type": "code",
   "source": [
    "resFreeze = models[-4]\n",
    "print(resFreeze[0].__class__.__name__)\n",
    "print(resFreeze[1])\n",
    "res = models[-5]\n",
    "print(res[0].__class__.__name__)\n",
    "print(res[1])\n"
   ],
   "id": "a33309b896ecaf42",
   "execution_count": 7,
   "outputs": []
  },
  {
   "metadata": {
    "ExecuteTime": {
     "end_time": "2024-08-23T10:07:01.225529Z",
     "start_time": "2024-08-23T10:07:01.218191Z"
    }
   },
   "cell_type": "code",
   "source": [
    "target = \"gene1.0.bias\"\n",
    "\n",
    "for name, param in resFreeze[0].named_parameters():\n",
    "    if name != target:\n",
    "        continue\n",
    "    \n",
    "    print(name, \": \", param.data)\n",
    "    \n",
    "for name, param in res[0].named_parameters():\n",
    "    if name != target:\n",
    "        continue\n",
    "    #print(name)\n",
    "    print(name, \": \", param.data)\n",
    "    "
   ],
   "id": "4799b3a2084a3b2",
   "execution_count": 14,
   "outputs": []
  },
  {
   "metadata": {},
   "cell_type": "code",
   "execution_count": null,
   "source": "",
   "id": "bbcf3a7efefeaa2c",
   "outputs": []
  }
 ],
 "metadata": {
  "kernelspec": {
   "display_name": "Python 3",
   "language": "python",
   "name": "python3"
  },
  "language_info": {
   "codemirror_mode": {
    "name": "ipython",
    "version": 2
   },
   "file_extension": ".py",
   "mimetype": "text/x-python",
   "name": "python",
   "nbconvert_exporter": "python",
   "pygments_lexer": "ipython2",
   "version": "2.7.6"
  }
 },
 "nbformat": 4,
 "nbformat_minor": 5
}
