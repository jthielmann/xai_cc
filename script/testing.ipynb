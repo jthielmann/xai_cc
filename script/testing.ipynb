{
 "cells": [
  {
   "cell_type": "code",
   "id": "initial_id",
   "metadata": {
    "collapsed": true,
    "ExecuteTime": {
     "end_time": "2024-08-23T09:53:09.228708Z",
     "start_time": "2024-08-23T09:53:06.143178Z"
    }
   },
   "source": [
    "from model import get_models_and_path\n",
    "models = get_models_and_path()\n"
   ],
   "execution_count": 2,
   "outputs": []
  },
  {
   "metadata": {
    "ExecuteTime": {
     "end_time": "2024-08-23T10:02:29.199069Z",
     "start_time": "2024-08-23T10:02:29.195202Z"
    }
   },
   "cell_type": "code",
   "source": [
    "resFreeze = models[-4]\n",
    "print(resFreeze[0].__class__.__name__)\n",
    "print(resFreeze[1])\n",
    "res = models[-5]\n",
    "print(res[0].__class__.__name__)\n",
    "print(res[1])\n"
   ],
   "id": "a33309b896ecaf42",
   "execution_count": 7,
   "outputs": []
  },
  {
   "metadata": {
    "ExecuteTime": {
     "end_time": "2024-08-23T10:07:01.225529Z",
     "start_time": "2024-08-23T10:07:01.218191Z"
    }
   },
   "cell_type": "code",
   "source": [
    "target = \"gene1.0.bias\"\n",
    "\n",
    "for name, param in resFreeze[0].named_parameters():\n",
    "    if name != target:\n",
    "        continue\n",
    "    \n",
    "    print(name, \": \", param.data)\n",
    "    \n",
    "for name, param in res[0].named_parameters():\n",
    "    if name != target:\n",
    "        continue\n",
    "    #print(name)\n",
    "    print(name, \": \", param.data)\n",
    "    "
   ],
   "id": "4799b3a2084a3b2",
   "execution_count": 14,
   "outputs": []
  },
  {
   "metadata": {
    "ExecuteTime": {
     "end_time": "2024-09-13T09:54:37.070834Z",
     "start_time": "2024-09-13T09:54:36.778635Z"
    }
   },
   "cell_type": "code",
   "source": "import pandas as pd",
   "id": "bbcf3a7efefeaa2c",
   "execution_count": 2,
   "outputs": []
  },
  {
   "metadata": {
    "ExecuteTime": {
     "end_time": "2024-09-13T09:54:37.144054Z",
     "start_time": "2024-09-13T09:54:37.072180Z"
    }
   },
   "cell_type": "code",
   "source": [
    "df = pd.read_csv(\"../Training_Data/p009/meta_data/gene_data.csv\")\n",
    "print(df.head())"
   ],
   "id": "cffc9a0d52a075c0",
   "execution_count": 3,
   "outputs": []
  },
  {
   "metadata": {
    "ExecuteTime": {
     "end_time": "2024-09-13T09:54:38.346236Z",
     "start_time": "2024-09-13T09:54:38.342552Z"
    }
   },
   "cell_type": "code",
   "source": "print(df[\"MKI67\"])",
   "id": "feef39cc83bfad9",
   "execution_count": 4,
   "outputs": []
  },
  {
   "metadata": {
    "ExecuteTime": {
     "end_time": "2024-09-13T09:55:03.450804Z",
     "start_time": "2024-09-13T09:55:03.412486Z"
    }
   },
   "cell_type": "code",
   "source": [
    "df = pd.read_csv(\"../Training_Data/p013/meta_data/gene_data.csv\")\n",
    "print(df.head())\n",
    "mk = df[\"MKI67\"]\n",
    "rb = df[\"RUBCNL\"]\n",
    "\n",
    "#RUBCNL"
   ],
   "id": "b0b768ded1e822b0",
   "execution_count": 9,
   "outputs": []
  },
  {
   "metadata": {
    "ExecuteTime": {
     "end_time": "2024-09-13T09:55:04.162088Z",
     "start_time": "2024-09-13T09:55:04.158565Z"
    }
   },
   "cell_type": "code",
   "source": [
    "print(rb.min())\n",
    "print(mk.min())\n"
   ],
   "id": "7a994bb82e137591",
   "execution_count": 10,
   "outputs": []
  },
  {
   "metadata": {
    "ExecuteTime": {
     "end_time": "2024-09-13T09:55:06.844117Z",
     "start_time": "2024-09-13T09:55:06.837573Z"
    }
   },
   "cell_type": "code",
   "source": "rb.value_counts()",
   "id": "88c2436e24709c10",
   "execution_count": 11,
   "outputs": []
  },
  {
   "metadata": {
    "ExecuteTime": {
     "end_time": "2024-09-13T09:55:07.578682Z",
     "start_time": "2024-09-13T09:55:07.575424Z"
    }
   },
   "cell_type": "code",
   "source": "mk.value_counts()\n",
   "id": "59b940839aa7534b",
   "execution_count": 12,
   "outputs": []
  },
  {
   "metadata": {
    "ExecuteTime": {
     "end_time": "2024-09-23T11:54:54.385844Z",
     "start_time": "2024-09-23T11:54:54.382912Z"
    }
   },
   "cell_type": "code",
   "source": [
    "class A():\n",
    "    def __init__(self, mylist):\n",
    "        for item in mylist:\n",
    "            setattr(self, item, item + \"xxx\")\n",
    "            print(getattr(self, item))\n",
    "            print(item)\n",
    "a = A([\"a\", \"b\"])"
   ],
   "id": "9a231f85d7fd0c6",
   "execution_count": 18,
   "outputs": []
  },
  {
   "metadata": {
    "ExecuteTime": {
     "end_time": "2024-09-23T11:54:55.136718Z",
     "start_time": "2024-09-23T11:54:55.133029Z"
    }
   },
   "cell_type": "code",
   "source": [
    "a.c = \"asb\"\n",
    "print(getattr(a, \"b\"))\n",
    "print(a.b)\n",
    "print(a.c)"
   ],
   "id": "841d0f947754dfa3",
   "execution_count": 19,
   "outputs": []
  },
  {
   "metadata": {
    "ExecuteTime": {
     "end_time": "2024-09-23T11:47:03.813616Z",
     "start_time": "2024-09-23T11:47:03.811013Z"
    }
   },
   "cell_type": "code",
   "source": "",
   "id": "3e0687ef53834677",
   "execution_count": 12,
   "outputs": []
  },
  {
   "metadata": {
    "ExecuteTime": {
     "end_time": "2024-09-23T15:28:53.135275Z",
     "start_time": "2024-09-23T15:28:53.131429Z"
    }
   },
   "cell_type": "code",
   "source": [
    "import json\n",
    "json_path = \"./test.json\"\n",
    "with open(json_path, \"w\") as f:\n",
    "    json_dict = {\"type\":\"vgg13\", \"random_weights\":True, 'gene_list':[\"abc\", \"def\"], \"dropout\": True, \"pretrained_output_dim\":1000}\n",
    "    json.dump(json_dict, f)\n",
    "    \n",
    "with open(json_path) as f:\n",
    "    d = json.load(f)\n",
    "    print(d)\n",
    "    model_type = d[\"type\"]\n",
    "    print(type(model_type), model_type)\n",
    "    random_weights = d[\"random_weights\"]\n",
    "    print(type(random_weights), random_weights)\n",
    "    \n",
    "    gene_list = d[\"gene_list\"]\n",
    "    print(type(gene_list), gene_list)\n",
    "    \n",
    "    dropout = d[\"dropout\"]\n",
    "    print(type(dropout), dropout)\n",
    "    \n",
    "    pretrained_output_dim = d[\"pretrained_output_dim\"]\n",
    "    print(type(pretrained_output_dim), pretrained_output_dim)\n",
    "    "
   ],
   "id": "9ca6f0d24804e46d",
   "execution_count": 9,
   "outputs": []
  },
  {
   "metadata": {
    "ExecuteTime": {
     "end_time": "2024-10-02T16:58:06.858202Z",
     "start_time": "2024-10-02T16:58:06.217970Z"
    }
   },
   "cell_type": "code",
   "source": [
    "import matplotlib.pyplot as plt\n",
    "path = \"../models/resnet18/MKI67_random_freeze/ep_29_results.csv\"\n",
    "from plot_and_print import plot_data_scatter\n",
    "data_dir = \"../models/resnet18/MKI67_random_freeze/\"\n",
    "plot_data_scatter(data_dir)"
   ],
   "id": "4eb3cf0d601507d6",
   "execution_count": 2,
   "outputs": []
  },
  {
   "metadata": {},
   "cell_type": "markdown",
   "source": "",
   "id": "de27afc7b0658ebc"
  },
  {
   "metadata": {
    "ExecuteTime": {
     "end_time": "2024-10-03T08:10:11.984533Z",
     "start_time": "2024-10-03T08:10:11.424493Z"
    }
   },
   "cell_type": "code",
   "source": [
    "import pandas as pd\n",
    "from model import load_model\n",
    "gene = \"RUBCNL\"\n",
    "merge = pd.read_csv(\"../models/resnet50/\" + gene + \"_random_freeze_dropout/ep_29_results.csv\")\n",
    "model = load_model(\"../models/resnet50/\" + gene + \"_random/\", \"../models/resnet50/\" + gene + \"_random/ep_29.pt\")\n",
    "print(merge.head())\n",
    "print(model.gene_list)\n",
    "plt.scatter(merge['out_' + gene], merge['labels_' + gene], )\n",
    "plt.plot( [-2,3],[-2,3], color='red' )\n",
    "plt.xlabel('output')\n",
    "plt.ylabel('target')\n",
    "plt.show()\n"
   ],
   "id": "36daeaa3e6e15f41",
   "execution_count": 19,
   "outputs": []
  },
  {
   "metadata": {
    "ExecuteTime": {
     "end_time": "2024-10-02T17:24:58.359453Z",
     "start_time": "2024-10-02T17:24:58.279809Z"
    }
   },
   "cell_type": "code",
   "source": [
    "for gene in model.gene_list:\n",
    "    out_string = \"out_\" + gene\n",
    "    labels_string = \"labels_\" + gene\n",
    "\n",
    "    plt.scatter(merge[out_string], merge[labels_string])\n",
    "    import torchmetrics\n",
    "    import torch\n",
    "    mse = torchmetrics.MeanSquaredError()\n",
    "    result = mse(torch.tensor(merge[out_string].to_numpy()), torch.tensor(merge[labels_string].to_numpy()))\n",
    "\n",
    "    plt.text(x=-2, y=3, s=\"MSE: \" + str(round(result.item(), 2)))\n",
    "    plt.plot([-2,3],[-2,3], color='red')\n",
    "    plt.xlabel('output')\n",
    "    plt.ylabel('target')\n",
    "plt.show()\n",
    "    #plt.savefig(row[\"model_dir\"] + \"/scatter.png\")"
   ],
   "id": "ec690f1bbc540292",
   "execution_count": 15,
   "outputs": []
  },
  {
   "metadata": {
    "ExecuteTime": {
     "end_time": "2024-10-03T20:43:51.418539Z",
     "start_time": "2024-10-03T20:43:51.407671Z"
    }
   },
   "cell_type": "code",
   "source": [
    "mylist = []\n",
    "mylist.append([])\n"
   ],
   "id": "e08c5a281505e6f9",
   "execution_count": 2,
   "outputs": []
  },
  {
   "metadata": {
    "ExecuteTime": {
     "end_time": "2024-10-04T15:46:23.238001Z",
     "start_time": "2024-10-04T15:46:23.235497Z"
    }
   },
   "cell_type": "code",
   "source": [
    "import timm\n",
    "import torch"
   ],
   "id": "ec412456b98dacd4",
   "execution_count": 2,
   "outputs": []
  },
  {
   "metadata": {
    "ExecuteTime": {
     "end_time": "2024-10-04T17:36:41.703963Z",
     "start_time": "2024-10-04T17:36:35.915137Z"
    }
   },
   "cell_type": "code",
   "source": [
    "\n",
    "model = timm.create_model('resnet50d', num_classes=10, pretrained=True)\n",
    "x     = torch.randn(1, 3, 224, 224)\n",
    "model(x).shape"
   ],
   "id": "be4c8ed11ab6018d",
   "execution_count": 7,
   "outputs": []
  },
  {
   "metadata": {
    "ExecuteTime": {
     "end_time": "2024-10-22T20:12:49.497772Z",
     "start_time": "2024-10-22T20:12:49.492134Z"
    }
   },
   "cell_type": "code",
   "source": [
    "import torch\n",
    "import torch.nn as nn\n",
    "\n",
    "# Define input (a batch of 1 grayscale image of size 4x4)\n",
    "input_tensor = torch.randn(1, 1, 100, 100)\n",
    "\n",
    "# Define ConvTranspose2d layer\n",
    "# Input channels = 1, Output channels = 1, Kernel size = 3, Stride = 2, Padding = 1\n",
    "conv_transpose = nn.ConvTranspose2d(in_channels=1, out_channels=1, kernel_size=2, stride=3)\n",
    "\n",
    "# Forward pass\n",
    "#output_tensor = conv_transpose(input_tensor, output_size=(1, 1, 8, 8))\n",
    "output_tensor = conv_transpose(input_tensor)\n",
    "\n",
    "# Print input and output shapes\n",
    "print(\"Input shape: \", input_tensor.shape)   # (1, 1, 4, 4)\n",
    "print(\"Output shape: \", output_tensor.shape) # (1, 1, 8, 8)\n",
    "#print(input_tensor)\n",
    "#print(output_tensor)"
   ],
   "id": "a6d77abfbb6854c6",
   "execution_count": 65,
   "outputs": []
  },
  {
   "metadata": {
    "ExecuteTime": {
     "end_time": "2024-10-22T22:47:28.399176Z",
     "start_time": "2024-10-22T22:47:28.339629Z"
    }
   },
   "cell_type": "code",
   "source": [
    "import torch\n",
    "import torch.nn as nn\n",
    "import torch.nn.functional as F\n",
    "\n",
    "class UpsampleResNet(nn.Module):\n",
    "    def __init__(self):\n",
    "        super(UpsampleResNet, self).__init__()\n",
    "\n",
    "        # Input is n, 512, 1, 1, we need to progressively upsample to n, 3, 224, 224\n",
    "\n",
    "        # First upsample from 512x1x1 to 256x7x7\n",
    "        self.upsample1 = nn.ConvTranspose2d(512, 256, kernel_size=7, stride=1, padding=0, bias=False)\n",
    "        self.bn1 = nn.BatchNorm2d(256)\n",
    "\n",
    "        # Upsample from 256x7x7 to 128x14x14\n",
    "        self.upsample2 = nn.ConvTranspose2d(256, 128, kernel_size=4, stride=2, padding=1, bias=False)\n",
    "        self.bn2 = nn.BatchNorm2d(128)\n",
    "\n",
    "        # Upsample from 128x14x14 to 64x28x28\n",
    "        self.upsample3 = nn.ConvTranspose2d(128, 64, kernel_size=4, stride=2, padding=1, bias=False)\n",
    "        self.bn3 = nn.BatchNorm2d(64)\n",
    "\n",
    "        # Upsample from 64x28x28 to 32x56x56\n",
    "        self.upsample4 = nn.ConvTranspose2d(64, 32, kernel_size=4, stride=2, padding=1, bias=False)\n",
    "        self.bn4 = nn.BatchNorm2d(32)\n",
    "\n",
    "        # Upsample from 32x56x56 to 16x112x112\n",
    "        self.upsample5 = nn.ConvTranspose2d(32, 16, kernel_size=4, stride=2, padding=1, bias=False)\n",
    "        self.bn5 = nn.BatchNorm2d(16)\n",
    "\n",
    "        # Upsample from 16x112x112 to 3x224x224 (final RGB image)\n",
    "        self.upsample6 = nn.ConvTranspose2d(16, 3, kernel_size=4, stride=2, padding=1, bias=False)\n",
    "\n",
    "    def forward(self, x):\n",
    "        # Input x is n, 512, 1, 1\n",
    "\n",
    "        # First block\n",
    "        x = self.upsample1(x)\n",
    "        x = self.bn1(x)\n",
    "        x = F.relu(x)\n",
    "\n",
    "        # Second block\n",
    "        x = self.upsample2(x)\n",
    "        x = self.bn2(x)\n",
    "        x = F.relu(x)\n",
    "\n",
    "        # Third block\n",
    "        x = self.upsample3(x)\n",
    "        x = self.bn3(x)\n",
    "        x = F.relu(x)\n",
    "\n",
    "        # Fourth block\n",
    "        x = self.upsample4(x)\n",
    "        x = self.bn4(x)\n",
    "        x = F.relu(x)\n",
    "\n",
    "        # Fifth block\n",
    "        x = self.upsample5(x)\n",
    "        x = self.bn5(x)\n",
    "        x = F.relu(x)\n",
    "\n",
    "        # Final block (no activation needed, output should have RGB values)\n",
    "        x = self.upsample6(x)\n",
    "\n",
    "        return x\n",
    "\n",
    "# Example usage:\n",
    "model = UpsampleResNet()\n",
    "input_tensor = torch.randn(1, 512, 1, 1)  # Batch size of 1, with 512x1x1 input\n",
    "output = model(input_tensor)\n",
    "print(output.shape)  # Expected shape: (1, 3, 224, 224)\n"
   ],
   "id": "c9341621490651f4",
   "execution_count": 66,
   "outputs": []
  },
  {
   "metadata": {
    "ExecuteTime": {
     "end_time": "2024-10-22T22:51:19.695062Z",
     "start_time": "2024-10-22T22:51:19.640717Z"
    }
   },
   "cell_type": "code",
   "source": [
    "import torch\n",
    "import torch.nn as nn\n",
    "import torch.nn.functional as F\n",
    "\n",
    "class UpsampleBlock(nn.Module):\n",
    "    def __init__(self, in_planes, out_planes, stride=1, upsample=False):\n",
    "        super(UpsampleBlock, self).__init__()\n",
    "        self.conv1 = nn.ConvTranspose2d(in_planes, out_planes, kernel_size=3, stride=stride, padding=1, output_padding=(stride - 1), bias=False)\n",
    "        self.bn1 = nn.BatchNorm2d(out_planes)\n",
    "        self.conv2 = nn.ConvTranspose2d(out_planes, out_planes, kernel_size=3, stride=1, padding=1, bias=False)\n",
    "        self.bn2 = nn.BatchNorm2d(out_planes)\n",
    "\n",
    "        self.upsample = None\n",
    "        if upsample or stride != 1 or in_planes != out_planes:\n",
    "            # When upsampling, adjust the input dimensions to match the output dimensions.\n",
    "            self.upsample = nn.Sequential(\n",
    "                nn.ConvTranspose2d(in_planes, out_planes, kernel_size=3, stride=stride, padding=1, output_padding=(stride - 1), bias=False),\n",
    "                nn.BatchNorm2d(out_planes)\n",
    "            )\n",
    "\n",
    "    def forward(self, x):\n",
    "        identity = x\n",
    "\n",
    "        out = self.conv1(x)\n",
    "        out = self.bn1(out)\n",
    "        out = F.relu(out)\n",
    "\n",
    "        out = self.conv2(out)\n",
    "        out = self.bn2(out)\n",
    "\n",
    "        if self.upsample is not None:\n",
    "            identity = self.upsample(identity)\n",
    "\n",
    "        out += identity\n",
    "        out = F.relu(out)\n",
    "\n",
    "        return out\n",
    "\n",
    "class ResNetUpsample(nn.Module):\n",
    "    def __init__(self, block, layers, num_classes=3):\n",
    "        super(ResNetUpsample, self).__init__()\n",
    "\n",
    "        # Start with n, 512, 1, 1 input\n",
    "        self.in_planes = 512\n",
    "\n",
    "        # Build four layers similar to ResNet\n",
    "        self.layer1 = self._make_layer(block, 256, layers[0], stride=2, upsample=True)  # Upsample to 7x7\n",
    "        self.layer2 = self._make_layer(block, 128, layers[1], stride=2, upsample=True)  # Upsample to 14x14\n",
    "        self.layer3 = self._make_layer(block, 64, layers[2], stride=2, upsample=True)   # Upsample to 28x28\n",
    "        self.layer4 = self._make_layer(block, 32, layers[3], stride=2, upsample=True)   # Upsample to 56x56\n",
    "\n",
    "        # Final layer to upsample to 224x224 and reduce to 3 channels\n",
    "        self.upsample_final = nn.ConvTranspose2d(32, 3, kernel_size=4, stride=4, padding=0, output_padding=0, bias=False)\n",
    "\n",
    "    def _make_layer(self, block, planes, blocks, stride=1, upsample=False):\n",
    "        layers = []\n",
    "        layers.append(block(self.in_planes, planes, stride, upsample=upsample))\n",
    "        self.in_planes = planes\n",
    "        for _ in range(1, blocks):\n",
    "            layers.append(block(planes, planes))\n",
    "        return nn.Sequential(*layers)\n",
    "\n",
    "    def forward(self, x):\n",
    "        # Input: n, 512, 1, 1\n",
    "        x = self.layer1(x)  # Upsample to n, 256, 7, 7\n",
    "        x = self.layer2(x)  # Upsample to n, 128, 14, 14\n",
    "        x = self.layer3(x)  # Upsample to n, 64, 28, 28\n",
    "        x = self.layer4(x)  # Upsample to n, 32, 56, 56\n",
    "\n",
    "        # Final upsample to n, 3, 224, 224\n",
    "        x = self.upsample_final(x)\n",
    "\n",
    "        return x\n",
    "\n",
    "def resnet18_upsample(num_classes=3):\n",
    "    return ResNetUpsample(UpsampleBlock, [2, 2, 2, 2], num_classes)\n",
    "\n",
    "# Example usage:\n",
    "model = resnet18_upsample(num_classes=3)\n",
    "input_tensor = torch.randn(1, 512, 1, 1)  # Batch size of 1 with 512x1x1 input\n",
    "output = model(input_tensor)\n",
    "print(output.shape)  # Expected shape: (1, 3, 224, 224)\n"
   ],
   "id": "bf3efd8fa50ad4e5",
   "execution_count": 67,
   "outputs": []
  },
  {
   "metadata": {
    "ExecuteTime": {
     "end_time": "2024-10-23T08:16:14.253493Z",
     "start_time": "2024-10-23T08:16:14.081501Z"
    }
   },
   "cell_type": "code",
   "source": [
    "import torch\n",
    "import torch.nn as nn\n",
    "import torch.nn.functional as F\n",
    "\n",
    "class ResidualBlock(nn.Module):\n",
    "    def __init__(self, in_channels):\n",
    "        super(ResidualBlock, self).__init__()\n",
    "        self.conv1 = nn.Conv2d(in_channels, in_channels, kernel_size=3, padding=1)\n",
    "        self.bn1 = nn.BatchNorm2d(in_channels)\n",
    "        self.conv2 = nn.Conv2d(in_channels, in_channels, kernel_size=3, padding=1)\n",
    "        self.bn2 = nn.BatchNorm2d(in_channels)\n",
    "    \n",
    "    def forward(self, x):\n",
    "        residual = x\n",
    "        out = F.relu(self.bn1(self.conv1(x)))\n",
    "        out = self.bn2(self.conv2(out))\n",
    "        out += residual\n",
    "        return F.relu(out)\n",
    "\n",
    "class Decoder(nn.Module):\n",
    "    def __init__(self):\n",
    "        super(Decoder, self).__init__()\n",
    "        \n",
    "        # Initial input is (n, 512, 1, 1)\n",
    "        self.initial_conv = nn.Upsample(size=(7,7)) #nn.ConvTranspose2d(512, 512, kernel_size=4, stride=1, padding=0)  # (n, 512, 4, 4)\n",
    "        \n",
    "        # Residual Block 1 (512, 4, 4)\n",
    "        self.res_block1 = ResidualBlock(512)\n",
    "        self.up1 = nn.ConvTranspose2d(512, 256, kernel_size=4, stride=2, padding=1)  # (n, 256, 8, 8)\n",
    "        \n",
    "        # Residual Block 2 (256, 8, 8)\n",
    "        self.res_block2 = ResidualBlock(256)\n",
    "        self.up2 = nn.ConvTranspose2d(256, 128, kernel_size=4, stride=2, padding=1)  # (n, 128, 16, 16)\n",
    "        \n",
    "        # Residual Block 3 (128, 16, 16)\n",
    "        self.res_block3 = ResidualBlock(128)\n",
    "        self.up3 = nn.ConvTranspose2d(128, 64, kernel_size=4, stride=2, padding=1)   # (n, 64, 32, 32)\n",
    "        \n",
    "        # Residual Block 4 (64, 32, 32)\n",
    "        self.res_block4 = ResidualBlock(64)\n",
    "        self.up4 = nn.ConvTranspose2d(64, 64, kernel_size=4, stride=2, padding=1)    # (n, 32, 64, 64)\n",
    "        \n",
    "        # Residual Block 5 (32, 64, 64)\n",
    "        self.res_block5 = ResidualBlock(64)\n",
    "        self.up5 = nn.ConvTranspose2d(64, 64, kernel_size=4, stride=2, padding=1)    # (n, 16, 128, 128)\n",
    "        \n",
    "        # Final upsampling and output (n, 16, 128, 128) -> (n, 3, 224, 224)\n",
    "        self.final_conv = nn.ConvTranspose2d(64, 3, kernel_size=3, stride=1, padding=1)  # (n, 3, 224, 224)\n",
    "    \n",
    "    def forward(self, x):\n",
    "        \n",
    "        print(\"input\", x.shape)\n",
    "        # Initial expansion\n",
    "        x = F.relu(self.initial_conv(x))\n",
    "        \n",
    "        print(\"initial\", x.shape)\n",
    "        # Series of residual blocks with upsampling\n",
    "        x = self.res_block1(x)\n",
    "        x = F.relu(self.up1(x))\n",
    "        \n",
    "        print(\"res1\", x.shape)\n",
    "        x = self.res_block2(x)\n",
    "        x = F.relu(self.up2(x))\n",
    "        \n",
    "        print(\"res2\", x.shape)\n",
    "        x = self.res_block3(x)\n",
    "        x = F.relu(self.up3(x))\n",
    "        \n",
    "        print(\"res3\", x.shape)\n",
    "        x = self.res_block4(x)\n",
    "        x = F.relu(self.up4(x))\n",
    "        \n",
    "        print(\"res4\", x.shape)\n",
    "        x = self.res_block5(x)\n",
    "        x = F.relu(self.up5(x))\n",
    "        \n",
    "        print(\"res5\", x.shape)\n",
    "        # Final upsampling and output\n",
    "        x = torch.sigmoid(self.final_conv(x))  # Apply sigmoid to normalize the output to [0, 1]\n",
    "        print(\"final\", x.shape)\n",
    "        return x\n",
    "\n",
    "# Example usage\n",
    "decoder = Decoder()\n",
    "input_tensor = torch.randn(1, 512, 1, 1)  # Batch size of 1, (n, 512, 1, 1)\n",
    "output_tensor = decoder(input_tensor)\n",
    "print(output_tensor.shape)  # Should be (1, 3, 224, 224)\n"
   ],
   "id": "dbd5f440718d7dcc",
   "execution_count": 73,
   "outputs": []
  },
  {
   "metadata": {},
   "cell_type": "code",
   "execution_count": null,
   "source": [
    "torch.Size([1, 3, 224, 224])\n",
    "torch.Size([1, 3, 224, 224])\n",
    "torch.Size([1, 64, 112, 112])\n",
    "torch.Size([1, 64, 56, 56])\n",
    "torch.Size([1, 64, 56, 56])\n",
    "torch.Size([1, 128, 28, 28])\n",
    "torch.Size([1, 256, 14, 14])\n",
    "torch.Size([1, 512, 7, 7])\n",
    "torch.Size([1, 512, 1, 1])"
   ],
   "id": "6b2e9cd3f2c9c83",
   "outputs": []
  },
  {
   "metadata": {
    "ExecuteTime": {
     "end_time": "2024-10-28T14:04:27.448923Z",
     "start_time": "2024-10-28T14:04:27.412748Z"
    }
   },
   "cell_type": "code",
   "source": [
    "from data_loader import get_patient_loader\n",
    "data_dir = \"../Training_Data/\"\n",
    "l = get_patient_loader(data_dir, \"p013\")"
   ],
   "id": "6fd8f9ff8d3be19f",
   "outputs": [],
   "execution_count": 3
  },
  {
   "metadata": {
    "ExecuteTime": {
     "end_time": "2024-10-30T11:18:49.368438Z",
     "start_time": "2024-10-30T11:18:49.364926Z"
    }
   },
   "cell_type": "code",
   "source": [
    "i = 1.23456789\n",
    "print(type(i))\n",
    "print(\"Loss: {:.3f}\".format(i))"
   ],
   "id": "7a08e75afedbe25f",
   "outputs": [
    {
     "name": "stdout",
     "output_type": "stream",
     "text": [
      "<class 'float'>\n",
      "Loss: 1.235\n"
     ]
    }
   ],
   "execution_count": 2
  },
  {
   "metadata": {
    "ExecuteTime": {
     "end_time": "2024-10-30T12:20:34.623929Z",
     "start_time": "2024-10-30T12:20:33.792682Z"
    }
   },
   "cell_type": "code",
   "source": "",
   "id": "1be2413968cd4b84",
   "outputs": [],
   "execution_count": 1
  },
  {
   "metadata": {
    "ExecuteTime": {
     "end_time": "2024-10-30T12:21:46.832645Z",
     "start_time": "2024-10-30T12:21:45.824990Z"
    }
   },
   "cell_type": "code",
   "source": [
    "import pandas as pd\n",
    "import os\n",
    "data_dir = \"../Training_Data/\"\n",
    "for patient in os.listdir(data_dir):\n",
    "    if not os.path.isdir(data_dir + patient):\n",
    "        continue\n",
    "    gene_data = pd.read_csv(\"../Training_Data/\" + patient + \"/meta_data/gene_data.csv\")\n",
    "    spatial_data = pd.read_csv(\"../Training_Data/\" + patient + \"/meta_data/spatial_data.csv\")\n",
    "    print(len(gene_data))\n",
    "    print(len(spatial_data))\n"
   ],
   "id": "e87bd25ed2a84b7c",
   "outputs": [
    {
     "name": "stdout",
     "output_type": "stream",
     "text": [
      "4025\n",
      "5124\n",
      "6772\n",
      "9879\n",
      "5973\n",
      "7081\n",
      "920\n",
      "1122\n",
      "4967\n",
      "5625\n",
      "4047\n",
      "5568\n",
      "2920\n",
      "3822\n"
     ]
    }
   ],
   "execution_count": 5
  },
  {
   "metadata": {
    "ExecuteTime": {
     "end_time": "2024-10-30T12:21:46.852331Z",
     "start_time": "2024-10-30T12:21:46.850717Z"
    }
   },
   "cell_type": "code",
   "source": [
    "from data_loader import get_dataset_ae\n",
    "\n",
    "train_loader, val_loader = get_dataset_ae(\"../NCT-CRC/\", \"../Training_Data/\", file_type=\"tif\")"
   ],
   "id": "d7b2d5ed11da8931",
   "outputs": [],
   "execution_count": null
  },
  {
   "metadata": {
    "ExecuteTime": {
     "end_time": "2024-10-30T12:21:46.874834Z",
     "start_time": "2024-10-30T12:21:46.872364Z"
    }
   },
   "cell_type": "code",
   "source": "",
   "id": "5b159cbf1881c283",
   "outputs": [],
   "execution_count": null
  },
  {
   "metadata": {},
   "cell_type": "code",
   "outputs": [],
   "execution_count": null,
   "source": "",
   "id": "655f8927b615638"
  }
 ],
 "metadata": {
  "kernelspec": {
   "display_name": "Python 3",
   "language": "python",
   "name": "python3"
  },
  "language_info": {
   "codemirror_mode": {
    "name": "ipython",
    "version": 2
   },
   "file_extension": ".py",
   "mimetype": "text/x-python",
   "name": "python",
   "nbconvert_exporter": "python",
   "pygments_lexer": "ipython2",
   "version": "2.7.6"
  }
 },
 "nbformat": 4,
 "nbformat_minor": 5
}
