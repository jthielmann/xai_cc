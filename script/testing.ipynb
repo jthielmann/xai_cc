{
 "cells": [
  {
   "cell_type": "code",
   "id": "initial_id",
   "metadata": {
    "collapsed": true,
    "ExecuteTime": {
     "end_time": "2024-08-23T09:53:09.228708Z",
     "start_time": "2024-08-23T09:53:06.143178Z"
    }
   },
   "source": [
    "from model import get_models_and_path\n",
    "models = get_models_and_path()\n"
   ],
   "execution_count": 2,
   "outputs": []
  },
  {
   "metadata": {
    "ExecuteTime": {
     "end_time": "2024-08-23T10:02:29.199069Z",
     "start_time": "2024-08-23T10:02:29.195202Z"
    }
   },
   "cell_type": "code",
   "source": [
    "resFreeze = models[-4]\n",
    "print(resFreeze[0].__class__.__name__)\n",
    "print(resFreeze[1])\n",
    "res = models[-5]\n",
    "print(res[0].__class__.__name__)\n",
    "print(res[1])\n"
   ],
   "id": "a33309b896ecaf42",
   "execution_count": 7,
   "outputs": []
  },
  {
   "metadata": {
    "ExecuteTime": {
     "end_time": "2024-08-23T10:07:01.225529Z",
     "start_time": "2024-08-23T10:07:01.218191Z"
    }
   },
   "cell_type": "code",
   "source": [
    "target = \"gene1.0.bias\"\n",
    "\n",
    "for name, param in resFreeze[0].named_parameters():\n",
    "    if name != target:\n",
    "        continue\n",
    "    \n",
    "    print(name, \": \", param.data)\n",
    "    \n",
    "for name, param in res[0].named_parameters():\n",
    "    if name != target:\n",
    "        continue\n",
    "    #print(name)\n",
    "    print(name, \": \", param.data)\n",
    "    "
   ],
   "id": "4799b3a2084a3b2",
   "execution_count": 14,
   "outputs": []
  },
  {
   "metadata": {
    "ExecuteTime": {
     "end_time": "2024-09-13T09:54:37.070834Z",
     "start_time": "2024-09-13T09:54:36.778635Z"
    }
   },
   "cell_type": "code",
   "source": "import pandas as pd",
   "id": "bbcf3a7efefeaa2c",
   "execution_count": 2,
   "outputs": []
  },
  {
   "metadata": {
    "ExecuteTime": {
     "end_time": "2024-09-13T09:54:37.144054Z",
     "start_time": "2024-09-13T09:54:37.072180Z"
    }
   },
   "cell_type": "code",
   "source": [
    "df = pd.read_csv(\"../Training_Data/p009/Preprocessed_STDataset/gene_data.csv\")\n",
    "print(df.head())"
   ],
   "id": "cffc9a0d52a075c0",
   "execution_count": 3,
   "outputs": []
  },
  {
   "metadata": {
    "ExecuteTime": {
     "end_time": "2024-09-13T09:54:38.346236Z",
     "start_time": "2024-09-13T09:54:38.342552Z"
    }
   },
   "cell_type": "code",
   "source": "print(df[\"MKI67\"])",
   "id": "feef39cc83bfad9",
   "execution_count": 4,
   "outputs": []
  },
  {
   "metadata": {
    "ExecuteTime": {
     "end_time": "2024-09-13T09:55:03.450804Z",
     "start_time": "2024-09-13T09:55:03.412486Z"
    }
   },
   "cell_type": "code",
   "source": [
    "df = pd.read_csv(\"../Training_Data/p013/Preprocessed_STDataset/gene_data.csv\")\n",
    "print(df.head())\n",
    "mk = df[\"MKI67\"]\n",
    "rb = df[\"RUBCNL\"]\n",
    "\n",
    "#RUBCNL"
   ],
   "id": "b0b768ded1e822b0",
   "execution_count": 9,
   "outputs": []
  },
  {
   "metadata": {
    "ExecuteTime": {
     "end_time": "2024-09-13T09:55:04.162088Z",
     "start_time": "2024-09-13T09:55:04.158565Z"
    }
   },
   "cell_type": "code",
   "source": [
    "print(rb.min())\n",
    "print(mk.min())\n"
   ],
   "id": "7a994bb82e137591",
   "execution_count": 10,
   "outputs": []
  },
  {
   "metadata": {
    "ExecuteTime": {
     "end_time": "2024-09-13T09:55:06.844117Z",
     "start_time": "2024-09-13T09:55:06.837573Z"
    }
   },
   "cell_type": "code",
   "source": "rb.value_counts()",
   "id": "88c2436e24709c10",
   "execution_count": 11,
   "outputs": []
  },
  {
   "metadata": {
    "ExecuteTime": {
     "end_time": "2024-09-13T09:55:07.578682Z",
     "start_time": "2024-09-13T09:55:07.575424Z"
    }
   },
   "cell_type": "code",
   "source": "mk.value_counts()\n",
   "id": "59b940839aa7534b",
   "execution_count": 12,
   "outputs": []
  },
  {
   "metadata": {
    "ExecuteTime": {
     "end_time": "2024-09-23T11:54:54.385844Z",
     "start_time": "2024-09-23T11:54:54.382912Z"
    }
   },
   "cell_type": "code",
   "source": [
    "class A():\n",
    "    def __init__(self, mylist):\n",
    "        for item in mylist:\n",
    "            setattr(self, item, item + \"xxx\")\n",
    "            print(getattr(self, item))\n",
    "            print(item)\n",
    "a = A([\"a\", \"b\"])"
   ],
   "id": "9a231f85d7fd0c6",
   "outputs": [
    {
     "name": "stdout",
     "output_type": "stream",
     "text": [
      "axxx\n",
      "a\n",
      "bxxx\n",
      "b\n"
     ]
    }
   ],
   "execution_count": 18
  },
  {
   "metadata": {
    "ExecuteTime": {
     "end_time": "2024-09-23T11:54:55.136718Z",
     "start_time": "2024-09-23T11:54:55.133029Z"
    }
   },
   "cell_type": "code",
   "source": [
    "a.c = \"asb\"\n",
    "print(getattr(a, \"b\"))\n",
    "print(a.b)\n",
    "print(a.c)"
   ],
   "id": "841d0f947754dfa3",
   "outputs": [
    {
     "name": "stdout",
     "output_type": "stream",
     "text": [
      "bxxx\n",
      "bxxx\n",
      "asb\n"
     ]
    }
   ],
   "execution_count": 19
  },
  {
   "metadata": {
    "ExecuteTime": {
     "end_time": "2024-09-23T11:47:03.813616Z",
     "start_time": "2024-09-23T11:47:03.811013Z"
    }
   },
   "cell_type": "code",
   "source": "",
   "id": "3e0687ef53834677",
   "outputs": [
    {
     "name": "stdout",
     "output_type": "stream",
     "text": [
      "<class '__main__.a'>\n"
     ]
    }
   ],
   "execution_count": 12
  },
  {
   "metadata": {
    "ExecuteTime": {
     "end_time": "2024-09-23T15:28:53.135275Z",
     "start_time": "2024-09-23T15:28:53.131429Z"
    }
   },
   "cell_type": "code",
   "source": [
    "import json\n",
    "json_path = \"./test.json\"\n",
    "with open(json_path, \"w\") as f:\n",
    "    json_dict = {\"type\":\"vgg13\", \"random_weights\":True, 'gene_list':[\"abc\", \"def\"], \"dropout\": True, \"pretrained_output_dim\":1000}\n",
    "    json.dump(json_dict, f)\n",
    "    \n",
    "with open(json_path) as f:\n",
    "    d = json.load(f)\n",
    "    print(d)\n",
    "    model_type = d[\"type\"]\n",
    "    print(type(model_type), model_type)\n",
    "    random_weights = d[\"random_weights\"]\n",
    "    print(type(random_weights), random_weights)\n",
    "    \n",
    "    gene_list = d[\"gene_list\"]\n",
    "    print(type(gene_list), gene_list)\n",
    "    \n",
    "    dropout = d[\"dropout\"]\n",
    "    print(type(dropout), dropout)\n",
    "    \n",
    "    pretrained_output_dim = d[\"pretrained_output_dim\"]\n",
    "    print(type(pretrained_output_dim), pretrained_output_dim)\n",
    "    "
   ],
   "id": "9ca6f0d24804e46d",
   "outputs": [
    {
     "name": "stdout",
     "output_type": "stream",
     "text": [
      "{'type': 'vgg13', 'random_weights': True, 'gene_list': ['abc', 'def'], 'dropout': True, 'pretrained_output_dim': 1000}\n",
      "<class 'str'> vgg13\n",
      "<class 'bool'> True\n",
      "<class 'list'> ['abc', 'def']\n",
      "<class 'bool'> True\n",
      "<class 'int'> 1000\n"
     ]
    }
   ],
   "execution_count": 9
  },
  {
   "metadata": {},
   "cell_type": "code",
   "outputs": [],
   "execution_count": null,
   "source": "",
   "id": "4eb3cf0d601507d6"
  }
 ],
 "metadata": {
  "kernelspec": {
   "display_name": "Python 3",
   "language": "python",
   "name": "python3"
  },
  "language_info": {
   "codemirror_mode": {
    "name": "ipython",
    "version": 2
   },
   "file_extension": ".py",
   "mimetype": "text/x-python",
   "name": "python",
   "nbconvert_exporter": "python",
   "pygments_lexer": "ipython2",
   "version": "2.7.6"
  }
 },
 "nbformat": 4,
 "nbformat_minor": 5
}
