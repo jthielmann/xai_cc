{
 "cells": [
  {
   "cell_type": "code",
   "id": "initial_id",
   "metadata": {
    "collapsed": true,
    "ExecuteTime": {
     "end_time": "2024-10-25T08:17:48.787892Z",
     "start_time": "2024-10-25T08:17:32.816089Z"
    }
   },
   "source": [
    "from model import get_Resnet_ae\n",
    "import torch\n",
    "from data_loader import get_dataset_for_plotting\n",
    "import matplotlib.pyplot as plt\n",
    "import cv2"
   ],
   "execution_count": 1,
   "outputs": []
  },
  {
   "metadata": {
    "ExecuteTime": {
     "end_time": "2024-10-25T08:17:48.894252Z",
     "start_time": "2024-10-25T08:17:48.798429Z"
    }
   },
   "cell_type": "code",
   "source": "model = get_Resnet_ae()",
   "id": "c93f9196f926bb6e",
   "execution_count": 2,
   "outputs": []
  },
  {
   "metadata": {
    "ExecuteTime": {
     "end_time": "2024-10-25T08:17:49.268154Z",
     "start_time": "2024-10-25T08:17:49.018844Z"
    }
   },
   "cell_type": "code",
   "source": [
    "model_path = '../models/ae_double_resnet18/ep_39.pt'\n",
    "model.load_state_dict(torch.load(model_path, map_location=torch.device('mps'), weights_only=False))\n",
    "model.to('mps').eval()"
   ],
   "id": "d222fb9d6431e22d",
   "execution_count": 3,
   "outputs": []
  },
  {
   "metadata": {
    "ExecuteTime": {
     "end_time": "2024-10-25T08:17:56.599474Z",
     "start_time": "2024-10-25T08:17:49.366651Z"
    }
   },
   "cell_type": "code",
   "source": [
    "dataset = get_dataset_for_plotting(\"../Training_Data\")\n",
    "for i in range(10):\n",
    "    img, _ = dataset[i]\n",
    "    plt.imshow(img.cpu().permute(1, 2, 0))\n",
    "    plt.show()\n",
    "    img = img.unsqueeze(0)\n",
    "    output = model(img)\n",
    "    print(output.shape)\n",
    "    output = output.squeeze().cpu()\n",
    "    output = output.permute(1, 2, 0).detach().numpy()\n",
    "    \n",
    "    plt.imshow(output)\n",
    "    plt.show()"
   ],
   "id": "ec6589e6d3666450",
   "execution_count": 4,
   "outputs": []
  },
  {
   "metadata": {},
   "cell_type": "code",
   "execution_count": null,
   "source": "",
   "id": "8cd6bee9debc4679",
   "outputs": []
  }
 ],
 "metadata": {
  "kernelspec": {
   "display_name": "Python 3",
   "language": "python",
   "name": "python3"
  },
  "language_info": {
   "codemirror_mode": {
    "name": "ipython",
    "version": 2
   },
   "file_extension": ".py",
   "mimetype": "text/x-python",
   "name": "python",
   "nbconvert_exporter": "python",
   "pygments_lexer": "ipython2",
   "version": "2.7.6"
  }
 },
 "nbformat": 4,
 "nbformat_minor": 5
}
