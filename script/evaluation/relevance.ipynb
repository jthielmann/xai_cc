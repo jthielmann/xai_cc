{
 "cells": [
  {
   "cell_type": "code",
   "id": "initial_id",
   "metadata": {
    "collapsed": true,
    "ExecuteTime": {
     "end_time": "2024-09-17T08:44:14.814767Z",
     "start_time": "2024-09-17T08:44:11.081300Z"
    }
   },
   "source": [
    "from script.data_loader import get_patient_loader\n",
    "import zennit as zen\n",
    "\n",
    "import pandas as pd\n",
    "import torch\n",
    "import os\n",
    "import copy\n",
    "import torch.nn as nn\n",
    "\n",
    "from script.model import get_res18_ciga, get_res50_dropout, get_remote_models_and_path_mki67\n",
    "from script.relevance import plot_relevance,get_attributions_from_loader\n",
    "import matplotlib.pyplot as plt\n",
    "from script.plot_and_print import plot_data_mapped, print_metrics, plot_data_scatter\n",
    "from script.process_csv import generate_results, merge_data\n",
    "from script.data_loader import get_data_loaders\n",
    "\n",
    "#from torchvision.transforms import v2\n",
    "import torchvision"
   ],
   "execution_count": 2,
   "outputs": []
  },
  {
   "metadata": {
    "ExecuteTime": {
     "end_time": "2024-09-17T08:44:15.484340Z",
     "start_time": "2024-09-17T08:44:14.815790Z"
    }
   },
   "cell_type": "code",
   "source": [
    "device = \"cuda\" if torch.cuda.is_available() else \"mps\" if torch.backends.mps.is_available() else \"cpu\"\n",
    "\n",
    "path = \"../models/res18/res18_not_iced_e29.pt\"\n",
    "res18_no_ice = get_res18_ciga(path).to(device)\n",
    "path = \"../models/res18/RUBCNL_HLR_Res18_optim_ice/15072024_ep_29_lr_0.0005resnet.pt\"\n",
    "res18_ice    = get_res18_ciga(path).to(device)\n",
    "res18_ice.load_state_dict(torch.load(path, map_location=torch.device('cpu'), weights_only=True))\n",
    "path = \"../models/res18/res18_iced_e29.pt\"\n",
    "res18    = get_res18_ciga(path).to(device)\n",
    "path = \"../models/res50/RUBCNL_HLR_Res50_Drop/24072024_ep_29_lr_0.0005resnet.pt\"\n",
    "res50_drop = get_res50_dropout(path)\n",
    "\n",
    "data_dir = \"../Training_Data/\"\n",
    "patient1 = \"/p009\"\n",
    "patient2 = \"/p013\""
   ],
   "id": "4002c006-1172-46f4-8006-9fd200980023",
   "execution_count": 3,
   "outputs": []
  },
  {
   "metadata": {},
   "cell_type": "code",
   "execution_count": 45,
   "source": [
    "# drop dropout layers so that restructuring works as that function requires lin relu lin as the upper layers\n",
    "res50_drop_copy = copy.deepcopy(res50_drop)\n",
    "print(res50_drop_copy.gene1)\n",