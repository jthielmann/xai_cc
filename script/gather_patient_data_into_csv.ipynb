{
 "cells": [
  {
   "cell_type": "code",
   "id": "initial_id",
   "metadata": {
    "collapsed": true,
    "ExecuteTime": {
     "end_time": "2024-08-05T12:14:59.724710Z",
     "start_time": "2024-08-05T12:14:59.720371Z"
    }
   },
   "source": [
    "import pandas as pd\n",
    "log = \"./tmp.csv\"\n",
    "open(log, \"a\").close()\n",
    "import os\n"
   ],
   "outputs": [],
   "execution_count": 16
  },
  {
   "metadata": {
    "ExecuteTime": {
     "end_time": "2024-08-05T12:18:28.107121Z",
     "start_time": "2024-08-05T12:18:28.098893Z"
    }
   },
   "cell_type": "code",
   "source": [
    "columns = [\"a\", \"b\"]\n",
    "\n",
    "log = \"./tmp.csv\"\n",
    "os.remove(log)\n",
    "open(log, \"a\").close()\n",
    "\n",
    "\n",
    "lines = []\n",
    "df = pd.DataFrame(lines, columns=columns)\n",
    "df.to_csv(log, mode=\"a\", columns=columns, index=False)\n",
    "\n",
    "lines.append((1,2))\n",
    "lines.append((3,4))\n",
    "df = pd.DataFrame(lines, columns=columns)\n",
    "df.to_csv(log, mode=\"a\", columns=columns,header=False)\n",
    "df.to_csv(log, mode=\"a\", columns=columns,header=False)\n",
    "fd = pd.read_csv(log)\n",
    "fd"
   ],
   "id": "a1b96d78121baee6",
   "outputs": [
    {
     "data": {
      "text/plain": [
       "   a  b\n",
       "0  1  2\n",
       "1  3  4\n",
       "0  1  2\n",
       "1  3  4"
      ],
      "text/html": [
       "<div>\n",
       "<style scoped>\n",
       "    .dataframe tbody tr th:only-of-type {\n",
       "        vertical-align: middle;\n",
       "    }\n",
       "\n",
       "    .dataframe tbody tr th {\n",
       "        vertical-align: top;\n",
       "    }\n",
       "\n",
       "    .dataframe thead th {\n",
       "        text-align: right;\n",
       "    }\n",
       "</style>\n",
       "<table border=\"1\" class=\"dataframe\">\n",
       "  <thead>\n",
       "    <tr style=\"text-align: right;\">\n",
       "      <th></th>\n",
       "      <th>a</th>\n",
       "      <th>b</th>\n",
       "    </tr>\n",
       "  </thead>\n",
       "  <tbody>\n",
       "    <tr>\n",
       "      <th>0</th>\n",
       "      <td>1</td>\n",
       "      <td>2</td>\n",
       "    </tr>\n",
       "    <tr>\n",
       "      <th>1</th>\n",
       "      <td>3</td>\n",
       "      <td>4</td>\n",
       "    </tr>\n",
       "    <tr>\n",
       "      <th>0</th>\n",
       "      <td>1</td>\n",
       "      <td>2</td>\n",
       "    </tr>\n",
       "    <tr>\n",
       "      <th>1</th>\n",
       "      <td>3</td>\n",
       "      <td>4</td>\n",
       "    </tr>\n",
       "  </tbody>\n",
       "</table>\n",
       "</div>"
      ]
     },
     "execution_count": 23,
     "metadata": {},
     "output_type": "execute_result"
    }
   ],
   "execution_count": 23
  },
  {
   "metadata": {
    "ExecuteTime": {
     "end_time": "2024-08-05T12:13:38.832679Z",
     "start_time": "2024-08-05T12:13:38.830851Z"
    }
   },
   "cell_type": "code",
   "source": "",
   "id": "d17dee428052b592",
   "outputs": [],
   "execution_count": 9
  },
  {
   "metadata": {},
   "cell_type": "code",
   "outputs": [],
   "execution_count": null,
   "source": "",
   "id": "8c9647d0d0f4e8aa"
  }
 ],
 "metadata": {
  "kernelspec": {
   "display_name": "Python 3",
   "language": "python",
   "name": "python3"
  },
  "language_info": {
   "codemirror_mode": {
    "name": "ipython",
    "version": 2
   },
   "file_extension": ".py",
   "mimetype": "text/x-python",
   "name": "python",
   "nbconvert_exporter": "python",
   "pygments_lexer": "ipython2",
   "version": "2.7.6"
  }
 },
 "nbformat": 4,
 "nbformat_minor": 5
}
