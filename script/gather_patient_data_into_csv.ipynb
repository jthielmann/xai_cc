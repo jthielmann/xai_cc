{
 "cells": [
  {
   "cell_type": "code",
   "id": "initial_id",
   "metadata": {
    "collapsed": true,
    "ExecuteTime": {
     "end_time": "2024-08-05T12:14:59.724710Z",
     "start_time": "2024-08-05T12:14:59.720371Z"
    }
   },
   "source": [
    "import pandas as pd\n",
    "log = \"./tmp.csv\"\n",
    "open(log, \"a\").close()\n",
    "import os\n"
   ],
   "execution_count": 16,
   "outputs": []
  },
  {
   "metadata": {
    "ExecuteTime": {
     "end_time": "2024-08-05T12:18:28.107121Z",
     "start_time": "2024-08-05T12:18:28.098893Z"
    }
   },
   "cell_type": "code",
   "source": [
    "columns = [\"a\", \"b\"]\n",
    "\n",
    "log = \"./tmp.csv\"\n",
    "os.remove(log)\n",
    "open(log, \"a\").close()\n",
    "\n",
    "\n",
    "lines = []\n",
    "df = pd.DataFrame(lines, columns=columns)\n",
    "df.to_csv(log, mode=\"a\", columns=columns, index=False)\n",
    "\n",
    "lines.append((1,2))\n",
    "lines.append((3,4))\n",
    "df = pd.DataFrame(lines, columns=columns)\n",
    "df.to_csv(log, mode=\"a\", columns=columns,header=False)\n",
    "df.to_csv(log, mode=\"a\", columns=columns,header=False)\n",
    "fd = pd.read_csv(log)\n",
    "fd"
   ],
   "id": "a1b96d78121baee6",
   "execution_count": 23,
   "outputs": []
  },
  {
   "metadata": {
    "ExecuteTime": {
     "end_time": "2024-08-05T12:13:38.832679Z",
     "start_time": "2024-08-05T12:13:38.830851Z"
    }
   },
   "cell_type": "code",
   "source": "",
   "id": "d17dee428052b592",
   "execution_count": 9,
   "outputs": []
  },
  {
   "metadata": {},
   "cell_type": "code",
   "execution_count": null,
   "source": "",
   "id": "8c9647d0d0f4e8aa",
   "outputs": []
  }
 ],
 "metadata": {
  "kernelspec": {
   "display_name": "Python 3",
   "language": "python",
   "name": "python3"
  },
  "language_info": {
   "codemirror_mode": {
    "name": "ipython",
    "version": 2
   },
   "file_extension": ".py",
   "mimetype": "text/x-python",
   "name": "python",
   "nbconvert_exporter": "python",
   "pygments_lexer": "ipython2",
   "version": "2.7.6"
  }
 },
 "nbformat": 4,
 "nbformat_minor": 5
}
