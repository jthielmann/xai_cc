{
 "cells": [
  {
   "cell_type": "code",
   "id": "initial_id",
   "metadata": {
    "collapsed": true,
    "ExecuteTime": {
     "end_time": "2024-08-28T08:51:17.236267Z",
     "start_time": "2024-08-28T08:51:13.313399Z"
    }
   },
   "source": [
    "import os\n",
    "import pandas as pd\n",
    "from data_loader import get_patient_loader\n",
    "import torch\n",
    "from model import get_remote_models_and_path\n",
    "from process_csv import merge_gene_data_and_coords"
   ],
   "execution_count": 1,
   "outputs": []
  },
  {
   "metadata": {
    "ExecuteTime": {
     "end_time": "2024-08-28T08:51:17.249515Z",
     "start_time": "2024-08-28T08:51:17.237543Z"
    }
   },
   "cell_type": "code",
   "source": [
    "device = \"cuda\" if torch.cuda.is_available() else \"mps\" if torch.backends.mps.is_available() else \"cpu\"\n",
    "\n",
    "data_dir_test = \"../Test_Data/\"\n",
    "data_dir_train = \"../Training_Data/\"\n",
    "patients_test  = [os.path.basename(f) for f in os.scandir(data_dir_test) if f.is_dir()]\n",
    "patients_train = [os.path.basename(f) for f in os.scandir(data_dir_train) if f.is_dir()]\n",
    "print(patients_test)\n",
    "print(patients_train)\n",
    "\n",
    "results_dir = \"../results/\"\n",
    "gene = \"RUBCNL\""
   ],
   "id": "c506d37ba4fb2651",
   "execution_count": 2,
   "outputs": []
  },
  {
   "metadata": {
    "ExecuteTime": {
     "end_time": "2024-08-28T08:51:21.149519Z",
     "start_time": "2024-08-28T08:51:17.250270Z"
    }
   },
   "cell_type": "code",
   "source": [
    "# list of (model, path to .pt file)\n",
    "models = get_remote_models_and_path(device)\n"
   ],
   "id": "1831b867a2fb0645",
   "execution_count": 3,
   "outputs": []
  },
  {
   "metadata": {
    "ExecuteTime": {
     "end_time": "2024-08-28T08:51:21.152946Z",
     "start_time": "2024-08-28T08:51:21.150598Z"
    }
   },
   "cell_type": "code",
   "source": [
    "for model in models:\n",
    "    print(model[0].__class__.__name__)"
   ],
   "id": "1703cceec6514fc2",
   "execution_count": 4,
   "outputs": []
  },
  {
   "metadata": {
    "ExecuteTime": {
     "end_time": "2024-08-28T08:06:28.202805Z",
     "start_time": "2024-08-28T08:06:27.173505Z"
    }
   },
   "cell_type": "code",
   "source": [
    "\n",
    "for patient in patients_test:\n",
    "    if os.path.exists(results_dir + \"/\" + gene + \"_results_new.csv\"):\n",
    "        continue\n",
    "    merge_gene_data_and_coords(data_dir_test,patient, results_dir, gene + \"_results_new.csv\", gene)\n",
    "    \n",
    "for patient in patients_train:\n",
    "    if os.path.exists(results_dir + \"/\" + gene + \"_results_new.csv\"):\n",
    "        continue\n",
    "    merge_gene_data_and_coords(data_dir_train,patient, results_dir, gene + \"_results_new.csv\", gene)"
   ],
   "id": "234afb5d33a57c1f",
   "execution_count": 5,
   "outputs": []
  },
  {
   "metadata": {
    "ExecuteTime": {
     "end_time": "2024-08-28T10:14:02.431927Z",
     "start_time": "2024-08-28T08:51:24.356697Z"
    }
   },
   "cell_type": "code",
   "source": [
    "def generate_results2(model, model_path, device, data_dir, results_dir, patient=None, gene=\"RUBCNL\", results_filename=None):#\n",
    "    if results_filename is None:\n",
    "        results_filename = gene + \"_results_new.csv\"\n",
    "    model.eval().to(device)\n",
    "    loader = get_patient_loader(data_dir, patient, gene)\n",
    "    filename = results_dir + \"/\" + patient + \"/\" + results_filename\n",
    "    if os.path.exists(filename):\n",
    "        file_df = pd.read_csv(filename)\n",
    "        if model_path in file_df:\n",
    "            print(model_path + \" already calculated\")\n",
    "            return\n",
    "    else:\n",
    "        print(filename + \" does not exist\")\n",
    "        return\n",
    "\n",
    "    i = 0\n",
    "    j = len(loader)\n",
    "    with torch.no_grad():\n",
    "        for images, _, name in loader:\n",
    "            if i % 1000 == 0:\n",
    "                print(i, \"/\", j)\n",
    "            i += 1\n",
    "            images = images.unsqueeze(0).to(device)\n",
    "            images = images.float()\n",
    "\n",
    "            output = model(images)\n",
    "            output = output.squeeze().unsqueeze(0)\n",
    "            file_df.loc[file_df['tile'] == os.path.basename(name),[model_path]] = output.item()\n",
    "\n",
    "    file_df.to_csv(filename, index=False)\n",
    "\n",
    "for model in models:\n",
    "    for patient in patients_train:\n",
    "        print(model[1],patient)\n",
    "        generate_results2(model[0], model[1], device, data_dir_train, results_dir, patient)\n",
    "        \n",
    "for model in models:\n",
    "    for patient in patients_test:\n",
    "        if patient == \"p021\":\n",
    "            continue\n",
    "        print(model[1],patient)\n",
    "        generate_results2(model[0], model[1], device, data_dir_test, results_dir, patient)"
   ],
   "id": "6419d0f3f99033f1",
   "execution_count": 5,
   "outputs": []
  },
  {
   "metadata": {},
   "cell_type": "code",
   "execution_count": null,
   "source": "",
   "id": "cf73d2ec85456818",
   "outputs": []
  }
 ],
 "metadata": {
  "kernelspec": {
   "display_name": "Python 3",
   "language": "python",
   "name": "python3"
  },
  "language_info": {
   "codemirror_mode": {
    "name": "ipython",
    "version": 2
   },
   "file_extension": ".py",
   "mimetype": "text/x-python",
   "name": "python",
   "nbconvert_exporter": "python",
   "pygments_lexer": "ipython2",
   "version": "2.7.6"
  }
 },
 "nbformat": 4,
 "nbformat_minor": 5
}
