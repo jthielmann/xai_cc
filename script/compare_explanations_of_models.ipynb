{
 "cells": [
  {
   "metadata": {
    "ExecuteTime": {
     "end_time": "2024-08-14T11:55:10.050888Z",
     "start_time": "2024-08-14T11:55:10.024037Z"
    }
   },
   "cell_type": "code",
   "source": [
    "import os.path\n",
    "\n",
    "from model import get_models_and_path, get_vggs_and_path, get_resnets_and_path\n",
    "import torch\n",
    "import pandas as pd\n",
    "from plot_and_print import plot_tile\n",
    "import os\n",
    "from PIL import Image\n",
    "import matplotlib.pyplot as plt\n",
    "from zennit.attribution import Gradient\n",
    "import zennit as zen\n",
    "from relevance import plot_relevance\n",
    "from data_loader import TileLoader\n",
    "import torchvision\n",
    "\n",
    "import numpy as np"
   ],
   "id": "40c76e9d5f6f2acd",
   "execution_count": 25,
   "outputs": []
  },
  {
   "metadata": {
    "ExecuteTime": {
     "end_time": "2024-08-14T11:13:11.650393Z",
     "start_time": "2024-08-14T11:13:11.627145Z"
    }
   },
   "cell_type": "code",
   "source": [
    "filenames = []\n",
    "filenames.append(\"../results/p007/RUBCNL_results.csv\")\n",
    "filenames.append(\"../results/p009/RUBCNL_results.csv\")\n",
    "filenames.append(\"../results/p013/RUBCNL_results.csv\")\n",
    "filenames.append(\"../results/p014/RUBCNL_results.csv\")\n",
    "filenames.append(\"../results/p016/RUBCNL_results.csv\")\n",
    "filenames.append(\"../results/p020/RUBCNL_results.csv\")\n",
    "filenames.append(\"../results/p021/RUBCNL_results.csv\")\n",
    "filenames.append(\"../results/p025/RUBCNL_results.csv\")\n",
    "filenames.append(\"../results/p026/RUBCNL_results.csv\")\n",
    "df = pd.read_csv(filenames[0])\n",
    "def cut_path(x):\n",
    "    return x[3:]\n",
    "new_col = df.path\n",
    "new_col = new_col.apply(cut_path)\n",
    "df.path = new_col\n",
    "\n",
    "\n",
    "loader = TileLoader()"
   ],
   "id": "253056ff2370c2a2",
   "execution_count": 23,
   "outputs": []
  },
  {
   "metadata": {
    "ExecuteTime": {
     "end_time": "2024-08-14T17:36:10.505638Z",
     "start_time": "2024-08-14T17:36:10.499667Z"
    }
   },
   "cell_type": "code",
   "source": [
    "# best values first in list, ascending\n",
    "def get_sorted_values_by_col(df, min, max, colname='../remote_models/res18/RUBCNL_Res18/Res18_ep_29.pt', gene=\"RUBCNL\"):\n",
    "    idx = df[gene].sort_values()[min:max].index.values\n",
    "\n",
    "    vals_orig_by_range = df.iloc[idx]\n",
    "    diff = vals_orig_by_range[gene] - vals_orig_by_range[colname]\n",
    "\n",
    "    diff = diff.abs().sort_values()\n",
    "    return df.iloc[diff.index]\n",
    "small_vals  = get_sorted_values_by_col(df, 0, 100)\n",
    "middle_vals = get_sorted_values_by_col(df, int(len(df)/2-50), int(len(df)/2+50))\n",
    "big_vals    = get_sorted_values_by_col(df, -100, len(df))\n",
    "\n"
   ],
   "id": "a50c84c278cabf25",
   "execution_count": 65,
   "outputs": []
  },
  {
   "metadata": {
    "ExecuteTime": {
     "end_time": "2024-08-15T10:44:03.323807Z",
     "start_time": "2024-08-15T10:44:03.316585Z"
    }
   },
   "cell_type": "code",
   "source": "df.head()",
   "id": "1ceb8d604b5b1535",
   "execution_count": 104,
   "outputs": []
  },
  {
   "metadata": {
    "ExecuteTime": {
     "end_time": "2024-08-14T10:40:03.855731Z",
     "start_time": "2024-08-14T10:39:55.862735Z"
    }
   },
   "cell_type": "code",
   "source": [
    "models = get_models_and_path()\n",
    "resnets = get_resnets_and_path()\n",
    "vggs = get_vggs_and_path()"
   ],
   "id": "91d2e61b0992e4c6",
   "execution_count": 21,
   "outputs": []
  },
  {
   "metadata": {
    "ExecuteTime": {
     "end_time": "2024-08-14T16:38:48.444227Z",
     "start_time": "2024-08-14T16:38:47.139958Z"
    }
   },
   "cell_type": "code",
   "source": [
    "def get_grads(models, composite, idx, df, loader, gene=\"RUBCNL\"):\n",
    "    imgs = []\n",
    "    for model,path in models:\n",
    "\n",
    "        model.eval()\n",
    "        img = loader.open(df.path[idx]).unsqueeze(0)\n",
    "        with Gradient(model, composite) as attributor:\n",
    "            out, grad = attributor(img)\n",
    "        rel = plot_relevance(grad, filename=None, only_return=True)\n",
    "        position = path.find('models') + len('models')\n",
    "        imgs.append((rel,path[position:], df.iloc[idx][gene], out.item()))\n",
    "    return imgs\n",
    "id = big_vals.index.values[5]\n",
    "\n",
    "can_vgg = zen.torchvision.VGGCanonizer()\n",
    "\"\"\"\n",
    "transform_norm = torchvision.transforms.Normalize((0.485, 0.456, 0.406), (0.229, 0.224, 0.225))\n",
    "low, high = transform_norm(torch.tensor([[[[[0.]]] * 3], [[[[1.]]] * 3]]))\n",
    "composite_vgg = zen.composites.EpsilonGammaBox(low=low, high=high, canonizers=[can_vgg])\"\"\""
   ],
   "id": "5449728010a00212",
   "execution_count": 53,
   "outputs": []
  },
  {
   "metadata": {
    "ExecuteTime": {
     "end_time": "2024-08-14T16:38:53.624042Z",
     "start_time": "2024-08-14T16:38:48.445838Z"
    }
   },
   "cell_type": "code",
   "source": [
    "can_res = zen.torchvision.ResNetCanonizer()\n",
    "\n",
    "composite_res = zen.composites.EpsilonPlusFlat(canonizers=[can_res])\n",
    "composite_vgg = zen.composites.EpsilonPlusFlat(canonizers=[can_vgg])\n",
    "\n",
    "\n"
   ],
   "id": "fcaee8fd274d4fbb",
   "execution_count": 54,
   "outputs": []
  },
  {
   "metadata": {
    "ExecuteTime": {
     "end_time": "2024-08-15T10:39:52.984342Z",
     "start_time": "2024-08-15T10:39:46.549147Z"
    }
   },
   "cell_type": "code",
   "source": [
    "\n",
    "def plot_model_comparison(grads_res, grads_vgg, image_path, width=4, height=4, subplot_size=40):\n",
    "    plt.figure(figsize=(1000,1000))\n",
    "    f, ax = plt.subplots(height,width)\n",
    "    f.set_figheight(subplot_size)\n",
    "    f.set_figwidth(subplot_size)\n",
    "    for i in range(len(grads_res)):\n",
    "        ax[int(i/width),i%width].imshow(grads_res[i][0])\n",
    "        ax[int(i/width),i%width].set_title(grads_res[i][1]+\"\\nlabel: \"+str(round(grads_res[i][2], 3))+\"\\npred: \"+str(round(grads_res[i][3], 3)))\n",
    "\n",
    "    for i in range(len(grads_res), len(grads_vgg)):\n",
    "        ax[int(i/width),i%width].imshow(grads_vgg[i][0])\n",
    "        ax[int(i/width),i%width].set_title(grads_vgg[i][1]+\"\\nlabel: \"+str(round(grads_vgg[i][2], 3))+\"\\npred: \"+str(round(grads_vgg[i][3], 3)))\n",
    "    img = Image.open(image_path)\n",
    "    ax[-1,-1].imshow(img)\n",
    "    ax[-1,-1].set_title('original')\n",
    "    plt.show()\n",
    "    \n",
    "    \n",
    "best = [small_vals[0:5], middle_vals[0:5], big_vals[0:5]]\n",
    "worst = [small_vals[-5:], middle_vals[-5:], big_vals[-5:]]\n",
    "# interesting:\n",
    "interesting = []\n",
    "interesting.append(best[0].index.values[1])\n",
    "set = worst[2]\n",
    "id = set.index.values[1]\n",
    "\n",
    "\n",
    "#set = best[2]\n",
    "#id = set.index.values[4]\n",
    "row = df.iloc[id]\n",
    "print(id)\n",
    "grads_res = get_grads(resnets, composite_res, id, df, loader)\n",
    "grads_vgg = get_grads(vggs, composite_vgg, id, df, loader)\n",
    "\n",
    "plot_model_comparison(grads_res, grads_vgg, row.path)"
   ],
   "id": "f6e24c84f7ec2517",
   "execution_count": 102,
   "outputs": []
  },
  {
   "metadata": {},
   "cell_type": "code",
   "execution_count": null,
   "source": [
    "device = \"cuda\" if torch.cuda.is_available() else \"mps\" if torch.backends.mps.is_available() else \"cpu\"\n",
    "models = get_models_and_path(device)\n",
    "tile = \"path_to_tile\"\n",
    "# plot original\n",
    "\n",
    "\n",
    "for m in models:\n",
    "    hm = generate_heatmap_of_tile(tile)\n",
    "    plot(hm)\n",
    "    print(m.name)\n",
    "    print(stats)"
   ],
   "id": "16271b4905f8f1e0",
   "outputs": []
  }
 ],
 "metadata": {
  "kernelspec": {
   "display_name": "Python 3",
   "language": "python",
   "name": "python3"
  },
  "language_info": {
   "codemirror_mode": {
    "name": "ipython",
    "version": 2
   },
   "file_extension": ".py",
   "mimetype": "text/x-python",
   "name": "python",
   "nbconvert_exporter": "python",
   "pygments_lexer": "ipython2",
   "version": "2.7.6"
  }
 },
 "nbformat": 4,
 "nbformat_minor": 5
}
