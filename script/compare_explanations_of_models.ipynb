{
 "cells": [
  {
   "cell_type": "code",
   "execution_count": null,
   "id": "initial_id",
   "metadata": {
    "collapsed": true
   },
   "outputs": [],
   "source": [
    "def generate_heatmap_of_tile(model, tilepath, composite, device=\"cpu\"):\n",
    "    # load tile\n",
    "    \n",
    "    # "
   ]
  },
  {
   "metadata": {},
   "cell_type": "code",
   "outputs": [],
   "execution_count": null,
   "source": [
    "models = []\n",
    "tile = \"path_to_tile\"\n",
    "# plot original\n",
    "\n",
    "\n",
    "for m in models:\n",
    "    hm = generate_heatmap_of_tile(tile)\n",
    "    plot(hm)\n",
    "    print(m.name)\n",
    "    print(stats)"
   ],
   "id": "16271b4905f8f1e0"
  }
 ],
 "metadata": {
  "kernelspec": {
   "display_name": "Python 3",
   "language": "python",
   "name": "python3"
  },
  "language_info": {
   "codemirror_mode": {
    "name": "ipython",
    "version": 2
   },
   "file_extension": ".py",
   "mimetype": "text/x-python",
   "name": "python",
   "nbconvert_exporter": "python",
   "pygments_lexer": "ipython2",
   "version": "2.7.6"
  }
 },
 "nbformat": 4,
 "nbformat_minor": 5
}
