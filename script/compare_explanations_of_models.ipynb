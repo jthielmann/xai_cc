{
 "cells": [
  {
   "metadata": {
    "ExecuteTime": {
     "end_time": "2024-08-28T11:08:49.371201Z",
     "start_time": "2024-08-28T11:08:49.368264Z"
    }
   },
   "cell_type": "code",
   "source": [
    "import os.path\n",
    "\n",
    "from model import get_models_and_path, get_remote_vggs_and_path, get_resnets_and_path, get_remote_resnets_and_path\n",
    "import torch\n",
    "import pandas as pd\n",
    "from plot_and_print import plot_tile\n",
    "import os\n",
    "from PIL import Image\n",
    "import matplotlib.pyplot as plt\n",
    "from zennit.attribution import Gradient\n",
    "from relevance import plot_relevance\n",
    "from data_loader import TileLoader\n",
    "from scipy import stats\n",
    "\n",
    "from zennit import torchvision, composites, image\n",
    "import numpy as np\n",
    "import zennit as zen\n",
    "can_res = zen.torchvision.ResNetCanonizer()\n"
   ],
   "id": "40c76e9d5f6f2acd",
   "execution_count": 7,
   "outputs": []
  },
  {
   "metadata": {
    "ExecuteTime": {
     "end_time": "2024-08-28T11:13:25.877477Z",
     "start_time": "2024-08-28T11:13:25.859150Z"
    }
   },
   "cell_type": "code",
   "source": [
    "data_dir = \"../results/\"\n",
    "patients = [os.path.basename(f) for f in os.scandir(data_dir) if f.is_dir()]\n",
    "patients.remove('p021')\n",
    "filenames = []\n",
    "for patient in patients:\n",
    "    filenames.append(data_dir + patient + \"/RUBCNL_results_new.csv\")\n",
    "\n",
    "patient_id = 2\n",
    "print(filenames[patient_id])\n",
    "df = pd.read_csv(filenames[patient_id])\n",
    "def cut_path(x):\n",
    "    return x[3:]\n",
    "new_col = df.path\n",
    "new_col = new_col.apply(cut_path)\n",
    "df.path = new_col\n",
    "\n",
    "\n",
    "loader = TileLoader()\n",
    "\n",
    "# best values first in list, ascending\n",
    "def get_sorted_values_by_col(df, min, max, colname='../remote_models/new/models/res18/RUBCNL_Res18/Res18_1000_ep_29.pt', gene=\"RUBCNL\"):\n",
    "    idx = df[gene].sort_values()[min:max].index.values\n",
    "\n",
    "    vals_orig_by_range = df.iloc[idx]\n",
    "    diff = vals_orig_by_range[gene] - vals_orig_by_range[colname]\n",
    "\n",
    "    diff = diff.abs().sort_values()\n",
    "    return df.iloc[diff.index]\n",
    "small_vals  = get_sorted_values_by_col(df, 0, 100)\n",
    "middle_vals = get_sorted_values_by_col(df, int(len(df)/2-50), int(len(df)/2+50))\n",
    "big_vals    = get_sorted_values_by_col(df, -100, len(df))"
   ],
   "id": "253056ff2370c2a2",
   "execution_count": 19,
   "outputs": []
  },
  {
   "metadata": {
    "ExecuteTime": {
     "end_time": "2024-08-28T11:13:28.742354Z",
     "start_time": "2024-08-28T11:13:28.734947Z"
    }
   },
   "cell_type": "code",
   "source": "df.head()",
   "id": "1ceb8d604b5b1535",
   "execution_count": 20,
   "outputs": []
  },
  {
   "metadata": {
    "ExecuteTime": {
     "end_time": "2024-08-28T11:09:40.472998Z",
     "start_time": "2024-08-28T11:09:40.465051Z"
    }
   },
   "cell_type": "code",
   "source": [
    "def plot_model_comparison(grads_res, grads_vgg, image_path, width=4, subplot_size=40):\n",
    "    plt.figure(figsize=(100,100))\n",
    "    height = int((len(grads_res) + len(grads_vgg) + 1) / width + 0.999)\n",
    "    f, ax = plt.subplots(height,width)\n",
    "    f.set_figheight(subplot_size)\n",
    "    f.set_figwidth(subplot_size)\n",
    "    for i in range(len(grads_res)):\n",
    "        ax[int(i/width),i%width].imshow(grads_res[i][0])\n",
    "        ax[int(i/width),i%width].set_title(grads_res[i][1]+\"\\nlabel: \"+str(round(grads_res[i][2], 3))+\"\\npred: \"+str(round(grads_res[i][3], 3)))\n",
    "\n",
    "    for i in range(len(grads_res), len(grads_vgg) + len(grads_res)):\n",
    "        j = i - len(grads_res)\n",
    "        ax[int(i/width),i%width].imshow(grads_vgg[j][0])\n",
    "        ax[int(i/width),i%width].set_title(grads_vgg[j][1]+\"\\nlabel: \"+str(round(grads_vgg[j][2], 3))+\"\\npred: \"+str(round(grads_vgg[j][3], 3)))\n",
    "    img = Image.open(image_path)\n",
    "    ax[-1,-1].imshow(img)\n",
    "    ax[-1,-1].set_title('original')\n",
    "    plt.show()\n",
    "\n",
    "def get_grads(models, composite, idx, df, loader, gene=\"RUBCNL\"):\n",
    "    imgs = []\n",
    "    for model,path in models:\n",
    "\n",
    "        model.eval()\n",
    "        img = loader.open(df.path[idx]).unsqueeze(0)\n",
    "        with Gradient(model, composite) as attributor:\n",
    "            out, grad = attributor(img)\n",
    "        rel = plot_relevance(grad, filename=None, only_return=True)\n",
    "        position = path.find('models') + len('models')\n",
    "        imgs.append((rel,path[position:], df.iloc[idx][gene], out.item()))\n",
    "    return imgs\n",
    "\n"
   ],
   "id": "5449728010a00212",
   "execution_count": 12,
   "outputs": []
  },
  {
   "metadata": {
    "ExecuteTime": {
     "end_time": "2024-08-28T11:08:21.145348Z",
     "start_time": "2024-08-28T11:08:21.143108Z"
    }
   },
   "cell_type": "code",
   "source": [
    "can_vgg = zen.torchvision.VGGCanonizer()\n",
    "\"\"\"\n",
    "transform_norm = torchvision.transforms.Normalize((0.485, 0.456, 0.406), (0.229, 0.224, 0.225))\n",
    "low, high = transform_norm(torch.tensor([[[[[0.]]] * 3], [[[[1.]]] * 3]]))\n",
    "composite_vgg = zen.composites.EpsilonGammaBox(low=low, high=high, canonizers=[can_vgg])\n",
    "\"\"\"\n",
    "can_res = zen.torchvision.ResNetCanonizer()\n",
    "\n",
    "composite_res = zen.composites.EpsilonPlusFlat(canonizers=[can_res])\n",
    "composite_vgg = zen.composites.EpsilonPlusFlat(canonizers=[can_vgg])"
   ],
   "id": "9693ea0d151cb832",
   "execution_count": 5,
   "outputs": []
  },
  {
   "metadata": {
    "ExecuteTime": {
     "end_time": "2024-08-28T11:09:07.906184Z",
     "start_time": "2024-08-28T11:09:04.264897Z"
    }
   },
   "cell_type": "code",
   "source": [
    "#models = get_models_and_path()\n",
    "resnets = get_remote_resnets_and_path()\n",
    "vggs = get_remote_vggs_and_path()"
   ],
   "id": "91d2e61b0992e4c6",
   "execution_count": 9,
   "outputs": []
  },
  {
   "metadata": {
    "ExecuteTime": {
     "end_time": "2024-08-28T11:09:10.573008Z",
     "start_time": "2024-08-28T11:09:10.570359Z"
    }
   },
   "cell_type": "code",
   "source": [
    "tile_id = 4170\n",
    "tile_path = df.iloc[tile_id].path"
   ],
   "id": "30ba4c05025e8b2b",
   "execution_count": 10,
   "outputs": []
  },
  {
   "metadata": {
    "ExecuteTime": {
     "end_time": "2024-08-28T11:09:48.775515Z",
     "start_time": "2024-08-28T11:09:43.075764Z"
    }
   },
   "cell_type": "code",
   "source": [
    "grads_res = get_grads(resnets, composite_res, 4170, df, loader)\n",
    "grads_vgg = get_grads(vggs, composite_vgg, 4170, df, loader)\n",
    "plot_model_comparison(grads_res, grads_vgg, tile_path)"
   ],
   "id": "a2aeac9f94b966fe",
   "execution_count": 13,
   "outputs": []
  },
  {
   "metadata": {
    "ExecuteTime": {
     "end_time": "2024-08-28T11:11:40.246037Z",
     "start_time": "2024-08-28T11:11:37.509477Z"
    }
   },
   "cell_type": "code",
   "source": [
    "best = [small_vals[0:5], middle_vals[0:5], big_vals[0:5]]\n",
    "worst = [small_vals[-5:], middle_vals[-5:], big_vals[-5:]]\n",
    "# interesting:\n",
    "interesting = []\n",
    "interesting.append(best[0].index.values[1])\n",
    "#set = worst[2]\n",
    "#id = set.index.values[1]\n",
    "\n",
    "\n",
    "set = best[2]\n",
    "id = set.index.values[3]\n",
    "row = df.iloc[id]\n",
    "print(id)\n",
    "grads_res = get_grads(resnets, composite_res, id, df, loader)\n",
    "#plot_model_comparison(grads_res, [], row.path)"
   ],
   "id": "f6e24c84f7ec2517",
   "execution_count": 14,
   "outputs": []
  },
  {
   "metadata": {},
   "cell_type": "code",
   "execution_count": null,
   "source": [
    "grads_vgg = get_grads(vggs, composite_vgg, id, df, loader)\n",
    "plot_model_comparison([], grads_vgg, row.path)\n"
   ],
   "id": "fcc76cfb90e4983e",
   "outputs": []
  },
  {
   "metadata": {
    "ExecuteTime": {
     "end_time": "2024-08-28T11:13:44.545955Z",
     "start_time": "2024-08-28T11:13:44.540909Z"
    }
   },
   "cell_type": "code",
   "source": [
    "# pearson\n",
    "target = df[\"RUBCNL\"]\n",
    "preds = df.iloc[:, 5:]\n",
    "print(preds.columns)"
   ],
   "id": "16271b4905f8f1e0",
   "execution_count": 22,
   "outputs": []
  },
  {
   "metadata": {
    "ExecuteTime": {
     "end_time": "2024-08-28T11:13:45.256836Z",
     "start_time": "2024-08-28T11:13:45.094144Z"
    }
   },
   "cell_type": "code",
   "source": [
    "pearsons = pd.DataFrame(columns=preds.columns)\n",
    "print(patients)\n",
    "for i in range(len(filenames)):\n",
    "    df_tmp = pd.read_csv(filenames[i])\n",
    "    target = df_tmp[\"RUBCNL\"]\n",
    "    preds = df_tmp.iloc[:, 5:]\n",
    "    row = []\n",
    "    for name, data in preds.items():\n",
    "        pearsons.at[i,name] = round(stats.pearsonr(target, data)[0],3)\n",
    "    print(pearsons.shape)\n",
    "#print(pearsons.head())\n",
    "print(pearsons.shape)\n",
    "pearsons['idx'] = patients\n",
    "pearsons.set_index('idx', append=True)\n",
    "pearsons.head()\n",
    "    "
   ],
   "id": "462a7210583f26c4",
   "execution_count": 23,
   "outputs": []
  },
  {
   "metadata": {
    "ExecuteTime": {
     "end_time": "2024-08-28T11:14:04.961667Z",
     "start_time": "2024-08-28T11:14:04.954173Z"
    }
   },
   "cell_type": "code",
   "source": "pearsons[pearsons[\"idx\"]=='p009']",
   "id": "8e1026df1c42ca12",
   "execution_count": 24,
   "outputs": []
  },
  {
   "metadata": {},
   "cell_type": "code",
   "execution_count": null,
   "source": "",
   "id": "8d3715df0da4f0c2",
   "outputs": []
  }
 ],
 "metadata": {
  "kernelspec": {
   "display_name": "Python 3",
   "language": "python",
   "name": "python3"
  },
  "language_info": {
   "codemirror_mode": {
    "name": "ipython",
    "version": 2
   },
   "file_extension": ".py",
   "mimetype": "text/x-python",
   "name": "python",
   "nbconvert_exporter": "python",
   "pygments_lexer": "ipython2",
   "version": "2.7.6"
  }
 },
 "nbformat": 4,
 "nbformat_minor": 5
}
