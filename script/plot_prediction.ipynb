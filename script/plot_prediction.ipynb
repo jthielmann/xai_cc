{
 "cells": [
  {
   "cell_type": "code",
   "id": "initial_id",
   "metadata": {
    "tags": [],
    "ExecuteTime": {
     "end_time": "2024-07-31T07:56:44.091157Z",
     "start_time": "2024-07-31T07:56:44.088884Z"
    }
   },
   "source": [
    "import torch\n",
    "import os\n",
    "\n",
    "\n",
    "from script.plot_and_print import plot_data_mapped, print_metrics, plot_data_scatter\n",
    "from script.process_csv import generate_results, merge_data, process_spatial_data, ann_data_to_csv\n",
    "from script.model import get_res18_ciga, get_res50, get_res50_dropout\n",
    "import pandas as pd\n",
    "import scipy"
   ],
   "execution_count": 7,
   "outputs": []
  },
  {
   "metadata": {
    "ExecuteTime": {
     "end_time": "2024-07-31T09:43:28.403885Z",
     "start_time": "2024-07-31T09:43:28.400680Z"
    }
   },
   "cell_type": "code",
   "source": [
    "device = \"cuda\" if torch.cuda.is_available() else \"mps\" if torch.backends.mps.is_available() else \"cpu\"\n",
    "batch_size = 64\n",
    "data_dir = \"../Training_Data/\"\n",
    "data_dir_test = \"../Test_Data/\"\n",
    "\n",
    "criterion = torch.nn.CrossEntropyLoss()\n",
    "patients = [os.path.basename(f) for f in os.scandir(data_dir) if f.is_dir()]\n",
    "patients_test = [os.path.basename(f) for f in os.scandir(data_dir_test) if f.is_dir()][1:]\n",
    "print(patients_test)\n",
    "gene = \"RUBCNL\""
   ],
   "id": "b30094854a8cff00",
   "execution_count": 19,
   "outputs": []
  },
  {
   "metadata": {
    "ExecuteTime": {
     "end_time": "2024-07-31T07:57:15.602757Z",
     "start_time": "2024-07-31T07:56:47.614888Z"
    }
   },
   "cell_type": "code",
   "source": [
    "for patient in patients:\n",
    "    ann_data_to_csv(data_dir)\n",
    "    process_spatial_data(patients, data_dir)\n",
    "    merge_data(data_dir, patient)"
   ],
   "id": "f5f8345ef735bf29",
   "execution_count": 9,
   "outputs": []
  },
  {
   "metadata": {
    "ExecuteTime": {
     "end_time": "2024-07-31T07:57:15.611389Z",
     "start_time": "2024-07-31T07:57:15.605031Z"
    }
   },
   "cell_type": "code",
   "source": [
    "def process_and_plot_patient(model, device, criterion, data_dir, patient, gene = \"RUBCNL\", results_filename = \"results.csv\"):\n",
    "    generate_results(model, device, criterion, data_dir, patient, gene, results_filename)\n",
    "    merge_data(data_dir, patient, results_filename)\n",
    "    plot_data_mapped(data_dir, patient, \"labels\")\n",
    "    plot_data_mapped(data_dir, patient, \"output\")\n",
    "    plot_data_mapped(data_dir, patient, \"diff\")\n",
    "    plot_data_scatter(data_dir, patient, gene)\n",
    "    print_metrics(data_dir, patient, \"mean\")\n",
    "    print_metrics(data_dir, patient, \"std\")\n",
    "    print_metrics(data_dir, patient, \"pearson\")\n",
    "    \n",
    "    print(\"----------------------------------------\")\n",
    "    \n",
    "def process_patients(model, device, criterion, data_dir, patients, gene = \"RUBCNL\", results_filename = \"results.csv\"):\n",
    "    results = []\n",
    "    for patient in patients:\n",
    "        generate_results(model, device, criterion, data_dir, patient, gene, results_filename)\n",
    "        merge_data(data_dir, patient, results_filename)\n",
    "        base_path = data_dir + patient + \"/Preprocessed_STDataset/\"\n",
    "        merge = pd.read_csv(base_path + \"merge.csv\")\n",
    "        out = merge['output']\n",
    "        labels = merge['labels']\n",
    "        mean_out = out.mean()\n",
    "        std_out = out.std()\n",
    "        mean_labels = labels.mean()\n",
    "        std_labels = labels.std()\n",
    "        pearson = round(scipy.stats.pearsonr(out, labels)[0], 2)\n",
    "        results.append((mean_out, std_out, mean_labels, std_labels, pearson, patient))\n",
    "    return results"
   ],
   "id": "d20aef39f0d2acec",
   "execution_count": 10,
   "outputs": []
  },
  {
   "metadata": {
    "ExecuteTime": {
     "end_time": "2024-07-31T07:57:16.622904Z",
     "start_time": "2024-07-31T07:57:15.612265Z"
    }
   },
   "cell_type": "code",
   "source": [
    "path = \"../models/res18/res18_not_iced_e29.pt\"\n",
    "res18_no_ice = get_res18_ciga(path).to(device)\n",
    "path = \"../models/res18/res18_iced_e29.pt\"\n",
    "res18_ice    = get_res18_ciga(path).to(device)\n",
    "path = \"../models/res50/RUBCNL_HLR_Res50_Drop/24072024_ep_29_lr_0.0005resnet.pt\"\n",
    "res50_drop    = get_res50_dropout(path).to(device)"
   ],
   "id": "dd643255f2efe08b",
   "execution_count": 11,
   "outputs": []
  },
  {
   "metadata": {
    "ExecuteTime": {
     "end_time": "2024-07-31T10:11:32.492381Z",
     "start_time": "2024-07-31T09:52:42.296448Z"
    }
   },
   "cell_type": "code",
   "source": [
    "raw = []\n",
    "raw.append((\"../models/res50/RUBCNL_HLR_Res50slim/15072024_ep_39_lr_0.0005resnet.pt\", get_res50))\n",
    "raw.append((\"../models/res50/RUBCNL_HLR_Res50slim_ice/15072024_ep_39_lr_0.0005resnet.pt\", get_res50))\n",
    "raw.append((\"../models/res50/RUBCNL_HLR_Res50slim_optim_ice/RUBCNL_HLR_Res50slim_optim_ice15072024_ep_26_lr_0.0005resnet.pt\", get_res50))\n",
    "raw.append((\"../models/res50/RUBCNL_HLR_Res50_Drop/24072024_ep_29_lr_0.0005resnet.pt\", get_res50_dropout))\n",
    "raw.append((\"../models/res18/res18_iced_e29.pt\",get_res18_ciga))\n",
    "raw.append((\"../models/res18/res18_not_iced_e29.pt\", get_res18_ciga))\n",
    "\n",
    "models = []\n",
    "for r in raw:\n",
    "    models.append((r[1](r[0]).to(device).eval(), r[0]))\n",
    "    \n",
    "for model in models:\n",
    "    print(type(model))\n",
    "lines = []\n",
    "for model,path in models:\n",
    "    results = process_patients(model.to(device), device, criterion, data_dir_test, patients_test, gene, results_filename = \"slim_model_results.csv\")\n",
    "    line = [path, str(type(model)), gene, ]\n",
    "\n",
    "    for i in results:\n",
    "        for j in i:\n",
    "            line.append(str(j))\n",
    "    lines.append(line)\n",
    "    # mean_out, std_out, mean_labels, std_labels, pearson, patient"
   ],
   "id": "e78af2bb9d248823",
   "execution_count": 20,
   "outputs": []
  },
  {
   "metadata": {
    "ExecuteTime": {
     "end_time": "2024-07-31T10:14:51.648601Z",
     "start_time": "2024-07-31T10:14:51.645498Z"
    }
   },
   "cell_type": "code",
   "source": [
    "columns = [\"model_name\", \"model_type\", \"gene\"]\n",
    "to_append = [[s + \"_mean_out\", s + \"_std_out\", s + \"_mean_labels\", s + \"_std_labels\", s + \"_pearson\", s] for s in patients_test]\n",
    "for s in to_append:\n",
    "    for t in s:\n",
    "        columns.append(t)\n",
    "print(len(columns))\n",
    "# mean_out, std_out, mean_labels, std_labels, pearson, patient\n",
    "print(patients_test)"
   ],
   "id": "758ad181d4885bab",
   "execution_count": 22,
   "outputs": []
  },
  {
   "metadata": {
    "ExecuteTime": {
     "end_time": "2024-07-31T10:15:22.011432Z",
     "start_time": "2024-07-31T10:15:22.004427Z"
    }
   },
   "cell_type": "code",
   "source": [
    "print(len(lines[0]))\n",
    "df = pd.DataFrame(lines, columns=columns)\n",
    "df.drop(patients_test, axis=1, inplace=True)\n",
    "df.head()\n"
   ],
   "id": "ccc8ec1f51cedfd1",
   "execution_count": 24,
   "outputs": []
  },
  {
   "metadata": {
    "ExecuteTime": {
     "end_time": "2024-07-31T10:16:15.131873Z",
     "start_time": "2024-07-31T10:16:15.129229Z"
    }
   },
   "cell_type": "code",
   "source": "df.to_csv(\"results_all_models_test.csv\")",
   "id": "8b4463e88e3510c4",
   "execution_count": 25,
   "outputs": []
  },
  {
   "metadata": {},
   "cell_type": "markdown",
   "source": "",
   "id": "47aeb759ca686a81"
  },
  {
   "metadata": {
    "ExecuteTime": {
     "end_time": "2024-07-31T10:24:19.039671Z",
     "start_time": "2024-07-31T10:22:13.845441Z"
    }
   },
   "cell_type": "code",
   "source": [
    "data_dir = \"../Training_Data/\"\n",
    "\n",
    "patients = [os.path.basename(f) for f in os.scandir(data_dir) if f.is_dir()]\n",
    "patient = \"p026\"\n",
    "process_and_plot_patient(res50_drop.to(device), device, criterion, data_dir_test, patient, \"RUBCNL\", results_filename = \"slim_model_results.csv\")\n",
    "    "
   ],
   "id": "2edc2978682f53e0",
   "execution_count": 26,
   "outputs": []
  },
  {
   "metadata": {},
   "cell_type": "code",
   "execution_count": null,
   "source": "",
   "id": "2d0a58cc9c01725c",
   "outputs": []
  }
 ],
 "metadata": {
  "kernelspec": {
   "display_name": "Python 3 (ipykernel)",
   "language": "python",
   "name": "python3"
  },
  "language_info": {
   "codemirror_mode": {
    "name": "ipython",
    "version": 3
   },
   "file_extension": ".py",
   "mimetype": "text/x-python",
   "name": "python",
   "nbconvert_exporter": "python",
   "pygments_lexer": "ipython3",
   "version": "3.10.7"
  }
 },
 "nbformat": 4,
 "nbformat_minor": 5
}
