{
 "cells": [
  {
   "cell_type": "code",
   "id": "initial_id",
   "metadata": {
    "tags": [],
    "ExecuteTime": {
     "end_time": "2024-07-17T10:54:14.481285Z",
     "start_time": "2024-07-17T10:54:14.473742Z"
    }
   },
   "source": [
    "import pandas as pd\n",
    "import torch\n",
    "import matplotlib.pyplot as plt\n",
    "from func import get_model2, get_model, get_data_loaders, get_patient_loader, MyNet, MyNet2\n",
    "from torchvision import models\n",
    "import os\n",
    "import scipy"
   ],
   "execution_count": 56,
   "outputs": []
  },
  {
   "metadata": {
    "ExecuteTime": {
     "end_time": "2024-07-17T10:54:44.707049Z",
     "start_time": "2024-07-17T10:54:44.358257Z"
    }
   },
   "cell_type": "code",
   "source": [
    "device = \"cuda\" if torch.cuda.is_available() else \"mps\" if torch.backends.mps.is_available() else \"cpu\"\n",
    "batch_size = 64\n",
    "data_dir = \"../Training_Data/\"\n",
    "criterion = torch.nn.CrossEntropyLoss()\n",
    "#model = get_model()\n",
    "model = MyNet(models.resnet50(weights=\"IMAGENET1K_V2\"))\n",
    "#model = MyNet(my_pretrained_model=models.resnet50(weights=\"IMAGENET1K_V2\"))#path = \"./data/05072024_single__5e-06resnet2.pt\"\n",
    "#path = \"./data/09072024_lr__0.0005resnet.pt\"\n",
    "#model.load_state_dict(torch.load(path, map_location=torch.device('cpu')))\n",
    "\n",
    "patients = [os.path.basename(f) for f in os.scandir(data_dir) if f.is_dir()]"
   ],
   "id": "b30094854a8cff00",
   "execution_count": 59,
   "outputs": []
  },
  {
   "metadata": {
    "ExecuteTime": {
     "end_time": "2024-07-17T10:54:47.993297Z",
     "start_time": "2024-07-17T10:54:47.978486Z"
    }
   },
   "cell_type": "code",
   "source": [
    "\n",
    "    \n",
    "# function that combines all tiles back to the image\n",
    "def plot_data_mapped(data_dir, patient, category = \"diff\"):\n",
    "    base_path = data_dir+patient+\"/Preprocessed_STDataset/\"\n",
    "    merge = pd.read_csv(base_path + \"merge.csv\")\n",
    "    merge[\"diff\"] = merge[\"labels\"] - merge[\"output\"]\n",
    "    merge.to_csv(base_path + \"merge.csv\")\n",
    "    plt.scatter(merge['x'], merge['y'], c=merge[category], cmap='viridis')\n",
    "    plt.colorbar(label='labels')\n",
    "    plt.xlabel('X')\n",
    "    plt.ylabel('Y')\n",
    "    plt.title(category + \" for patient \" + patient)\n",
    "    plt.show()\n",
    "    #merge.plot.scatter(x=\"x\", y=\"y\")\n",
    "    \n",
    "def plot_hist_comparison(data_dir, patient):\n",
    "    base_path = data_dir+patient+\"/Preprocessed_STDataset/\"\n",
    "    merge = pd.read_csv(base_path + \"merge.csv\")\n",
    "    out = merge['output']\n",
    "    plt.hist(out)\n",
    "    plt.show()\n",
    "    labels = merge['labels']\n",
    "    plt.hist(labels)\n",
    "    plt.show()\n",
    "    \n",
    "    \n",
    "def print_metrics(data_dir, patient, metric):\n",
    "    base_path = data_dir+patient+\"/Preprocessed_STDataset/\"\n",
    "    merge = pd.read_csv(base_path + \"merge.csv\")\n",
    "    out = merge['output']\n",
    "    labels = merge['labels']\n",
    "    mean_out = out.mean()\n",
    "    std_out = out.std()\n",
    "    mean_labels = labels.mean()\n",
    "    std_labels = labels.std()\n",
    "    if metric == \"mean\":\n",
    "        print(\"mean diff: \", \"{:.4f}\".format(abs(mean_out-mean_labels)), \", mean out: \", \"{:.4f}\".format(mean_out), \", mean labels: \", \"{:.4f}\".format(mean_labels))\n",
    "    if metric == \"std\":\n",
    "        print(\"std diff: \", \"{:.4f}\".format(abs(std_out-std_labels)), \", std out: \", \"{:.4f}\".format(std_out), \", std labels: \", \"{:.4f}\".format(std_labels))\n",
    "\n",
    "def plot_hist_comparison(data_dir, patient):\n",
    "    base_path = data_dir+patient+\"/Preprocessed_STDataset/\"\n",
    "    merge = pd.read_csv(base_path + \"merge.csv\")\n",
    "    out = merge['output']\n",
    "    plt.hist(out)\n",
    "    plt.show()\n",
    "    labels = merge['labels']\n",
    "    plt.hist(labels)\n",
    "    plt.show()\n",
    "    \n",
    "    \n",
    "def print_metrics(data_dir, patient, metric):\n",
    "    base_path = data_dir+patient+\"/Preprocessed_STDataset/\"\n",
    "    merge = pd.read_csv(base_path + \"merge.csv\")\n",
    "    out = merge['output']\n",
    "    labels = merge['labels']\n",
    "    mean_out = out.mean()\n",
    "    std_out = out.std()\n",
    "    mean_labels = labels.mean()\n",
    "    std_labels = labels.std()\n",
    "    if metric == \"mean\":\n",
    "        print(\"mean diff: \", \"{:.4f}\".format(abs(mean_out-mean_labels)), \", mean out: \", \"{:.4f}\".format(mean_out), \", mean labels: \", \"{:.4f}\".format(mean_labels))\n",
    "    if metric == \"std\":\n",
    "        print(\"std diff: \", \"{:.4f}\".format(abs(std_out-std_labels)), \", std out: \", \"{:.4f}\".format(std_out), \", std labels: \", \"{:.4f}\".format(std_labels))\n",
    "    if metric == \"pearson\":\n",
    "        print(\"pearson corr: \" + str(round(scipy.stats.pearsonr(out, labels)[0], 2)))\n",
    "    \n",
    "    \n",
    "    \n",
    "def plot_data_scatter(data_dir, patient, gene):\n",
    "    base_path = data_dir+patient+\"/Preprocessed_STDataset/\"\n",
    "    merge = pd.read_csv(base_path + \"merge.csv\")\n",
    "    plt.scatter(merge['output'], merge['labels'])\n",
    "    plt.text(x=-2, y=3 , s=\"pearson corr: \" + str(round(scipy.stats.pearsonr(merge['output'], merge['labels'])[0], 2)))\n",
    "    plt.plot( [-2,3],[-2,3], color='red' )\n",
    "    plt.title(\"labels vs output for \" + patient + \" for gene \" + gene)\n",
    "    plt.xlabel('output')\n",
    "    plt.ylabel('target')\n",
    "    plt.show()\n",
    "    \n",
    "    \n",
    "def process_and_plot_patient(model, device, criterion, data_dir, patient, gene = \"RUBCNL\", results_filename = \"results.csv\"):\n",
    "    generate_results(model, device, criterion, data_dir, patient, gene, results_filename)\n",
    "    merge_data(data_dir, patient, results_filename)\n",
    "    plot_data_mapped(data_dir, patient, \"labels\")\n",
    "    plot_data_mapped(data_dir, patient, \"output\")\n",
    "    plot_data_mapped(data_dir, patient, \"diff\")\n",
    "    plot_data_scatter(data_dir, patient, gene)\n",
    "    print_metrics(data_dir, patient, \"mean\")\n",
    "    print_metrics(data_dir, patient, \"std\")\n",
    "    print_metrics(data_dir, patient, \"pearson\")\n",
    "    \n",
    "    print(\"----------------------------------------\")"
   ],
   "id": "d20aef39f0d2acec",
   "execution_count": 60,
   "outputs": []
  },
  {
   "metadata": {
    "ExecuteTime": {
     "end_time": "2024-07-16T10:22:50.720921Z",
     "start_time": "2024-07-16T10:22:50.710271Z"
    }
   },
   "cell_type": "code",
   "source": [
    "models_per_epoch_dir = \"./RUBCNL_HLR_old_model/\"\n",
    "\n",
    "models_per_epoch = [os.path.basename(f) for f in os.scandir(models_per_epoch_dir)]\n",
    "#models_per_epoch = [f for f in os.scandir(models_per_epoch_dir)]\n",
    "m = models_per_epoch[0]\n",
    "\n",
    "model = MyNet(models.resnet50(weights=\"IMAGENET1K_V2\"))\n",
    "model.load_state_dict(torch.load(models_per_epoch_dir + m, map_location=torch.device(device)))\n",
    "process_and_plot_patient(model.to(device), device, criterion, data_dir, \"p007\", \"RUBCNL\", results_filename = \"slim_model_results.csv\")"
   ],
   "id": "6492b274b6fc483c",
   "execution_count": 28,
   "outputs": []
  },
  {
   "metadata": {
    "ExecuteTime": {
     "end_time": "2024-07-16T10:22:50.997733Z",
     "start_time": "2024-07-16T10:22:50.920649Z"
    }
   },
   "cell_type": "code",
   "source": "process_and_plot_patient(old_model.to(device), device, criterion, data_dir, \"p007\", \"RUBCNL\", results_filename = \"slim_model_results.csv\")",
   "id": "bfc4bfcd62c03d69",
   "execution_count": 29,
   "outputs": []
  },
  {
   "metadata": {
    "ExecuteTime": {
     "end_time": "2024-07-17T10:57:02.429879Z",
     "start_time": "2024-07-17T10:57:02.331630Z"
    }
   },
   "cell_type": "code",
   "source": [
    "import os\n",
    "def get_img_target_name(loader, device, tile_no):\n",
    "    image, target, name = loader[tile_no]\n",
    "    image = image.unsqueeze(0).to(device)\n",
    "    image = image.float()\n",
    "    target = torch.tensor(target[0]).to(device)\n",
    "    return image, target, name\n",
    "patients = [os.path.basename(f) for f in os.scandir(data_dir) if f.is_dir()]\n",
    "patients = patients[0:-1]#drop p008\n",
    "\n",
    "patient = \"/p009\"\n",
    "loader = get_patient_loader(data_dir, patient)\n",
    "\n",
    "print(patients)\n",
    "for i in range (20):\n",
    "    \n",
    "    input, target, name = get_img_target_name(loader,device,i)"
   ],
   "id": "d37f6eeee1fd4e4",
   "execution_count": 61,
   "outputs": []
  },
  {
   "metadata": {
    "ExecuteTime": {
     "end_time": "2024-07-16T10:22:51.917030Z",
     "start_time": "2024-07-16T10:22:51.914179Z"
    }
   },
   "cell_type": "code",
   "source": [
    "def calc_residuals(test_df, true, preds):\n",
    "  for i in range(len(true)):\n",
    "    test_df[true[i]] = test_df[true[i]].astype(float)\n",
    "    test_df[preds[i]] = test_df[preds[i]].astype(float)\n",
    "    res_name = true[i].replace(\"true\", \"residuals\")\n",
    "    res_abs_name = true[i].replace(\"true\", \"residuals_abs\")\n",
    "    test_df[res_name] = test_df[true[i]] - test_df[preds[i]]\n",
    "    test_df[res_abs_name] = test_df[res_name].abs()\n",
    "  return test_df"
   ],
   "id": "2dd4e10b679f50e1",
   "execution_count": 32,
   "outputs": []
  },
  {
   "metadata": {
    "ExecuteTime": {
     "end_time": "2024-07-16T10:22:52.110507Z",
     "start_time": "2024-07-16T10:22:52.098721Z"
    }
   },
   "cell_type": "code",
   "source": [
    "import os\n",
    "data_dir = \"./data/\"\n",
    "patients = [os.path.basename(f) for f in os.scandir(data_dir) if f.is_dir()]\n",
    "patients = patients[0:-1]\n",
    "print(patients)\n",
    "for patient in patients:\n",
    "    if patient == 'p008':\n",
    "        continue\n",
    "    filename = data_dir + \"/\" + patient + \"/Preprocessed_STDataset/spatial_data.csv\"\n",
    "    spatial_matrix = pd.read_csv(data_dir+patient+\"/Preprocessed_STDataset/Raw_Spatial_Matrix_156_\"+patient+\".csv\") #adapt to sample\n",
    "    spatial_matrix['tile'] = spatial_matrix['tile'].apply(lambda x: \"{}{}\".format(x, \".tiff\"))\n",
    "    spatial_matrix['tile'] = spatial_matrix['tile'].apply(lambda x: \"{}{}\".format(data_dir+patient+\"/Tiles_156/\", x[57:])) #adapt to sample\n",
    "    spatial_matrix['path'] = spatial_matrix['tile']\n",
    "    spatial_matrix['tile'] = spatial_matrix['tile'].apply(lambda x: os.path.basename(x))\n",
    "    spatial_matrix.to_csv(filename, index=False)"
   ],
   "id": "5ad132e0105d825",
   "execution_count": 33,
   "outputs": []
  },
  {
   "metadata": {
    "ExecuteTime": {
     "end_time": "2024-07-16T10:22:52.364230Z",
     "start_time": "2024-07-16T10:22:52.313222Z"
    }
   },
   "cell_type": "code",
   "source": [
    "\n",
    "for patient in patients:\n",
    "    merge_data(data_dir, patient, \"results_slim_model.csv\")"
   ],
   "id": "27f4cf3d3d98954a",
   "execution_count": 34,
   "outputs": []
  },
  {
   "metadata": {
    "ExecuteTime": {
     "end_time": "2024-07-16T10:22:52.608041Z",
     "start_time": "2024-07-16T10:22:52.555105Z"
    }
   },
   "cell_type": "code",
   "source": [
    "\n",
    "    \n",
    "print(patients)\n",
    "for patient in patients:\n",
    "    \n",
    "    if patient == 'p008':\n",
    "        continue\n",
    "    plot_data_mapped(data_dir, patient, \"labels\")\n",
    "    plot_data_mapped(data_dir, patient, \"output\")\n",
    "    plot_data_mapped(data_dir, patient, \"diff\")\n",
    "    print(\"----------------------------------------\")"
   ],
   "id": "a06c834007f13636",
   "execution_count": 35,
   "outputs": []
  },
  {
   "metadata": {
    "ExecuteTime": {
     "end_time": "2024-07-16T10:22:52.754762Z",
     "start_time": "2024-07-16T10:22:52.745840Z"
    }
   },
   "cell_type": "code",
   "source": [
    "# function that combines all tiles back to the image\n",
    "\n",
    "    #merge.plot.scatter(x=\"x\", y=\"y\")\n",
    "for patient in patients:\n",
    "    \n",
    "    \n",
    "    if patient == 'p008':\n",
    "        continue\n",
    "    plot_data_scatter(data_dir, patient)"
   ],
   "id": "e5d04f6302185922",
   "execution_count": 36,
   "outputs": []
  },
  {
   "metadata": {
    "ExecuteTime": {
     "end_time": "2024-07-16T10:22:52.939961Z",
     "start_time": "2024-07-16T10:22:52.887922Z"
    }
   },
   "cell_type": "code",
   "source": [
    "\n",
    "for patient in patients:\n",
    "    \n",
    "    if patient == 'p008':\n",
    "        continue\n",
    "    print_metrics(data_dir, patient, \"mean\")\n",
    "for patient in patients:\n",
    "    \n",
    "    if patient == 'p008':\n",
    "        continue\n",
    "    print_metrics(data_dir, patient, \"std\")\n",
    "    "
   ],
   "id": "13b095b76e284e22",
   "execution_count": 37,
   "outputs": []
  },
  {
   "metadata": {
    "ExecuteTime": {
     "end_time": "2024-07-16T10:22:53.085186Z",
     "start_time": "2024-07-16T10:22:53.083204Z"
    }
   },
   "cell_type": "code",
   "source": "from scipy import stats\n",
   "id": "782f74c94fa88992",
   "execution_count": 38,
   "outputs": []
  },
  {
   "metadata": {
    "ExecuteTime": {
     "end_time": "2024-07-16T10:22:53.363290Z",
     "start_time": "2024-07-16T10:22:53.315116Z"
    }
   },
   "cell_type": "code",
   "source": [
    "for patient in patients:\n",
    "    base_path = data_dir+patient+\"/Preprocessed_STDataset/\"\n",
    "    merge = pd.read_csv(base_path + \"merge.csv\")\n",
    "    corr = stats.pearsonr(merge['output'], merge['labels'])\n",
    "    print(corr)"
   ],
   "id": "52ef763de4928b90",
   "execution_count": 39,
   "outputs": []
  },
  {
   "metadata": {
    "ExecuteTime": {
     "end_time": "2024-07-16T10:22:53.561595Z",
     "start_time": "2024-07-16T10:22:53.554207Z"
    }
   },
   "cell_type": "code",
   "source": "print(corr)",
   "id": "5fbca42353745de5",
   "execution_count": 40,
   "outputs": []
  },
  {
   "metadata": {
    "ExecuteTime": {
     "end_time": "2024-07-16T10:22:53.638321Z",
     "start_time": "2024-07-16T10:22:53.636945Z"
    }
   },
   "cell_type": "code",
   "source": "",
   "id": "cfe2a40952bc9caf",
   "execution_count": 40,
   "outputs": []
  },
  {
   "metadata": {
    "ExecuteTime": {
     "end_time": "2024-07-16T10:22:53.746476Z",
     "start_time": "2024-07-16T10:22:53.686405Z"
    }
   },
   "cell_type": "code",
   "source": "process_and_plot_patient(model, device, criterion, data_dir, patient, \"RUBCNL\", results_filename = \"slim_model_results.csv\")",
   "id": "a92cb90afef44468",
   "execution_count": 41,
   "outputs": []
  },
  {
   "metadata": {
    "ExecuteTime": {
     "end_time": "2024-07-16T10:22:54.143529Z",
     "start_time": "2024-07-16T10:22:53.749167Z"
    }
   },
   "cell_type": "code",
   "source": [
    "old_model = get_model()\n",
    "path = \"./10082023_RUBCNL_ST_absolute_single_64_NLR_loss_resnet50.pt\"\n",
    "old_model = old_model.load_state_dict(torch.load(path, map_location=torch.device('cpu')))"
   ],
   "id": "8ad6de37b86ebfb8",
   "execution_count": 42,
   "outputs": []
  },
  {
   "metadata": {},
   "cell_type": "code",
   "source": [
    "\n",
    "def get_res18(path):\n",
    "    class Res18(nn.Module):\n",
    "        def __init__(self, ciga):\n",
    "            super(Res18, self).__init__()\n",
    "            self.pretrained = ciga\n",
    "\n",
    "            self.gene1 = nn.Sequential(nn.Linear(512, 200), nn.ReLU(), nn.Linear(200, 1))\n",
    "\n",
    "        def forward(self, x):\n",
    "            x = self.pretrained(x)\n",
    "            x = self.gene1(x)\n",
    "            return x\n",
    "\n",
    "    ciga = models.resnet18()\n",
    "    ciga.fc = torch.nn.Sequential()\n",
    "    res18 = Res18(ciga)\n",
    "    res18.load_state_dict(torch.load(path, map_location=torch.device('cpu')))\n",
    "    return(res18)"
   ],
   "id": "950ee2aa19c35e44",
   "execution_count": null,
   "outputs": []
  },
  {
   "metadata": {},
   "cell_type": "code",
   "source": [
    "path = \"./RUBCNL_HLR_old_model_now_all_layers/11072024_ep_29_lr_0.0005resnet.pt\"\n",
    "res18_no_ice = get_res18(path).to(device)\n",
    "path = \"./resnet_iced_e29.pt\"\n",
    "res18_ice    = get_res18(path)"
   ],
   "id": "7110eeaff28b1337",
   "execution_count": null,
   "outputs": []
  },
  {
   "metadata": {},
   "cell_type": "code",
   "source": "ms = [res18]",
   "id": "894a874622d46055",
   "execution_count": null,
   "outputs": []
  },
  {
   "metadata": {},
   "cell_type": "code",
   "source": [
    "#val 9 13\n",
    "for patient in patients:\n",
    "    if patient == \"p008\":\n",
    "        continue\n",
    "    process_and_plot_patient(res18_no_ice, device, criterion, data_dir, patient, \"RUBCNL\", results_filename = \"slim_model_results.csv\")"
   ],
   "id": "9720ef2e68e2a347",
   "execution_count": null,
   "outputs": []
  },
  {
   "metadata": {
    "ExecuteTime": {
     "end_time": "2024-07-16T13:29:41.944006Z",
     "start_time": "2024-07-16T13:29:41.912912Z"
    }
   },
   "cell_type": "code",
   "source": [
    "\n",
    "def get_res18(path):\n",
    "    class Res18(nn.Module):\n",
    "        def __init__(self, ciga):\n",
    "            super(Res18, self).__init__()\n",
    "            self.pretrained = ciga\n",
    "\n",
    "            self.gene1 = nn.Sequential(nn.Linear(512, 200), nn.ReLU(), nn.Linear(200, 1))\n",
    "\n",
    "        def forward(self, x):\n",
    "            x = self.pretrained(x)\n",
    "            x = self.gene1(x)\n",
    "            return x\n",
    "\n",
    "    ciga = models.resnet18()\n",
    "    ciga.fc = torch.nn.Sequential()\n",
    "    res18 = Res18(ciga)\n",
    "    print(res18.load_state_dict(torch.load(path, map_location=torch.device('cpu'))))\n",
    "    #return(res18)\n",
    "def get_MyNet2(path):\n",
    "    class MyNet2(nn.Module):\n",
    "        def __init__(self, my_pretrained_model=models.resnet50(weights=\"IMAGENET1K_V2\")):\n",
    "            super(MyNet2, self).__init__()\n",
    "            self.pretrained = my_pretrained_model\n",
    "    \n",
    "            self.gene1 = nn.Sequential(nn.Linear(1000, 200), nn.ReLU(), nn.Linear(200, 1))\n",
    "    \n",
    "        def forward(self, x):\n",
    "            x = self.pretrained(x)\n",
    "            gene1 = self.gene1(x)\n",
    "            return gene1\n",
    "    net = MyNet2()\n",
    "    \n",
    "    print(net.load_state_dict(torch.load(path, map_location=torch.device('cpu'))))\n",
    "    \n",
    "    return net\n",
    "    "
   ],
   "id": "d5178d77d06c53e4",
   "execution_count": 52,
   "outputs": []
  },
  {
   "metadata": {
    "ExecuteTime": {
     "end_time": "2024-07-16T13:30:15.751703Z",
     "start_time": "2024-07-16T13:30:15.739618Z"
    }
   },
   "cell_type": "code",
   "source": [
    "path = \"./RUBCNL_HLR_old_model_now_all_layers/11072024_ep_29_lr_0.0005resnet.pt\"\n",
    "#res50 = get_M(path)\n",
    "path = \"./res18_not_iced_e29.pt\"\n",
    "res18_no_ice = get_res18(path).to(device)\n",
    "path = \"./res18_iced_e29.pt\"\n",
    "res18_ice    = get_res18(path)\n",
    "#ms = [res50,res18_no_ice,res18_ice]"
   ],
   "id": "dd643255f2efe08b",
   "execution_count": 55,
   "outputs": []
  },
  {
   "cell_type": "code",
   "id": "88a5bcbc-35fe-41f3-97de-a242bd5c407a",
   "metadata": {},
   "source": [
    "import torch\n",
    "import torch.nn as nn\n",
    "class MyNet3(nn.Module):\n",
    "    def __init__(self, my_pretrained_model):\n",
    "        super(MyNet3, self).__init__()\n",
    "        self.pretrained = my_pretrained_model\n",
    "\n",
    "\n",
    "        self.my_new_layers = nn.Sequential(nn.Linear(1000, 200),\n",
    "                                            nn.ReLU(),\n",
    "                                            nn.BatchNorm1d(200),\n",
    "                                            nn.Dropout(0.3),\n",
    "                                            nn.Linear(200, 1))\n",
    "\n",
    "\n",
    "    def forward(self, x):\n",
    "        x = self.pretrained(x)\n",
    "        output = self.my_new_layers(x)\n",
    "        #output = nn.functional.log_softmax(x, dim=1) #adapt output function to prediction task\n",
    "        return output"
   ],
   "execution_count": null,
   "outputs": []
  },
  {
   "cell_type": "code",
   "id": "9c56f44e-aac4-4bda-9aff-5d64132fed23",
   "metadata": {},
   "source": [
    "import torchvision\n",
    "old_model = MyNet3(torchvision.models.resnet50(weights=\"IMAGENET1K_V2\"))\n",
    "path = \"../models/res50/10082023_RUBCNL_ST_absolute_single_64_NLR_loss_resnet50.pt\"\n",
    "old_model.load_state_dict(torch.load(path, map_location=torch.device('cpu')))"
   ],
   "execution_count": null,
   "outputs": []
  },
  {
   "cell_type": "code",
   "id": "d0382bdb-8e18-4c45-999a-0d692f211728",
   "metadata": {
    "collapsed": true,
    "jupyter": {
     "outputs_hidden": true
    },
    "tags": []
   },
   "source": [
    "print(old_model)"
   ],
   "execution_count": null,
   "outputs": []
  },
  {
   "cell_type": "code",
   "id": "a24c4674-79a6-4256-a1b4-7925057588e2",
   "metadata": {
    "collapsed": true,
    "jupyter": {
     "outputs_hidden": true
    },
    "tags": []
   },
   "source": [
    "for patient in patients:\n",
    "    generate_results(old_model.to(device), device, torch.nn.CrossEntropyLoss(), data_dir, patient, \"RUBCNL\", \"results_slim_model.csv\")"
   ],
   "execution_count": null,
   "outputs": []
  },
  {
   "metadata": {},
   "cell_type": "code",
   "source": [
    "path = \"../models/res18/RUBCNL_HLR_old_model_now_all_layers/11072024_ep_29_lr_0.0005resnet.pt\"\n",
    "res18_no_ice = get_res18(path).to(device)"
   ],
   "id": "f5fc233ff4348124",
   "execution_count": null,
   "outputs": []
  },
  {
   "cell_type": "code",
   "id": "d0c27a8e-406e-49f2-9e6c-fb4a534e52aa",
   "metadata": {
    "ExecuteTime": {
     "end_time": "2024-07-16T10:23:03.383462Z",
     "start_time": "2024-07-16T10:22:54.204018Z"
    }
   },
   "source": [
    "import os\n",
    "data_dir = \"../Training_Data/\"\n",
    "#patients = [os.path.basename(f) for f in os.scandir(data_dir) if f.is_dir()]\n",
    "patients = [\"p009\", \"p013\"]\n",
    "for patient in patients:\n",
    "    if patient == \"p008\":\n",
    "        continue\n",
    "    process_and_plot_patient(old_model.to(device), device, criterion, data_dir, patient, \"RUBCNL\", results_filename = \"slim_model_results.csv\")"
   ],
   "execution_count": 43,
   "outputs": []
  },
  {
   "metadata": {
    "ExecuteTime": {
     "end_time": "2024-07-16T10:25:16.963355Z",
     "start_time": "2024-07-16T10:25:16.961009Z"
    }
   },
   "cell_type": "code",
   "source": "models = [\"../models/res50/RUBCNL_HLR_Res50slim/15072024_ep_39_lr_0.0005resnet.pt\", \"../models/res50/RUBCNL_HLR_Res50slim_ice/15072024_ep_39_lr_0.0005resnet.pt\", \"../models/res50/RUBCNL_HLR_Res50slim_optim_ice/RUBCNL_HLR_Res50slim_optim_ice15072024_ep_26_lr_0.0005resnet.pt\"]",
   "id": "8120c4bb940242fa",
   "execution_count": 44,
   "outputs": []
  },
  {
   "metadata": {
    "ExecuteTime": {
     "end_time": "2024-07-16T12:16:20.883908Z",
     "start_time": "2024-07-16T12:13:16.373091Z"
    }
   },
   "cell_type": "code",
   "source": [
    "patients = [\"p009\", \"p013\"]\n",
    "for patient in patients:\n",
    "    if patient == \"p008\":\n",
    "        continue\n",
    "    for model_path in models:\n",
    "        print(model_path)\n",
    "        res50 = get_model2()\n",
    "        print(res50.load_state_dict(torch.load(model_path, map_location=torch.device('mps'))))\n",
    "        process_and_plot_patient(res50.to(device), device, criterion, data_dir, patient, \"RUBCNL\", results_filename = \"slim_model_results.csv\")"
   ],
   "id": "e78af2bb9d248823",
   "execution_count": 51,
   "outputs": []
  },
  {
   "metadata": {},
   "cell_type": "code",
   "source": "",
   "id": "f61bb0795c89c758",
   "execution_count": null,
   "outputs": []
  },
  {
   "metadata": {},
   "cell_type": "code",
   "source": "",
   "id": "d3c3f71fabfb48d5",
   "execution_count": null,
   "outputs": []
  },
  {
   "metadata": {},
   "cell_type": "code",
   "source": "",
   "id": "3a22943c583258eb",
   "execution_count": null,
   "outputs": []
  },
  {
   "metadata": {},
   "cell_type": "code",
   "source": "",
   "id": "ff39240b6410bb9d",
   "execution_count": null,
   "outputs": []
  },
  {
   "metadata": {},
   "cell_type": "code",
   "source": "",
   "id": "bd4c2b15518eee50",
   "execution_count": null,
   "outputs": []
  },
  {
   "metadata": {},
   "cell_type": "code",
   "source": "",
   "id": "a2b6666822c72f10",
   "execution_count": null,
   "outputs": []
  },
  {
   "metadata": {},
   "cell_type": "code",
   "source": "",
   "id": "20fc59009cdb6768",
   "execution_count": null,
   "outputs": []
  },
  {
   "metadata": {},
   "cell_type": "code",
   "source": "",
   "id": "2798b496dbdbeaeb",
   "execution_count": null,
   "outputs": []
  },
  {
   "metadata": {},
   "cell_type": "code",
   "source": "",
   "id": "b75cac2a0fed42b8",
   "execution_count": null,
   "outputs": []
  },
  {
   "metadata": {},
   "cell_type": "code",
   "source": "",
   "id": "6008c233185e7f9e",
   "execution_count": null,
   "outputs": []
  },
  {
   "metadata": {},
   "cell_type": "code",
   "source": "",
   "id": "b590bc5192c2266a",
   "execution_count": null,
   "outputs": []
  },
  {
   "metadata": {},
   "cell_type": "code",
   "source": "",
   "id": "cc6d5ec1c626f52f",
   "execution_count": null,
   "outputs": []
  },
  {
   "metadata": {},
   "cell_type": "code",
   "source": "",
   "id": "4d5f2963135bb63c",
   "execution_count": null,
   "outputs": []
  },
  {
   "metadata": {},
   "cell_type": "code",
   "source": "",
   "id": "f4bc15d3e2b03b53",
   "execution_count": null,
   "outputs": []
  },
  {
   "metadata": {},
   "cell_type": "code",
   "source": "",
   "id": "dcc20b4450d025da",
   "execution_count": null,
   "outputs": []
  },
  {
   "metadata": {},
   "cell_type": "code",
   "source": "",
   "id": "e84f697afbb536db",
   "execution_count": null,
   "outputs": []
  },
  {
   "metadata": {},
   "cell_type": "code",
   "execution_count": null,
   "source": "",
   "id": "afba2c37ac85524d",
   "outputs": []
  }
 ],
 "metadata": {
  "kernelspec": {
   "display_name": "Python 3 (ipykernel)",
   "language": "python",
   "name": "python3"
  },
  "language_info": {
   "codemirror_mode": {
    "name": "ipython",
    "version": 3
   },
   "file_extension": ".py",
   "mimetype": "text/x-python",
   "name": "python",
   "nbconvert_exporter": "python",
   "pygments_lexer": "ipython3",
   "version": "3.10.7"
  }
 },
 "nbformat": 4,
 "nbformat_minor": 5
}
