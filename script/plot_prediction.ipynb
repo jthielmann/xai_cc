{
 "cells": [
  {
   "cell_type": "code",
   "execution_count": 1,
   "id": "initial_id",
   "metadata": {
    "ExecuteTime": {
     "end_time": "2024-06-27T09:17:23.010890Z",
     "start_time": "2024-06-27T09:17:23.008786Z"
    },
    "tags": []
   },
   "outputs": [
    {
     "name": "stderr",
     "output_type": "stream",
     "text": [
      "/Users/jona/.pyenv/versions/3.10.7/lib/python3.10/site-packages/torchvision/io/image.py:13: UserWarning: Failed to load image Python extension: dlopen(/Users/jona/.pyenv/versions/3.10.7/lib/python3.10/site-packages/torchvision/image.so, 0x0006): Symbol not found: __ZN3c1017RegisterOperatorsD1Ev\n",
      "  Referenced from: <D9493EF5-8DAB-3A5D-85D5-684F04544B84> /Users/jona/.pyenv/versions/3.10.7/lib/python3.10/site-packages/torchvision/image.so\n",
      "  Expected in:     <7856C0E5-3D52-39C7-8515-71217150BD2E> /Users/jona/.pyenv/versions/3.10.7/lib/python3.10/site-packages/torch/lib/libtorch_cpu.dylib\n",
      "  warn(f\"Failed to load image Python extension: {e}\")\n"
     ]
    },
    {
     "name": "stdout",
     "output_type": "stream",
     "text": [
      "24\n"
     ]
    }
   ],
   "source": [
    "import pandas as pd\n",
    "import torch\n",
    "import matplotlib.pyplot as plt\n",
    "from func import get_model2, get_model, get_data_loaders, get_patient_loader, MyNet, MyNet2\n",
    "from torchvision import models\n",
    "import os\n",
    "import torch.nn as nn\n",
    "import scipy"
   ]
  },
  {
   "metadata": {},
   "cell_type": "code",
   "outputs": [],
   "execution_count": null,
   "source": [
    "device = \"cuda\" if torch.cuda.is_available() else \"mps\" if torch.backends.mps.is_available() else \"cpu\"\n",
    "batch_size = 64\n",
    "data_dir = \"./data/\"\n",
    "criterion = torch.nn.CrossEntropyLoss()\n",
    "#model = get_model()\n",
    "model = MyNet(models.resnet50(weights=\"IMAGENET1K_V2\"))\n",
    "#model = MyNet(my_pretrained_model=models.resnet50(weights=\"IMAGENET1K_V2\"))#path = \"./data/05072024_single__5e-06resnet2.pt\"\n",
    "path = \"./data/09072024_lr__0.0005resnet.pt\"\n",
    "model.load_state_dict(torch.load(path, map_location=torch.device('cpu')))\n",
    "\n",
    "patients = [os.path.basename(f) for f in os.scandir(data_dir) if f.is_dir()]"
   ],
   "id": "b30094854a8cff00"
  },
  {
   "metadata": {},
   "cell_type": "code",
   "outputs": [],
   "execution_count": null,
   "source": [
    "def generate_results(model, device, criterion, data_dir, patient=None, gene = \"RUBCNL\", results_filename = \"results.csv\"):\n",
    "    model.eval()\n",
    "    print(\"generating results...\")\n",
    "    loader = get_patient_loader(data_dir, patient=patient, gene=gene)\n",
    "    filename = data_dir + patient + \"/Preprocessed_STDataset/\" + results_filename\n",
    "    print(filename)\n",
    "    if os.path.exists(filename):\n",
    "        os.remove(filename)\n",
    "    columns = ['labels', 'output', 'path', 'tile']\n",
    "    df = pd.DataFrame(columns=columns)\n",
    "    df.to_csv(filename, index=False)\n",
    "    i = 0\n",
    "    j = len(loader)\n",
    "    with torch.no_grad():\n",
    "        for images, labels, name in loader:\n",
    "            if i%1000==0:\n",
    "                print(i, \"/\", j)\n",
    "            i+=1\n",
    "            images = images.unsqueeze(0).to(device)\n",
    "            images = images.float()\n",
    "            #labels = torch.stack(labels, dim=1)\n",
    "            #labels = labels.float()\n",
    "            labels = torch.tensor(labels[0]).to(device)\n",
    "            \n",
    "            output = model(images)\n",
    "            \n",
    "            output=output.squeeze().unsqueeze(0)\n",
    "            labels=labels.unsqueeze(0)\n",
    "            \n",
    "            loss = criterion(output, labels).cpu()\n",
    "            \n",
    "            output = pd.DataFrame(output.cpu())\n",
    "            labels = pd.DataFrame(labels.cpu())\n",
    "            \n",
    "            res = pd.concat([labels, output, pd.Series(name), pd.Series(os.path.basename(name))], axis=1)\n",
    "            res.columns = columns\n",
    "            \n",
    "            res.to_csv(filename, index=False, mode='a', header=False)\n",
    "\n",
    "def merge_data(data_dir, patient, results_filename = \"results.csv\"):\n",
    "    \n",
    "    if patient == 'p008':\n",
    "        return\n",
    "    base_path = data_dir+patient+\"/Preprocessed_STDataset/\"\n",
    "    spatial_matrix = pd.read_csv(base_path + \"spatial_data.csv\")\n",
    "    results  = pd.read_csv(base_path + results_filename)\n",
    "    results = results.drop(\"path\", axis=1)\n",
    "#Merge spatial with test dataset to get spatial coordinates for predicted tiles\n",
    "    merge = pd.merge(results, spatial_matrix, on = \"tile\")\n",
    "    merge.set_index(\"tile\", inplace=True)\n",
    "    merge.to_csv(base_path + \"merge.csv\")\n",
    "    \n",
    "# function that combines all tiles back to the image\n",
    "def plot_data_mapped(data_dir, patient, category = \"diff\"):\n",
    "    base_path = data_dir+patient+\"/Preprocessed_STDataset/\"\n",
    "    merge = pd.read_csv(base_path + \"merge.csv\")\n",
    "    merge[\"diff\"] = merge[\"labels\"] - merge[\"output\"]\n",
    "    merge.to_csv(base_path + \"merge.csv\")\n",
    "    plt.scatter(merge['x'], merge['y'], c=merge[category], cmap='viridis')\n",
    "    plt.colorbar(label='labels')\n",
    "    plt.xlabel('X')\n",
    "    plt.ylabel('Y')\n",
    "    plt.title(category + \" for patient \" + patient)\n",
    "    plt.show()\n",
    "    #merge.plot.scatter(x=\"x\", y=\"y\")\n",
    "    \n",
    "def plot_hist_comparison(data_dir, patient):\n",
    "    base_path = data_dir+patient+\"/Preprocessed_STDataset/\"\n",
    "    merge = pd.read_csv(base_path + \"merge.csv\")\n",
    "    out = merge['output']\n",
    "    plt.hist(out)\n",
    "    plt.show()\n",
    "    labels = merge['labels']\n",
    "    plt.hist(labels)\n",
    "    plt.show()\n",
    "    \n",
    "    \n",
    "def print_metrics(data_dir, patient, metric):\n",
    "    base_path = data_dir+patient+\"/Preprocessed_STDataset/\"\n",
    "    merge = pd.read_csv(base_path + \"merge.csv\")\n",
    "    out = merge['output']\n",
    "    labels = merge['labels']\n",
    "    mean_out = out.mean()\n",
    "    std_out = out.std()\n",
    "    mean_labels = labels.mean()\n",
    "    std_labels = labels.std()\n",
    "    if metric == \"mean\":\n",
    "        print(\"mean diff: \", \"{:.4f}\".format(abs(mean_out-mean_labels)), \", mean out: \", \"{:.4f}\".format(mean_out), \", mean labels: \", \"{:.4f}\".format(mean_labels))\n",
    "    if metric == \"std\":\n",
    "        print(\"std diff: \", \"{:.4f}\".format(abs(std_out-std_labels)), \", std out: \", \"{:.4f}\".format(std_out), \", std labels: \", \"{:.4f}\".format(std_labels))\n",
    "\n",
    "def plot_hist_comparison(data_dir, patient):\n",
    "    base_path = data_dir+patient+\"/Preprocessed_STDataset/\"\n",
    "    merge = pd.read_csv(base_path + \"merge.csv\")\n",
    "    out = merge['output']\n",
    "    plt.hist(out)\n",
    "    plt.show()\n",
    "    labels = merge['labels']\n",
    "    plt.hist(labels)\n",
    "    plt.show()\n",
    "    \n",
    "    \n",
    "def print_metrics(data_dir, patient, metric):\n",
    "    base_path = data_dir+patient+\"/Preprocessed_STDataset/\"\n",
    "    merge = pd.read_csv(base_path + \"merge.csv\")\n",
    "    out = merge['output']\n",
    "    labels = merge['labels']\n",
    "    mean_out = out.mean()\n",
    "    std_out = out.std()\n",
    "    mean_labels = labels.mean()\n",
    "    std_labels = labels.std()\n",
    "    if metric == \"mean\":\n",
    "        print(\"mean diff: \", \"{:.4f}\".format(abs(mean_out-mean_labels)), \", mean out: \", \"{:.4f}\".format(mean_out), \", mean labels: \", \"{:.4f}\".format(mean_labels))\n",
    "    if metric == \"std\":\n",
    "        print(\"std diff: \", \"{:.4f}\".format(abs(std_out-std_labels)), \", std out: \", \"{:.4f}\".format(std_out), \", std labels: \", \"{:.4f}\".format(std_labels))\n",
    "    if metric == \"pearson\":\n",
    "        print(\"pearson corr: \" + scipy.stats.pearsonr(out, labels))\n",
    "    \n",
    "    \n",
    "    \n",
    "def plot_data_scatter(data_dir, patient, gene):\n",
    "    base_path = data_dir+patient+\"/Preprocessed_STDataset/\"\n",
    "    merge = pd.read_csv(base_path + \"merge.csv\")\n",
    "    plt.scatter(merge['output'], merge['labels'])\n",
    "    plt.text(x=-1, y=3 , s=\"pearson corr: \" + scipy.stats.pearsonr(merge['output'], merge['labels']))\n",
    "    plt.plot( [-2,3],[-2,3], color='red' )\n",
    "    plt.title(\"labels vs output for \" + patient + \" for gene \" + gene)\n",
    "    plt.xlabel('output')\n",
    "    plt.ylabel('target')\n",
    "    plt.show()\n",
    "    \n",
    "    \n",
    "def process_and_plot_patient(model, device, criterion, data_dir, patient, gene = \"RUBCNL\", results_filename = \"results.csv\"):\n",
    "    generate_results(model, device, criterion, data_dir, patient, gene, results_filename)\n",
    "    merge_data(data_dir, patient, results_filename)\n",
    "    plot_data_mapped(data_dir, patient, \"labels\")\n",
    "    plot_data_mapped(data_dir, patient, \"output\")\n",
    "    plot_data_mapped(data_dir, patient, \"diff\")\n",
    "    plot_data_scatter(data_dir, patient, gene)\n",
    "    print_metrics(data_dir, patient, \"mean\")\n",
    "    print_metrics(data_dir, patient, \"std\")\n",
    "    print_metrics(data_dir, patient, \"pearson\")\n",
    "    \n",
    "    print(\"----------------------------------------\")"
   ],
   "id": "d20aef39f0d2acec"
  },
  {
   "metadata": {},
   "cell_type": "code",
   "outputs": [],
   "execution_count": null,
   "source": [
    "models_per_epoch_dir = \"./RUBCNL_HLR_old_model/\"\n",
    "\n",
    "models_per_epoch = [os.path.basename(f) for f in os.scandir(models_per_epoch_dir)]\n",
    "#models_per_epoch = [f for f in os.scandir(models_per_epoch_dir)]\n",
    "m = models_per_epoch[0]\n",
    "\n",
    "model = MyNet(models.resnet50(weights=\"IMAGENET1K_V2\"))\n",
    "model.load_state_dict(torch.load(models_per_epoch_dir + m, map_location=torch.device(device)))\n",
    "process_and_plot_patient(model.to(device), device, criterion, data_dir, \"p007\", \"RUBCNL\", results_filename = \"slim_model_results.csv\")"
   ],
   "id": "6492b274b6fc483c"
  },
  {
   "metadata": {},
   "cell_type": "code",
   "outputs": [],
   "execution_count": null,
   "source": "process_and_plot_patient(old_model.to(device), device, criterion, data_dir, \"p007\", \"RUBCNL\", results_filename = \"slim_model_results.csv\")",
   "id": "bfc4bfcd62c03d69"
  },
  {
   "metadata": {},
   "cell_type": "code",
   "outputs": [],
   "execution_count": null,
   "source": [
    "import os\n",
    "patients = [os.path.basename(f) for f in os.scandir(data_dir) if f.is_dir()]\n",
    "patients = patients[0:-1]#drop p008\n",
    "print(patients)\n",
    "for patient in patients:\n",
    "    generate_results(model.to(device), device, criterion, data_dir, patient, \"RUBCNL\", \"results_slim_model.csv\")"
   ],
   "id": "d37f6eeee1fd4e4"
  },
  {
   "metadata": {},
   "cell_type": "code",
   "outputs": [],
   "execution_count": null,
   "source": [
    "#------------------------------------------------------------------------------\n",
    "def pearson_calc(test_df, true, preds, params):\n",
    "  for j in range(len(true)):\n",
    "    pearson_name = true[j].replace(\"true\", \"pearson\")\n",
    "    pearson_name = pearson_name + \"_\"+str(params[1])+\"_\"+params[2]+\"_\"+sample\n",
    "    pearson = stats.pearsonr(test_df[true[j]], test_df[preds[j]])\n",
    "    with open(test_log, \"a\") as f:\n",
    "      f.write(pearson_name + \": \" + (\"%.4f\" % pearson[0]))\n",
    "      f.write(\"\\n\")\n",
    "      f.write(\"-----------------------------------\")\n",
    "      f.write(\"\\n\")\n",
    "    pearson_save_name = data_dir + date + \"_ST_Predict_absolute_single_\"+str(params[1])+\"_\" + params[2] +\"_\" + gene_list[0]+ params[0] + \"pearson.pkl\"\n",
    "    with open(pearson_save_name, 'wb') as f: \n",
    "      pickle.dump([pearson], f)\n",
    "#------------------------------------------------------------------------------"
   ],
   "id": "17f13ec8e8312285"
  },
  {
   "metadata": {},
   "cell_type": "code",
   "outputs": [],
   "execution_count": null,
   "source": [
    "def calc_residuals(test_df, true, preds):\n",
    "  for i in range(len(true)):\n",
    "    test_df[true[i]] = test_df[true[i]].astype(float)\n",
    "    test_df[preds[i]] = test_df[preds[i]].astype(float)\n",
    "    res_name = true[i].replace(\"true\", \"residuals\")\n",
    "    res_abs_name = true[i].replace(\"true\", \"residuals_abs\")\n",
    "    test_df[res_name] = test_df[true[i]] - test_df[preds[i]]\n",
    "    test_df[res_abs_name] = test_df[res_name].abs()\n",
    "  return test_df"
   ],
   "id": "2dd4e10b679f50e1"
  },
  {
   "metadata": {},
   "cell_type": "code",
   "outputs": [],
   "execution_count": null,
   "source": [
    "import os\n",
    "data_dir = \"./data/\"\n",
    "patients = [os.path.basename(f) for f in os.scandir(data_dir) if f.is_dir()]\n",
    "patients = patients[0:-1]\n",
    "print(patients)\n",
    "for patient in patients:\n",
    "    if patient == 'p008':\n",
    "        continue\n",
    "    filename = data_dir + \"/\" + patient + \"/Preprocessed_STDataset/spatial_data.csv\"\n",
    "    spatial_matrix = pd.read_csv(data_dir+patient+\"/Preprocessed_STDataset/Raw_Spatial_Matrix_156_\"+patient+\".csv\") #adapt to sample\n",
    "    spatial_matrix['tile'] = spatial_matrix['tile'].apply(lambda x: \"{}{}\".format(x, \".tiff\"))\n",
    "    spatial_matrix['tile'] = spatial_matrix['tile'].apply(lambda x: \"{}{}\".format(data_dir+patient+\"/Tiles_156/\", x[57:])) #adapt to sample\n",
    "    spatial_matrix['path'] = spatial_matrix['tile']\n",
    "    spatial_matrix['tile'] = spatial_matrix['tile'].apply(lambda x: os.path.basename(x))\n",
    "    spatial_matrix.to_csv(filename, index=False)"
   ],
   "id": "5ad132e0105d825"
  },
  {
   "metadata": {},
   "cell_type": "code",
   "outputs": [],
   "execution_count": null,
   "source": [
    "\n",
    "for patient in patients:\n",
    "    merge_data(data_dir, patient, \"results_slim_model.csv\")"
   ],
   "id": "27f4cf3d3d98954a"
  },
  {
   "metadata": {},
   "cell_type": "code",
   "outputs": [],
   "execution_count": null,
   "source": [
    "\n",
    "    \n",
    "print(patients)\n",
    "for patient in patients:\n",
    "    \n",
    "    if patient == 'p008':\n",
    "        continue\n",
    "    plot_data_mapped(data_dir, patient, \"labels\")\n",
    "    plot_data_mapped(data_dir, patient, \"output\")\n",
    "    plot_data_mapped(data_dir, patient, \"diff\")\n",
    "    print(\"----------------------------------------\")"
   ],
   "id": "a06c834007f13636"
  },
  {
   "metadata": {},
   "cell_type": "code",
   "outputs": [],
   "execution_count": null,
   "source": [
    "# function that combines all tiles back to the image\n",
    "\n",
    "    #merge.plot.scatter(x=\"x\", y=\"y\")\n",
    "for patient in patients:\n",
    "    \n",
    "    \n",
    "    if patient == 'p008':\n",
    "        continue\n",
    "    plot_data_scatter(data_dir, patient)"
   ],
   "id": "e5d04f6302185922"
  },
  {
   "metadata": {},
   "cell_type": "code",
   "outputs": [],
   "execution_count": null,
   "source": [
    "\n",
    "for patient in patients:\n",
    "    \n",
    "    if patient == 'p008':\n",
    "        continue\n",
    "    print_metrics(data_dir, patient, \"mean\")\n",
    "for patient in patients:\n",
    "    \n",
    "    if patient == 'p008':\n",
    "        continue\n",
    "    print_metrics(data_dir, patient, \"std\")\n",
    "    "
   ],
   "id": "13b095b76e284e22"
  },
  {
   "metadata": {},
   "cell_type": "code",
   "outputs": [],
   "execution_count": null,
   "source": "from scipy import stats\n",
   "id": "782f74c94fa88992"
  },
  {
   "metadata": {},
   "cell_type": "code",
   "outputs": [],
   "execution_count": null,
   "source": [
    "for patient in patients:\n",
    "    base_path = data_dir+patient+\"/Preprocessed_STDataset/\"\n",
    "    merge = pd.read_csv(base_path + \"merge.csv\")\n",
    "    corr = stats.pearsonr(merge['output'], merge['labels'])\n",
    "    print(corr)"
   ],
   "id": "52ef763de4928b90"
  },
  {
   "metadata": {},
   "cell_type": "code",
   "outputs": [],
   "execution_count": null,
   "source": "print(corr)",
   "id": "5fbca42353745de5"
  },
  {
   "metadata": {},
   "cell_type": "code",
   "outputs": [],
   "execution_count": null,
   "source": "",
   "id": "cfe2a40952bc9caf"
  },
  {
   "metadata": {},
   "cell_type": "code",
   "outputs": [],
   "execution_count": null,
   "source": "process_and_plot_patient(model, device, criterion, data_dir, patient, \"RUBCNL\", results_filename = \"slim_model_results.csv\")",
   "id": "a92cb90afef44468"
  },
  {
   "metadata": {},
   "cell_type": "code",
   "outputs": [],
   "execution_count": null,
   "source": [
    "old_model = get_model()\n",
    "path = \"./10082023_RUBCNL_ST_absolute_single_64_NLR_loss_resnet50.pt\"\n",
    "old_model = old_model.load_state_dict(torch.load(path, map_location=torch.device('cpu')))"
   ],
   "id": "8ad6de37b86ebfb8"
  },
  {
   "metadata": {},
   "cell_type": "code",
   "outputs": [],
   "execution_count": null,
   "source": [
    "\n",
    "def get_res18(path):\n",
    "    class Res18(nn.Module):\n",
    "        def __init__(self, ciga):\n",
    "            super(Res18, self).__init__()\n",
    "            self.pretrained = ciga\n",
    "\n",
    "            self.gene1 = nn.Sequential(nn.Linear(512, 200), nn.ReLU(), nn.Linear(200, 1))\n",
    "\n",
    "        def forward(self, x):\n",
    "            x = self.pretrained(x)\n",
    "            x = self.gene1(x)\n",
    "            return x\n",
    "\n",
    "    ciga = models.resnet18()\n",
    "    ciga.fc = torch.nn.Sequential()\n",
    "    res18 = Res18(ciga)\n",
    "    res18.load_state_dict(torch.load(path, map_location=torch.device('cpu')))\n",
    "    return(res18)"
   ],
   "id": "950ee2aa19c35e44"
  },
  {
   "metadata": {},
   "cell_type": "code",
   "outputs": [],
   "execution_count": null,
   "source": [
    "path = \"./RUBCNL_HLR_old_model_now_all_layers/11072024_ep_29_lr_0.0005resnet.pt\"\n",
    "res18_no_ice = get_res18(path).to(device)\n",
    "path = \"./resnet_iced_e29.pt\"\n",
    "res18_ice    = get_res18(path)"
   ],
   "id": "7110eeaff28b1337"
  },
  {
   "metadata": {},
   "cell_type": "code",
   "outputs": [],
   "execution_count": null,
   "source": "ms = [res18]",
   "id": "894a874622d46055"
  },
  {
   "metadata": {},
   "cell_type": "code",
   "outputs": [],
   "execution_count": null,
   "source": [
    "#val 9 13\n",
    "for patient in patients:\n",
    "    if patient == \"p008\":\n",
    "        continue\n",
    "    process_and_plot_patient(res18_no_ice, device, criterion, data_dir, patient, \"RUBCNL\", results_filename = \"slim_model_results.csv\")"
   ],
   "id": "9720ef2e68e2a347"
  },
  {
   "metadata": {},
   "cell_type": "code",
   "outputs": [],
   "execution_count": null,
   "source": [
    "\n",
    "def get_res18(path):\n",
    "    class Res18(nn.Module):\n",
    "        def __init__(self, ciga):\n",
    "            super(Res18, self).__init__()\n",
    "            self.pretrained = ciga\n",
    "\n",
    "            self.gene1 = nn.Sequential(nn.Linear(512, 200), nn.ReLU(), nn.Linear(200, 1))\n",
    "\n",
    "        def forward(self, x):\n",
    "            x = self.pretrained(x)\n",
    "            x = self.gene1(x)\n",
    "            return x\n",
    "\n",
    "    ciga = models.resnet18()\n",
    "    ciga.fc = torch.nn.Sequential()\n",
    "    res18 = Res18(ciga)\n",
    "    print(res18.load_state_dict(torch.load(path, map_location=torch.device('cpu'))))\n",
    "    return(res18)\n",
    "def get_MyNet2(path):\n",
    "    class MyNet2(nn.Module):\n",
    "        def __init__(self, my_pretrained_model=models.resnet50(weights=\"IMAGENET1K_V2\")):\n",
    "            super(MyNet2, self).__init__()\n",
    "            self.pretrained = my_pretrained_model\n",
    "    \n",
    "            self.gene1 = nn.Sequential(nn.Linear(1000, 200), nn.ReLU(), nn.Linear(200, 1))\n",
    "    \n",
    "        def forward(self, x):\n",
    "            x = self.pretrained(x)\n",
    "            gene1 = self.gene1(x)\n",
    "            return gene1\n",
    "    net = MyNet2()\n",
    "    \n",
    "    print(net.load_state_dict(torch.load(path, map_location=torch.device('cpu'))))\n",
    "    \n",
    "    return net\n",
    "    "
   ],
   "id": "d5178d77d06c53e4"
  },
  {
   "metadata": {},
   "cell_type": "code",
   "outputs": [],
   "execution_count": null,
   "source": [
    "path = \"./RUBCNL_HLR_old_model_now_all_layers/11072024_ep_29_lr_0.0005resnet.pt\"\n",
    "res50 = get_M(path)\n",
    "path = \"./res18_not_iced_e29.pt\"\n",
    "res18_no_ice = get_res18(path).to(device)\n",
    "path = \"./res18_iced_e29.pt\"\n",
    "res18_ice    = get_res18(path)\n",
    "ms = [res50,res18_no_ice,res18_ice]"
   ],
   "id": "dd643255f2efe08b"
  },
  {
   "cell_type": "code",
   "execution_count": 22,
   "id": "88a5bcbc-35fe-41f3-97de-a242bd5c407a",
   "metadata": {},
   "outputs": [],
   "source": [
    "import torch.nn as nn\n",
    "class MyNet3(nn.Module):\n",
    "    def __init__(self, my_pretrained_model):\n",
    "        super(MyNet3, self).__init__()\n",
    "        self.pretrained = my_pretrained_model\n",
    "\n",
    "\n",
    "        self.my_new_layers = nn.Sequential(nn.Linear(1000, 200),\n",
    "                                            nn.ReLU(),\n",
    "                                            nn.BatchNorm1d(200),\n",
    "                                            nn.Dropout(0.3),\n",
    "                                            nn.Linear(200, 1))\n",
    "\n",
    "\n",
    "    def forward(self, x):\n",
    "        x = self.pretrained(x)\n",
    "        output = self.my_new_layers(x)\n",
    "        #output = nn.functional.log_softmax(x, dim=1) #adapt output function to prediction task\n",
    "        return output"
   ]
  },
  {
   "cell_type": "code",
   "execution_count": 76,
   "id": "9c56f44e-aac4-4bda-9aff-5d64132fed23",
   "metadata": {},
   "outputs": [],
   "source": [
    "import torchvision\n",
    "old_model = MyNet3(torchvision.models.resnet50(weights=\"IMAGENET1K_V2\"))\n",
    "path = \"./10082023_RUBCNL_ST_absolute_single_64_NLR_loss_resnet50.pt\"\n",
    "old_model.load_state_dict(torch.load(path, map_location=torch.device('cpu')))"
   ]
  },
  {
   "cell_type": "code",
   "execution_count": 83,
   "id": "d0382bdb-8e18-4c45-999a-0d692f211728",
   "metadata": {
    "collapsed": true,
    "jupyter": {
     "outputs_hidden": true
    },
    "tags": []
   },
   "outputs": [],
   "source": [
    "print(old_model)"
   ]
  },
  {
   "cell_type": "code",
   "execution_count": 77,
   "id": "a24c4674-79a6-4256-a1b4-7925057588e2",
   "metadata": {
    "collapsed": true,
    "jupyter": {
     "outputs_hidden": true
    },
    "tags": []
   },
   "outputs": [],
   "source": [
    "for patient in patients:\n",
    "    generate_results(old_model.to(device), device, torch.nn.CrossEntropyLoss(), data_dir, patient, \"RUBCNL\", \"results_slim_model.csv\")"
   ]
  },
  {
   "cell_type": "code",
   "execution_count": null,
   "id": "d0c27a8e-406e-49f2-9e6c-fb4a534e52aa",
   "metadata": {},
   "outputs": [],
   "source": []
  }
 ],
 "metadata": {
  "kernelspec": {
   "display_name": "Python 3 (ipykernel)",
   "language": "python",
   "name": "python3"
  },
  "language_info": {
   "codemirror_mode": {
    "name": "ipython",
    "version": 3
   },
   "file_extension": ".py",
   "mimetype": "text/x-python",
   "name": "python",
   "nbconvert_exporter": "python",
   "pygments_lexer": "ipython3",
   "version": "3.10.7"
  }
 },
 "nbformat": 4,
 "nbformat_minor": 5
}
