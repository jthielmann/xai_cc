{
 "cells": [
  {
   "cell_type": "code",
   "execution_count": 8,
   "id": "f40286b3-2199-475a-a984-beea7035303e",
   "metadata": {},
   "source": [
    "import torch\n",
    "import torch.nn as nn\n",
    "from func import *\n",
    "import plot"
   ],
   "outputs": []
  },
  {
   "cell_type": "code",
   "execution_count": 10,
   "id": "4002c006-1172-46f4-8006-9fd200980023",
   "metadata": {
    "collapsed": true,
    "jupyter": {
     "outputs_hidden": true
    },
    "tags": []
   },
   "source": [
    "model = MyNet(my_pretrained_model=models.resnet50(weights=\"IMAGENET1K_V2\"))\n",
    "path = \"./results_prev/results_RUBCNL/09062024_single__5e-06resnet.pt\"\n",
    "model.load_state_dict(torch.load(path))\n",
    "model.eval()"
   ],
   "outputs": []
  },
  {
   "cell_type": "code",
   "execution_count": 12,
   "id": "98de7e2f-dad0-4fba-8842-d7f1b7ad3836",
   "metadata": {},
   "source": [
    "import zennit as zen"
   ],
   "outputs": []
  },
  {
   "cell_type": "code",
   "execution_count": 14,
   "id": "131e712d-1e03-432c-97f8-d2ea378d279f",
   "metadata": {},
   "source": [
    "# use the ResNet-specific canonizer\n",
    "canonizer = zen.torchvision.ResNetCanonizer()\n",
    "# create a composite, specifying the canonizers\n",
    "composite = EpsilonPlusFlat(canonizers=[canonizer])\n"
   ],
   "outputs": []
  },
  {
   "cell_type": "code",
   "execution_count": null,
   "id": "71bbdd97-2ffc-4584-97d0-57c14c542895",
   "metadata": {},
   "source": [
    "\n",
    "# create a composite, specifying the canonizers\n",
    "composite = EpsilonPlusFlat(canonizers=[canonizer])\n",
    "\n",
    "# choose a target class for the attribution (label 437 is lighthouse)\n",
    "target = torch.eye(1000)[[437]]\n",
    "\n",
    "# create the attributor, specifying model and composite\n",
    "with Gradient(model=model, composite=composite) as attributor:\n",
    "    # compute the model output and attribution\n",
    "    output, attribution = attributor(data, target)\n",
    "\n",
    "print(f'Prediction: {output.argmax(1)[0].item()}')\n"
   ],
   "outputs": []
  }
 ],
 "metadata": {
  "kernelspec": {
   "display_name": "Python 3 (ipykernel)",
   "language": "python",
   "name": "python3"
  },
  "language_info": {
   "codemirror_mode": {
    "name": "ipython",
    "version": 3
   },
   "file_extension": ".py",
   "mimetype": "text/x-python",
   "name": "python",
   "nbconvert_exporter": "python",
   "pygments_lexer": "ipython3",
   "version": "3.10.7"
  }
 },
 "nbformat": 4,
 "nbformat_minor": 5
}
